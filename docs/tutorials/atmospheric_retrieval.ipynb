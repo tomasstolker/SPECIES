{
 "cells": [
  {
   "cell_type": "markdown",
   "id": "93f9b816",
   "metadata": {},
   "source": [
    "# Atmospheric retrieval with petitRADTRANS"
   ]
  },
  {
   "cell_type": "markdown",
   "id": "91fb3ba5",
   "metadata": {},
   "source": [
    "This is a tutorial for atmospheric retrievals with [petitRADTRANS](https://petitradtrans.readthedocs.io) for which we will use NIR spectra of the directly imaged planet [beta Pic b](https://exoplanets.nasa.gov/exoplanet-catalog/7040/beta-pictoris-b/). Free retrievals are computationally expensive due to the high number of parameter dimensions and the scattering radiative transfer that is important in cloudy atmospheres (see [Mollière et al. 2020](https://ui.adsabs.harvard.edu/abs/2020A%26A...640A.131M/abstract)). Similar to [FitModel](https://species.readthedocs.io/en/latest/species.analysis.html#species.analysis.fit_model.FitModel), the nested sampling supports multiprocessing so it recommended to run free retrievals on a cluster. Before starting, ``petitRADTRANS`` should be installed together with the line and continuum opacities (see [installation instructions](https://petitradtrans.readthedocs.io/en/latest/content/installation.html))."
   ]
  },
  {
   "cell_type": "markdown",
   "id": "27b4258d",
   "metadata": {},
   "source": [
    "When running a retrieval, it is important to comment out any of the functions that access the [Database](https://species.readthedocs.io/en/latest/species.data.html#species.data.database.Database) because writing to the HDF5 file is not possible with multiprocessing. Therefore, the companion data should first be added to the database, then [AtmosphericRetrieval](https://species.readthedocs.io/en/latest/species.analysis.html#species.analysis.retrieval.AtmosphericRetrieval) and [run_multinest](https://species.readthedocs.io/en/latest/species.analysis.html#species.analysis.retrieval.AtmosphericRetrieval.run_multinest) can be executed, and finally the results can be extracted and plotted while commenting out the retrieval part or using a separate script."
   ]
  },
  {
   "cell_type": "markdown",
   "id": "f6cd8aa1",
   "metadata": {},
   "source": [
    "Once `species` and `petitRADTRANS` are fully installed, we can get started with the retrieval!"
   ]
  },
  {
   "cell_type": "markdown",
   "id": "5bc2814c",
   "metadata": {},
   "source": [
    "## Getting started"
   ]
  },
  {
   "cell_type": "markdown",
   "id": "743169d6",
   "metadata": {},
   "source": [
    "We start by adding the library path of ``MultiNest`` to the ``DYLD_LIBRARY_PATH`` environment variable such that ``PyMultiNest`` can find the compiled library (see [installation instructions](https://johannesbuchner.github.io/PyMultiNest/install.html))."
   ]
  },
  {
   "cell_type": "code",
   "execution_count": 1,
   "id": "b6ee07f3",
   "metadata": {},
   "outputs": [],
   "source": [
    "import os\n",
    "os.environ['DYLD_LIBRARY_PATH'] = '/Users/tomasstolker/applications/MultiNest/lib'"
   ]
  },
  {
   "cell_type": "markdown",
   "id": "c496dff5",
   "metadata": {},
   "source": [
    "Next, we import the `species` toolkit and initiate the workflow with an instance of the [SpeciesInit](https://species.readthedocs.io/en/latest/species.core.html#species.core.init.SpeciesInit) class. This will create the HDF5 database and the [configuration file](https://species.readthedocs.io/en/latest/configuration.html) in the working folder. If one of these files was already present, then the existing database and/or configuration will be used."
   ]
  },
  {
   "cell_type": "code",
   "execution_count": 2,
   "id": "78bb3ca2",
   "metadata": {},
   "outputs": [
    {
     "name": "stdout",
     "output_type": "stream",
     "text": [
      "Initiating species v0.4.0... [DONE]\n",
      "Creating species_config.ini... [DONE]\n",
      "Database: /Users/tomasstolker/applications/species/docs/tutorials/species_database.hdf5\n",
      "Data folder: /Users/tomasstolker/applications/species/docs/tutorials/data\n",
      "Working folder: /Users/tomasstolker/applications/species/docs/tutorials\n",
      "Creating species_database.hdf5... [DONE]\n",
      "Creating data folder... [DONE]\n"
     ]
    },
    {
     "data": {
      "text/plain": [
       "<species.core.init.SpeciesInit at 0x10ff68850>"
      ]
     },
     "execution_count": 2,
     "metadata": {},
     "output_type": "execute_result"
    }
   ],
   "source": [
    "import species\n",
    "species.SpeciesInit()"
   ]
  },
  {
   "cell_type": "markdown",
   "id": "f26731f0",
   "metadata": {},
   "source": [
    "## Adding observational data to the database"
   ]
  },
  {
   "cell_type": "markdown",
   "id": "70942ece",
   "metadata": {},
   "source": [
    "The database is used by ``species`` as the central storage for models, data, and results. The data in the HDF5 file is accessed through the [Database](https://species.readthedocs.io/en/latest/species.data.html#species.data.database.Database) class. As mentioned already, it is best to add the data beforehand and comment out the database part when executing the retrieval part on a cluster with multi-core processing. To access the HDF5 file, we start by creating an instance of [Database](https://species.readthedocs.io/en/latest/species.data.html#species.data.database.Database)."
   ]
  },
  {
   "cell_type": "code",
   "execution_count": 3,
   "id": "a5783b82",
   "metadata": {},
   "outputs": [],
   "source": [
    "database = species.Database()"
   ]
  },
  {
   "cell_type": "markdown",
   "id": "4c6c0c12",
   "metadata": {},
   "source": [
    "Next, we simply use the [add_companion](https://species.readthedocs.io/en/latest/species.data.html#species.data.database.add_companion) method to automatically add some of the [available spectra, magnitudes, and distance](https://github.com/tomasstolker/species/blob/master/species/data/companions.py) of beta Pic b to the `Database`. This includes the GRAVITY $K$ band spectrum from  and and the GPI $YJH$ band spectrum from [Chilcote et al. 2017](https://ui.adsabs.harvard.edu/abs/2017AJ....153..182C/abstract). The magnitudes will be calibrated into fluxes with the filter profiles and a flux-calibrated spectrum of Vega."
   ]
  },
  {
   "cell_type": "code",
   "execution_count": 4,
   "id": "dac94927",
   "metadata": {},
   "outputs": [
    {
     "name": "stdout",
     "output_type": "stream",
     "text": [
      "Getting GPI_YJHK spectrum of beta Pic b... [DONE]\n",
      "IMPORTANT: Please cite Chilcote et al. 2017, AJ, 153, 182\n",
      "           when making use of this spectrum in a publication\n",
      "Getting GRAVITY spectrum of beta Pic b... [DONE]\n",
      "IMPORTANT: Please cite Gravity Collaboration et al. 2020, A&A, 633, 110\n",
      "           when making use of this spectrum in a publication\n",
      "Downloading Vega spectrum (270 kB)... [DONE]\n",
      "Adding Vega spectrum... [DONE]\n",
      "Adding filter: Magellan/VisAO.Ys... [DONE]\n",
      "Adding filter: Paranal/NACO.J... [DONE]\n",
      "Adding filter: Gemini/NICI.ED286... [DONE]\n",
      "Adding filter: Paranal/NACO.H... [DONE]\n",
      "Adding filter: Paranal/NACO.Ks... [DONE]\n",
      "Adding filter: Paranal/NACO.NB374... [DONE]\n",
      "Adding filter: Paranal/NACO.Lp... [DONE]\n",
      "Adding filter: Paranal/NACO.NB405... [DONE]\n",
      "Adding filter: Paranal/NACO.Mp... [DONE]\n",
      "Adding object: beta Pic b\n",
      "   - Distance (pc) = 19.75 +/- 0.13\n",
      "   - Magellan/VisAO.Ys:\n",
      "      - Apparent magnitude = 15.53 +/- 0.34\n",
      "      - Flux (W m-2 um-1) = 4.25e-15 +/- 1.35e-15\n",
      "   - Paranal/NACO.J:\n",
      "      - Apparent magnitude = 14.11 +/- 0.21\n",
      "      - Flux (W m-2 um-1) = 6.87e-15 +/- 1.34e-15\n",
      "   - Gemini/NICI.ED286:\n",
      "      - Apparent magnitude = 13.18 +/- 0.15\n",
      "      - Flux (W m-2 um-1) = 6.99e-15 +/- 9.69e-16\n",
      "   - Paranal/NACO.H:\n",
      "      - Apparent magnitude = 13.32 +/- 0.14\n",
      "      - Flux (W m-2 um-1) = 5.47e-15 +/- 7.08e-16\n",
      "   - Paranal/NACO.Ks:\n",
      "      - Apparent magnitude = 12.64 +/- 0.11\n",
      "      - Flux (W m-2 um-1) = 4.04e-15 +/- 4.10e-16\n",
      "   - Paranal/NACO.NB374:\n",
      "      - Apparent magnitude = 11.25 +/- 0.23\n",
      "      - Flux (W m-2 um-1) = 1.69e-15 +/- 3.61e-16\n",
      "   - Paranal/NACO.Lp:\n",
      "      - Apparent magnitude = 11.30 +/- 0.06\n",
      "      - Flux (W m-2 um-1) = 1.59e-15 +/- 8.79e-17\n",
      "   - Paranal/NACO.NB405:\n",
      "      - Apparent magnitude = 10.98 +/- 0.05\n",
      "      - Flux (W m-2 um-1) = 1.61e-15 +/- 7.42e-17\n",
      "   - Paranal/NACO.Mp:\n",
      "      - Apparent magnitude = 11.10 +/- 0.12\n",
      "      - Flux (W m-2 um-1) = 7.86e-16 +/- 8.70e-17\n",
      "   - Spectrum:\n"
     ]
    },
    {
     "name": "stderr",
     "output_type": "stream",
     "text": [
      "/Users/tomasstolker/applications/species/species/data/database.py:935: UserWarning: Found 33 fluxes with NaN in the data of GPI_YJHK. Removing the spectral fluxes that contain a NaN.\n",
      "  warnings.warn(\n"
     ]
    },
    {
     "name": "stdout",
     "output_type": "stream",
     "text": [
      "      - Database tag: GPI_YJHK\n",
      "      - Filename: ./data/companion_data/betapicb_gpi_yjhk.dat\n",
      "      - Data shape: (152, 3)\n",
      "      - Wavelength range (um): 0.98 - 2.37\n",
      "      - Mean flux (W m-2 um-1): 5.40e-15\n",
      "      - Mean error (W m-2 um-1): 6.44e-16\n",
      "   - GRAVITY spectrum:\n",
      "      - Object: Unknown\n",
      "      - Database tag: GRAVITY\n",
      "      - Filename: ./data/companion_data/BetaPictorisb_2018-09-22.fits\n",
      "      - Data shape: (237, 3)\n",
      "      - Wavelength range (um): 1.97 - 2.49\n",
      "      - Mean flux (W m-2 um-1): 4.65e-15\n",
      "      - Mean error (W m-2 um-1): 1.00e-16\n",
      "   - GRAVITY covariance matrix:\n",
      "      - Object: Unknown\n",
      "      - Database tag: GRAVITY\n",
      "      - Filename: ./data/companion_data/BetaPictorisb_2018-09-22.fits\n",
      "      - Data shape: (237, 237)\n",
      "   - Spectral resolution:\n",
      "      - GPI_YJHK: 40.0\n",
      "      - GRAVITY: 500.0\n"
     ]
    }
   ],
   "source": [
    "database.add_companion('beta Pic b')"
   ]
  },
  {
   "cell_type": "markdown",
   "id": "3e665da6",
   "metadata": {},
   "source": [
    "Instead of using [add_companion](https://species.readthedocs.io/en/latest/species.data.html#species.data.database.add_companion), it is also possible to manually add the data of an object with the [add_object](https://species.readthedocs.io/en/latest/species.data.html#species.data.database.add_object) method. See [this tutorial](https://species.readthedocs.io/en/latest/tutorials/fitting_model_spectra.html) on fitting data with a grid of model spectra for an example."
   ]
  },
  {
   "cell_type": "markdown",
   "id": "3e58dc18",
   "metadata": {},
   "source": [
    "## Atmospheric retrieval of abundances, clouds, and P-T structure"
   ]
  },
  {
   "cell_type": "markdown",
   "id": "20b31f4b",
   "metadata": {},
   "source": [
    "We are now ready to start the retrieval! We start by creating an instance of [AtmosphericRetrieval](https://species.readthedocs.io/en/latest/species.data.html#species.analysis.retrieval.AtmosphericRetrieval). Here we provide among others the database tag of the planet data, the line and cloud species that should be included in the forward model, and if scattering should be turned on with the radiative transfer. Scattering will make the calculation of the forward model much slower but is important for cloudy atmospheres."
   ]
  },
  {
   "cell_type": "code",
   "execution_count": 5,
   "id": "a6cbbcea",
   "metadata": {},
   "outputs": [
    {
     "name": "stdout",
     "output_type": "stream",
     "text": [
      "Object: beta Pic b\n",
      "Distance: 19.75\n",
      "Line species:\n",
      "   - CO_all_iso_HITEMP\n",
      "   - H2O_HITEMP\n",
      "   - CH4\n",
      "   - NH3\n",
      "   - CO2\n",
      "   - H2S\n",
      "   - Na_allard\n",
      "   - K_allard\n",
      "   - PH3\n",
      "   - VO_Plez\n",
      "   - TiO_all_Exomol\n",
      "   - FeH\n",
      "Cloud species:\n",
      "   - MgSiO3(c)_cd\n",
      "   - Fe(c)_cd\n",
      "Line-by-line species: None\n",
      "Scattering: True\n",
      "Getting object: beta Pic b... [DONE]\n",
      "Photometric data:\n",
      "Spectroscopic data:\n",
      "   - GRAVITY\n",
      "     Wavelength range (um) = 1.97 - 2.49\n",
      "     Spectral resolution = 500.00\n",
      "Initiating 180 pressure levels (bar): 1.00e-06 - 1.00e+03\n",
      "Weights for the log-likelihood function:\n",
      "   - GPI-Y = 1.00e+00\n",
      "   - GPI-J = 1.00e+00\n",
      "   - GPI-H = 1.00e+00\n",
      "   - GRAVITY = 1.00e+00\n"
     ]
    }
   ],
   "source": [
    "retrieve = species.AtmosphericRetrieval(object_name='beta Pic b',\n",
    "                                        line_species=['CO_all_iso_HITEMP', 'H2O_HITEMP', 'CH4', 'NH3', 'CO2', 'H2S', 'Na_allard', 'K_allard', 'PH3', 'VO_Plez', 'TiO_all_Exomol', 'FeH'],\n",
    "                                        cloud_species=['MgSiO3(c)_cd', 'Fe(c)_cd'],\n",
    "                                        scattering=True,\n",
    "                                        output_folder='multinest',\n",
    "                                        wavel_range=(1.1, 2.46),\n",
    "                                        inc_spec=['GPI-Y', 'GPI-J', 'GPI-H', 'GRAVITY'],\n",
    "                                        inc_phot=False,\n",
    "                                        pressure_grid='smaller',\n",
    "                                        weights=None)"
   ]
  },
  {
   "cell_type": "markdown",
   "id": "befe604c",
   "metadata": {},
   "source": [
    "Next, we execute the actual retrieval with [run_multinest](https://species.readthedocs.io/en/latest/species.data.html#species.analysis.retrieval.AtmosphericRetrieval.run_multinest). The nested sampling algorithm supports multiprocessing so make sure to use MPI when running on a cluster. For testing purpose this is not required though since it also runs without MPI."
   ]
  },
  {
   "cell_type": "markdown",
   "id": "cc3f3210",
   "metadata": {},
   "source": [
    "The `run_multinest` method has some parameters that are used by the forward model (e.g. specifying the type of chemistry with `chemistry` and the P-T parametrization with `pt_profile`). There is also a dictionary required as argument of `bounds`, to set the boundaries of the priors that are either uniform or log-uniform priors. The latter is for parameters typically starting with `log_`. There is an additional parameter called `prior`, which can be used as Gaussian prior on any of the parameters (including the planet mass).\n",
    "\n",
    "Not all the parameters that are included in `bounds` are mandatory so some will only be included in the model if they are provided in the dictionary. Furthermore, there are various parametrizations for the clouds available. The model that is used is also determined by the parameters that are included. In fact, in the example below, only the surface gravity (`logg`) and radius (`radius`) are mandatory parameters.\n",
    "\n",
    "In this case, the C/O ratio and metallicity are free parameter because we are using a chemical equilibrium model. We also retrieve the cloud mass fractions relative to the equilibrium abundances (`mgsio3_fraction` and `fe_fraction`), the sedimentation parameter (`fsed`; determines the vertical extent of the clouds), the eddy diffusion coefficient (`log_kzz`; determines the particles sizes of the clouds), and the width of the log-normal size distribution (`sigma_lnorm`) for the cloud particles. Finally, we fit a scaling (`GPI_scaling`) to the GPI fluxes to account for a systematic difference with the GRAVITY spectrum and use a Gaussian process to model the covariances in the GPI spectrum (see `fit_corr` parameter)."
   ]
  },
  {
   "cell_type": "code",
   "execution_count": null,
   "id": "457ef462",
   "metadata": {},
   "outputs": [],
   "source": [
    "retrieve.run_multinest(bounds={'logg': (2., 6.),\n",
    "                               'c_o_ratio': (0.1, 1.5),\n",
    "                               'metallicity': (-3., 3.),\n",
    "                               'radius': (0.1, 5.),\n",
    "                               'fsed': (0., 10.),\n",
    "                               'log_kzz': (1., 15.),\n",
    "                               'sigma_lnorm': (1.05, 5.),\n",
    "                               'mgsio3_fraction': (-3., 1.),\n",
    "                               'fe_fraction': (-3., 1.),\n",
    "                               'GPI': ((0.8, 1.2), None, None)},\n",
    "                       chemistry='equilibrium',\n",
    "                       quenching='pressure',\n",
    "                       pt_profile='molliere',\n",
    "                       fit_corr=['GPI'],\n",
    "                       n_live_points=1000,\n",
    "                       resume=True,\n",
    "                       plotting=False,\n",
    "                       pt_smooth=None,\n",
    "                       check_flux=None,\n",
    "                       temp_nodes=None,\n",
    "                       prior={'mass': (9., 1.6)})"
   ]
  },
  {
   "cell_type": "markdown",
   "id": "88093a0e",
   "metadata": {},
   "source": [
    "We will not run the actual retrieval since it will take too long. Instead, we will download the results as they would be stored in the `output_folder`."
   ]
  },
  {
   "cell_type": "code",
   "execution_count": null,
   "id": "0bacd81d",
   "metadata": {},
   "outputs": [],
   "source": [
    "import urllib.request\n",
    "urllib.request.urlretrieve('https://home.strw.leidenuniv.nl/~stolker/species/retrieval.tgz',\n",
    "                           'retrieval.tgz')"
   ]
  },
  {
   "cell_type": "markdown",
   "id": "f8577fc6",
   "metadata": {},
   "source": [
    "And we unpack this compressed TAR archive that includes the output from `MultiNest`."
   ]
  },
  {
   "cell_type": "code",
   "execution_count": null,
   "id": "ae8db8fd",
   "metadata": {},
   "outputs": [],
   "source": [
    "import tarfile\n",
    "with tarfile.open('retrieval.tgz') as tar:\n",
    "    tar.extractall('./')"
   ]
  },
  {
   "cell_type": "markdown",
   "id": "c9810221",
   "metadata": {},
   "source": [
    "## Nested sampling output folder"
   ]
  },
  {
   "cell_type": "markdown",
   "id": "1ece9866",
   "metadata": {},
   "source": [
    "The output data from the nested sampling with ``MultiNest`` is stored in the ``output_folder``. We can use the [add_retrieval](https://species.readthedocs.io/en/latest/species.data.html#species.data.database.Database.add_retrieval) method of [Database](https://species.readthedocs.io/en/latest/species.data.html#species.data.database.Database) to store the posterior samples and relevant attributes in the HDF5 database. The argument of ``tag`` is used as name tag in the database. It is also possible to calculate $T_\\mathrm{eff}$ for each sample but this takes a long time because each spectrum needs to be calculated over a broad wavelength range."
   ]
  },
  {
   "cell_type": "code",
   "execution_count": null,
   "id": "77047583",
   "metadata": {},
   "outputs": [],
   "source": [
    "database.add_retrieval(tag='betapicb',\n",
    "                       output_folder='multinest',\n",
    "                       inc_teff=False)"
   ]
  },
  {
   "cell_type": "markdown",
   "id": "6b53237b",
   "metadata": {},
   "source": [
    "Instead, we use the [get_retrieval_teff](https://species.readthedocs.io/en/latest/species.data.html#species.data.database.Database.add_retrieval) to estimate $T_\\mathrm{eff}$ from a small number of samples. The value is stored in the database as attribute of the ``tag`` group."
   ]
  },
  {
   "cell_type": "code",
   "execution_count": null,
   "id": "cabcb2f0",
   "metadata": {},
   "outputs": [],
   "source": [
    "database.get_retrieval_teff(tag='betapicb',\n",
    "                            random=30)"
   ]
  },
  {
   "cell_type": "markdown",
   "id": "add8d54a",
   "metadata": {},
   "source": [
    "## Plotting the posterior distributions"
   ]
  },
  {
   "cell_type": "markdown",
   "id": "5409c1e2",
   "metadata": {},
   "source": [
    "We can now read the posterior samples from the database and use the plot functionalities to visualize the results. Let's first plot the marginalized posterior distributions by using the [corner.py](https://corner.readthedocs.io) package. The plot is created with the [plot_posterior](https://species.readthedocs.io/en/latest/species.plot.html#species.plot.plot_mcmc.plot_posterior) function. Since there are many free parameters, we will leave out those for the P-T profile by setting `inc_pt_param=False`."
   ]
  },
  {
   "cell_type": "code",
   "execution_count": null,
   "id": "36389cf0",
   "metadata": {},
   "outputs": [],
   "source": [
    "species.plot_posterior(tag='betapicb',\n",
    "                       offset=(-0.3, -0.35),\n",
    "                       vmr=False,\n",
    "                       inc_mass=False,\n",
    "                       inc_pt_param=False,\n",
    "                       output='posterior.png')"
   ]
  },
  {
   "cell_type": "markdown",
   "id": "c71a78d0",
   "metadata": {},
   "source": [
    "Let's have a look at the corner plot!"
   ]
  },
  {
   "cell_type": "code",
   "execution_count": null,
   "id": "2ce0f3ca",
   "metadata": {},
   "outputs": [],
   "source": [
    "from IPython.display import Image\n",
    "Image('posterior.png')"
   ]
  },
  {
   "cell_type": "markdown",
   "id": "56c9b801",
   "metadata": {},
   "source": [
    "## ReadRadtrans and random spectra"
   ]
  },
  {
   "cell_type": "markdown",
   "id": "24f8468d",
   "metadata": {},
   "source": [
    "In order to post-process the posterior samples, we need to recreate the ``Radtrans`` object of ``petitRADTRANS``. We will use the [get_retrieval_spectra](https://species.readthedocs.io/en/latest/species.data.html#species.data.database.Database.get_retrieval_spectra) method of [Database](https://species.readthedocs.io/en/latest/species.data.html#species.data.database.Database) to create and instance of [ReadRadtrans](https://species.readthedocs.io/en/latest/species.read.html#species.read.read_radtrans.ReadRadtrans) with the adopted parameters from the retrieval. The ``Radtrans`` object is stored as an attribute of ``ReadRadtrans`` and will be used by ``species`` but can typically be ignored by the user. The method also returns a list of random spectra (30 in the example below) that have been recalculated at a resolving power of $R = 500$. Each of the model spectra is stored in a [ModelBox](https://species.readthedocs.io/en/latest/species.core.html#species.core.box.ModelBox)."
   ]
  },
  {
   "cell_type": "code",
   "execution_count": null,
   "id": "850a9682",
   "metadata": {},
   "outputs": [],
   "source": [
    "samples, radtrans = database.get_retrieval_spectra(tag='betapicb',\n",
    "                                                   random=30,\n",
    "                                                   wavel_range=(0.5, 6.),\n",
    "                                                   spec_res=500.)"
   ]
  },
  {
   "cell_type": "markdown",
   "id": "ca9fc837",
   "metadata": {},
   "source": [
    "# Create plots of P-T profiles, opacities, and clouds"
   ]
  },
  {
   "cell_type": "code",
   "execution_count": null,
   "id": "5db90a7c",
   "metadata": {},
   "outputs": [],
   "source": [
    "species.plot_pt_profile(tag='betapicb',\n",
    "                        random=100,\n",
    "                        xlim=(0., 6000.),\n",
    "                        offset=(-0.07, -0.14),\n",
    "                        output='pt_profile.png',\n",
    "                        radtrans=radtrans,\n",
    "                        extra_axis='grains')\n",
    "\n",
    "species.plot_opacities(tag='betapicb',\n",
    "                       offset=(-0.1, -0.14),\n",
    "                       output='opacities.png',\n",
    "                       radtrans=radtrans)\n",
    "\n",
    "species.plot_clouds(tag='betapicb',\n",
    "                    offset=(-0.1, -0.15),\n",
    "                    output='clouds.png',\n",
    "                    radtrans=radtrans,\n",
    "                    composition='MgSiO3')"
   ]
  },
  {
   "cell_type": "markdown",
   "id": "8bc55ef7",
   "metadata": {},
   "source": [
    "## Read companion data, best-fit sample, and fit residuals"
   ]
  },
  {
   "cell_type": "code",
   "execution_count": null,
   "id": "552b2252",
   "metadata": {},
   "outputs": [],
   "source": [
    "best = database.get_probable_sample(tag='betapicb')\n",
    "\n",
    "objectbox = database.get_object('beta Pic b',\n",
    "                                inc_phot=False)\n",
    "\n",
    "objectbox = species.update_spectra(objectbox, best)\n",
    "\n",
    "residuals = species.get_residuals(datatype='model',\n",
    "                                  spectrum='petitradtrans',\n",
    "                                  parameters=best,\n",
    "                                  objectbox=objectbox,\n",
    "                                  inc_phot=False,\n",
    "                                  inc_spec=True,\n",
    "                                  radtrans=radtrans)\n",
    "\n",
    "modelbox = radtrans.get_model(model_param=best,\n",
    "                              spec_res=500.,\n",
    "                              plot_contribution='contribution.png')\n",
    "\n",
    "no_clouds = best.copy()\n",
    "no_clouds['mgsio3_fraction'] = -100.\n",
    "no_clouds['fe_fraction'] = -100.\n",
    "model_no_clouds = radtrans.get_model(no_clouds)"
   ]
  },
  {
   "cell_type": "markdown",
   "id": "b925217c",
   "metadata": {},
   "source": [
    "## Plot the SED with data and models"
   ]
  },
  {
   "cell_type": "code",
   "execution_count": null,
   "id": "ef0fd708",
   "metadata": {},
   "outputs": [],
   "source": [
    "species.plot_spectrum(boxes=[samples, modelbox, model_no_clouds, objectbox],\n",
    "                      filters=None,\n",
    "                      plot_kwargs=[{'ls': '-', 'lw': 0.1, 'color': 'gray'},\n",
    "                                   {'ls': '-', 'lw': 0.5, 'color': 'black'},\n",
    "                                   {'ls': '--', 'lw': 0.3, 'color': 'black'},\n",
    "                                   {'GPI': {'marker': 'o', 'ms': 2., 'color': 'tab:green', 'ls': 'none', 'alpha': 0.2, 'mew': 0., 'label': 'NIFS'},\n",
    "                                    'GRAVITY': {'marker': 'o', 'ms': 2., 'color': 'tab:blue', 'ls': 'none', 'alpha': 0.2, 'mew': 0., 'label': 'OSIRIS'}}],\n",
    "                      residuals=residuals,\n",
    "                      xlim=(1.1, 2.5),\n",
    "                      ylim=(0.15e-16, 1.15e-15),\n",
    "                      ylim_res=(-5., 5.),\n",
    "                      scale=('linear', 'linear'),\n",
    "                      offset=(-0.6, -0.05),\n",
    "                      figsize=(8, 2.5),\n",
    "                      legend=[{'loc': 'upper right', 'fontsize': 8.}, {'loc': 'lower left', 'fontsize': 8.}],\n",
    "                      output='spectrum.png')"
   ]
  }
 ],
 "metadata": {
  "kernelspec": {
   "display_name": "Python 3 (ipykernel)",
   "language": "python",
   "name": "python3"
  },
  "language_info": {
   "codemirror_mode": {
    "name": "ipython",
    "version": 3
   },
   "file_extension": ".py",
   "mimetype": "text/x-python",
   "name": "python",
   "nbconvert_exporter": "python",
   "pygments_lexer": "ipython3",
   "version": "3.9.6"
  }
 },
 "nbformat": 4,
 "nbformat_minor": 5
}
