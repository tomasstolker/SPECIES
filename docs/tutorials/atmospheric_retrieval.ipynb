{
 "cells": [
  {
   "cell_type": "markdown",
   "id": "93f9b816",
   "metadata": {},
   "source": [
    "# Atmospheric retrieval with petitRADTRANS"
   ]
  },
  {
   "cell_type": "markdown",
   "id": "91fb3ba5",
   "metadata": {},
   "source": [
    "This is a tutorial for atmospheric retrieval with [petitRADTRANS](https://petitradtrans.readthedocs.io/) for which we will use NIR spectra and photometry of the planetary-mass companion [ROXs 42 Bb](https://ui.adsabs.harvard.edu/abs/2014ApJ...780L..30C/abstract). Free retrievals are computationally expensive due to the high number of parameter dimensions and the scattering radiative transfer that is important for cloudy objects (see [Mollière et al. 2020](https://ui.adsabs.harvard.edu/abs/2020A%26A...640A.131M/abstract)). Similar [FitModel](https://species.readthedocs.io/en/latest/species.analysis.html#species.analysis.fit_model.FitModel), the nested sampling with the free retrievals uses multiprocessing so it recommended to run such retrievals on a cluster. Before starting, ``petitRADTRANS`` should be manually installed together with the line and continuum opacities.\n",
    "\n",
    "When running a retrieval, it is important to comment out any of the functions that access the [Database](https://species.readthedocs.io/en/latest/species.data.html#species.data.database.Database) because writing to the HDF5 database is not possible with multiprocessing. Therefore, the companion data should first be added to the database, then [AtmosphericRetrieval](https://species.readthedocs.io/en/latest/species.analysis.html#species.analysis.retrieval.AtmosphericRetrieval) and [run_multinest](https://species.readthedocs.io/en/latest/species.analysis.html#species.analysis.retrieval.AtmosphericRetrieval.run_multinest) can be executed (e.g. on a cluster), and finally the results can be extracted and plotted while commenting out the retrieval part."
   ]
  },
  {
   "cell_type": "markdown",
   "id": "b612b45c",
   "metadata": {},
   "source": [
    "## Import *species* and setup database"
   ]
  },
  {
   "cell_type": "markdown",
   "id": "44b70c9c",
   "metadata": {},
   "source": [
    "We start by adding the library path of ``MultiNest`` to the ``DYLD_LIBRARY_PATH`` environment variable such that ``PyMultiNest`` can find this library."
   ]
  },
  {
   "cell_type": "code",
   "execution_count": null,
   "id": "46578eed",
   "metadata": {},
   "outputs": [],
   "source": [
    "import os\n",
    "os.environ['DYLD_LIBRARY_PATH'] = '/Users/tomasstolker/applications/MultiNest/lib'"
   ]
  },
  {
   "cell_type": "markdown",
   "id": "e78372ed",
   "metadata": {},
   "source": [
    "Next, we import the `species` toolkit and initialize the HDF5 database in the working by running the [SpeciesInit](https://species.readthedocs.io/en/latest/species.core.html#species.core.init.SpeciesInit) class. This will also create a [configuration file](https://species.readthedocs.io/en/latest/configuration.html) in case it was not yet present in the working folder."
   ]
  },
  {
   "cell_type": "code",
   "execution_count": null,
   "id": "8b31cc36",
   "metadata": {},
   "outputs": [],
   "source": [
    "import species\n",
    "species.SpeciesInit()"
   ]
  },
  {
   "cell_type": "markdown",
   "id": "70942ece",
   "metadata": {},
   "source": [
    "We also create an instance of [Database](https://species.readthedocs.io/en/latest/species.data.html#species.data.database.Database) which is used for accessing the HDF5 database."
   ]
  },
  {
   "cell_type": "code",
   "execution_count": null,
   "id": "a5783b82",
   "metadata": {},
   "outputs": [],
   "source": [
    "database = species.Database()"
   ]
  },
  {
   "cell_type": "markdown",
   "id": "9a96b964",
   "metadata": {},
   "source": [
    "We will now add the photometric data of [ROXs 42 Bb](https://exoplanets.nasa.gov/exoplanet-catalog/7139/roxs-42-b-b/) that are [available in species](https://github.com/tomasstolker/species/blob/master/species/data/companions.py). This is automatically done with the [add_companion](https://species.readthedocs.io/en/latest/species.data.html#species.data.database.Database.add_companion) method. Alternatively, the [add_object](https://species.readthedocs.io/en/latest/species.data.html#species.data.database.Database.add_object) method can be used to manually add magnitudes and spectra (see below). Running `add_companion` will also download the filter profiles and a flux-calibrated spectrum of Vega in order to convert the magnitudes into fluxes."
   ]
  },
  {
   "cell_type": "code",
   "execution_count": null,
   "id": "8b1d75ec",
   "metadata": {},
   "outputs": [],
   "source": [
    "database.add_companion('ROXs 42 Bb')"
   ]
  },
  {
   "cell_type": "markdown",
   "id": "3e665da6",
   "metadata": {},
   "source": [
    "The distance and magnitudes of ROXs 42 Bb have now been stored but we also want to add medium-resolution $JHK$-band spectra. This is done with the [add_object](https://species.readthedocs.io/en/latest/species.data.html#species.data.database.add_object) method by providing a dictionary as argument of `spectrum`. The tuple of each spectrum name contains the filename with the spectrum, optionally the covariance matrix, and the spectral resolution (that is used for smoothing the model spectra). We need to make sure that the argument of `object_name` is the same name as with [add_companion](https://species.readthedocs.io/en/latest/species.data.html#species.data.database.add_companion) such that data are added to the correct database group."
   ]
  },
  {
   "cell_type": "code",
   "execution_count": null,
   "id": "77f688f7",
   "metadata": {},
   "outputs": [],
   "source": [
    "database.add_object(object_name='ROXs 42 Bb',\n",
    "                    distance=None,\n",
    "                    app_mag=None,\n",
    "                    spectrum={'NIFS': ('roxs42bb_nifs_j_calib.dat', None, 5000.),\n",
    "                              'OSIRIS': ('roxs42bb_osiris_h_calib.dat', None, 3000.),\n",
    "                              'SINFONI': ('roxs42bb_sinfoni_k_calib.dat', None, 1500.)},\n",
    "                    deredden=None)"
   ]
  },
  {
   "cell_type": "markdown",
   "id": "3e58dc18",
   "metadata": {},
   "source": [
    "## Atmospheric retrieval of abundances, clouds, and P-T structure"
   ]
  },
  {
   "cell_type": "code",
   "execution_count": null,
   "id": "a6cbbcea",
   "metadata": {},
   "outputs": [],
   "source": [
    "retrieve = species.AtmosphericRetrieval(object_name='ROXs 42 Bb',\n",
    "                                        line_species=['CO_all_iso', 'H2O', 'CH4', 'NH3', 'CO2', 'Na', 'K', 'TiO', 'VO', 'FeH', 'H2S'],\n",
    "                                        cloud_species=['MgSiO3(c)_cd', 'Fe(c)_cd', 'Al2O3(c)_cd'],\n",
    "                                        scattering=True,\n",
    "                                        output_folder='multinest',\n",
    "                                        wavel_range=(1.1, 2.46),\n",
    "                                        inc_spec=['NIFS', 'OSIRIS', 'SINFONI'],\n",
    "                                        inc_phot=False,\n",
    "                                        pressure_grid='smaller',\n",
    "                                        weights=None)"
   ]
  },
  {
   "cell_type": "code",
   "execution_count": null,
   "id": "457ef462",
   "metadata": {},
   "outputs": [],
   "source": [
    "retrieve.run_multinest(bounds={'logg': (2., 5.5),\n",
    "                               'c_o_ratio': (0.1, 1.),\n",
    "                               'metallicity': (-3., 3.),\n",
    "                               'radius': (1., 5.),\n",
    "                               'ism_ext': (1.7, 1.7),\n",
    "                               'OSIRIS': ((0.8, 1.2), None, None),\n",
    "                               'fsed': (0., 8.),\n",
    "                               'log_kzz': (4., 12.),\n",
    "                               'log_tau_cloud': (-2., 1.),\n",
    "                               'fe_mgsio3_ratio': (-2., 2.),\n",
    "                               'al2o3_mgsio3_ratio': (-2., 2.)},\n",
    "                       chemistry='equilibrium',\n",
    "                       quenching=None,\n",
    "                       pt_profile='molliere',\n",
    "                       n_live_points=1000,\n",
    "                       resume=True,\n",
    "                       plotting=False,\n",
    "                       pt_smooth=0.)"
   ]
  },
  {
   "cell_type": "markdown",
   "id": "c9810221",
   "metadata": {},
   "source": [
    "## Nested sampling output folder"
   ]
  },
  {
   "cell_type": "markdown",
   "id": "1ece9866",
   "metadata": {},
   "source": [
    "The output data from the nested sampling with ``MultiNest`` is stored in the ``output_folder``. We can use the [add_retrieval](https://species.readthedocs.io/en/latest/species.data.html#species.data.database.Database.add_retrieval) method of [Database](https://species.readthedocs.io/en/latest/species.data.html#species.data.database.Database) to store the posterior samples and relevant attributes in the HDF5 database. The argument of ``tag`` is used as name tag in the database. It is also possible to calculate $T_\\mathrm{eff}$ for each sample but this takes a long time because each spectrum needs to be calculated over a broad wavelength range."
   ]
  },
  {
   "cell_type": "code",
   "execution_count": null,
   "id": "77047583",
   "metadata": {},
   "outputs": [],
   "source": [
    "database.add_retrieval(tag='roxs42bb',\n",
    "                       output_folder='multinest',\n",
    "                       inc_teff=False)"
   ]
  },
  {
   "cell_type": "markdown",
   "id": "6b53237b",
   "metadata": {},
   "source": [
    "Instead, we use the [get_retrieval_teff](https://species.readthedocs.io/en/latest/species.data.html#species.data.database.Database.add_retrieval) to estimate $T_\\mathrm{eff}$ from a small number of samples. The value is stored in the database as attribute of the ``tag`` group."
   ]
  },
  {
   "cell_type": "code",
   "execution_count": null,
   "id": "cabcb2f0",
   "metadata": {},
   "outputs": [],
   "source": [
    "database.get_retrieval_teff(tag='roxs42bb',\n",
    "                            random=30)"
   ]
  },
  {
   "cell_type": "markdown",
   "id": "add8d54a",
   "metadata": {},
   "source": [
    "## Plotting the posterior distributions"
   ]
  },
  {
   "cell_type": "markdown",
   "id": "5409c1e2",
   "metadata": {},
   "source": [
    "We can now read the posterior samples from the database and use the plot functionalities to visualize the results. Let's first plot the marginalized posterior distributions by using the [corner.py](https://corner.readthedocs.io) package. The plot is created with the [plot_posterior](https://species.readthedocs.io/en/latest/species.plot.html#species.plot.plot_mcmc.plot_posterior) function. Since there are many free parameters, we will leave out those for the P-T profile by setting `inc_pt_param=False`."
   ]
  },
  {
   "cell_type": "code",
   "execution_count": null,
   "id": "36389cf0",
   "metadata": {},
   "outputs": [],
   "source": [
    "species.plot_posterior(tag='roxs42bb',\n",
    "                       offset=(-0.3, -0.35),\n",
    "                       vmr=False,\n",
    "                       inc_mass=False,\n",
    "                       inc_pt_param=False,\n",
    "                       output='posterior.png')"
   ]
  },
  {
   "cell_type": "markdown",
   "id": "c71a78d0",
   "metadata": {},
   "source": [
    "Let's have a look at the corner plot!"
   ]
  },
  {
   "cell_type": "code",
   "execution_count": null,
   "id": "2ce0f3ca",
   "metadata": {},
   "outputs": [],
   "source": [
    "from IPython.display import Image\n",
    "Image('posterior.png')"
   ]
  },
  {
   "cell_type": "markdown",
   "id": "56c9b801",
   "metadata": {},
   "source": [
    "## ReadRadtrans and random spectra"
   ]
  },
  {
   "cell_type": "markdown",
   "id": "24f8468d",
   "metadata": {},
   "source": [
    "In order to post-process the posterior samples, we need to recreate the ``Radtrans`` object of ``petitRADTRANS``. We will use the [get_retrieval_spectra](https://species.readthedocs.io/en/latest/species.data.html#species.data.database.Database.get_retrieval_spectra) method of [Database](https://species.readthedocs.io/en/latest/species.data.html#species.data.database.Database) to create and instance of [ReadRadtrans](https://species.readthedocs.io/en/latest/species.read.html#species.read.read_radtrans.ReadRadtrans) with the adopted parameters from the retrieval. The ``Radtrans`` object is stored as an attribute of ``ReadRadtrans`` and will be used by ``species`` but can typically be ignored by the user. The method also returns a list of random spectra (30 in the example below) that have been recalculated at a resolving power of $R = 2000$. Each of the model spectra is stored in a [ModelBox](https://species.readthedocs.io/en/latest/species.core.html#species.core.box.ModelBox)."
   ]
  },
  {
   "cell_type": "code",
   "execution_count": null,
   "id": "850a9682",
   "metadata": {},
   "outputs": [],
   "source": [
    "samples, radtrans = database.get_retrieval_spectra(tag='roxs42bb',\n",
    "                                                   random=30,\n",
    "                                                   wavel_range=(0.5, 6.),\n",
    "                                                   spec_res=2000.)"
   ]
  },
  {
   "cell_type": "markdown",
   "id": "ca9fc837",
   "metadata": {},
   "source": [
    "# Create plots of P-T profiles, opacities, and clouds"
   ]
  },
  {
   "cell_type": "code",
   "execution_count": null,
   "id": "5db90a7c",
   "metadata": {},
   "outputs": [],
   "source": [
    "species.plot_pt_profile(tag='roxs42bb',\n",
    "                        random=100,\n",
    "                        xlim=(0., 6000.),\n",
    "                        offset=(-0.07, -0.14),\n",
    "                        output='plot/pt_profile_grains.pdf',\n",
    "                        radtrans=radtrans,\n",
    "                        extra_axis='grains')\n",
    "\n",
    "species.plot_opacities(tag='roxs42bb',\n",
    "                       offset=(-0.1, -0.14),\n",
    "                       output='plot/opacities.pdf',\n",
    "                       radtrans=radtrans)\n",
    "\n",
    "species.plot_clouds(tag='roxs42bb',\n",
    "                    offset=(-0.1, -0.15),\n",
    "                    output='plot/clouds.pdf',\n",
    "                    radtrans=radtrans,\n",
    "                    composition='MgSiO3')"
   ]
  },
  {
   "cell_type": "markdown",
   "id": "8bc55ef7",
   "metadata": {},
   "source": [
    "## Read companion data, best-fit sample, and fit residuals"
   ]
  },
  {
   "cell_type": "code",
   "execution_count": null,
   "id": "552b2252",
   "metadata": {},
   "outputs": [],
   "source": [
    "best = database.get_probable_sample(tag='roxs42bb')\n",
    "\n",
    "objectbox = database.get_object('ROXs 42 Bb',\n",
    "                                inc_phot=False)\n",
    "\n",
    "objectbox = species.update_spectra(objectbox, best)\n",
    "\n",
    "residuals = species.get_residuals(datatype='model',\n",
    "                                  spectrum='petitradtrans',\n",
    "                                  parameters=best,\n",
    "                                  objectbox=objectbox,\n",
    "                                  inc_phot=False,\n",
    "                                  inc_spec=True,\n",
    "                                  radtrans=radtrans)\n",
    "\n",
    "modelbox = radtrans.get_model(model_param=best,\n",
    "                              spec_res=2000.,\n",
    "                              plot_contribution='plot/contribution.pdf')\n",
    "\n",
    "no_clouds = best.copy()\n",
    "no_clouds['log_tau_cloud'] = -100.\n",
    "model_no_clouds = radtrans.get_model(no_clouds)"
   ]
  },
  {
   "cell_type": "markdown",
   "id": "b925217c",
   "metadata": {},
   "source": [
    "## Plot the SED with data and models"
   ]
  },
  {
   "cell_type": "code",
   "execution_count": null,
   "id": "ef0fd708",
   "metadata": {},
   "outputs": [],
   "source": [
    "species.plot_spectrum(boxes=[samples, modelbox, model_no_clouds, objectbox],\n",
    "                      filters=None,\n",
    "                      plot_kwargs=[{'ls': '-', 'lw': 0.1, 'color': 'gray'},\n",
    "                                   {'ls': '-', 'lw': 0.5, 'color': 'black'},\n",
    "                                   {'ls': '--', 'lw': 0.3, 'color': 'black'},\n",
    "                                   {'NIFS': {'marker': 'o', 'ms': 2., 'color': 'tab:green', 'ls': 'none', 'alpha': 0.2, 'mew': 0., 'label': 'NIFS'},\n",
    "                                    'OSIRIS': {'marker': 'o', 'ms': 2., 'color': 'tab:blue', 'ls': 'none', 'alpha': 0.2, 'mew': 0., 'label': 'OSIRIS'},\n",
    "                                    'SINFONI': {'marker': 'o', 'ms': 2., 'color': 'tab:orange', 'ls': 'none', 'alpha': 0.2, 'mew': 0., 'label': 'SINFONI'}}],\n",
    "                      residuals=residuals,\n",
    "                      xlim=(1.1, 2.5),\n",
    "                      ylim=(0.15e-16, 1.15e-15),\n",
    "                      ylim_res=(-5., 5.),\n",
    "                      scale=('linear', 'linear'),\n",
    "                      offset=(-0.6, -0.05),\n",
    "                      figsize=(8, 2.5),\n",
    "                      legend=[{'loc': 'upper right', 'fontsize': 8.}, {'loc': 'lower left', 'fontsize': 8.}],\n",
    "                      output='plot/spectrum.pdf')"
   ]
  },
  {
   "cell_type": "markdown",
   "id": "59f96d8a",
   "metadata": {},
   "source": [
    "## Plot the SED over broader wavelength range"
   ]
  },
  {
   "cell_type": "code",
   "execution_count": null,
   "id": "1a602334",
   "metadata": {},
   "outputs": [],
   "source": [
    "modelbox = radtrans.get_model(model_param=best,\n",
    "                              spec_res=200.,\n",
    "                              plot_contribution='plot/contribution.pdf')\n",
    "\n",
    "objectbox = database.get_object('ROXs 42 Bb',\n",
    "                                inc_phot=True)\n",
    "\n",
    "objectbox = species.update_spectra(objectbox, best)\n",
    "\n",
    "for item in ['NIFS', 'OSIRIS', 'SINFONI']:\n",
    "    objectbox.spectrum[item] = (objectbox.spectrum[item][0][::50, ],\n",
    "                                objectbox.spectrum[item][1],\n",
    "                                objectbox.spectrum[item][2],\n",
    "                                objectbox.spectrum[item][3])\n",
    "\n",
    "residuals = species.get_residuals(datatype='model',\n",
    "                                  spectrum='petitradtrans',\n",
    "                                  parameters=best,\n",
    "                                  objectbox=objectbox,\n",
    "                                  inc_phot=True,\n",
    "                                  inc_spec=True,\n",
    "                                  radtrans=radtrans)\n",
    "\n",
    "synphot = species.multi_photometry(datatype='model',\n",
    "                                   spectrum='petitradtrans',\n",
    "                                   filters=objectbox.filters,\n",
    "                                   parameters=best,\n",
    "                                   radtrans=radtrans)\n",
    "\n",
    "object_kwargs = {'NIFS': {'marker': 'o', 'ms': 2.5, 'color': 'tab:green', 'ls': 'none', 'alpha': 0.5, 'mew': 0., 'label': 'Gemini/NIFS'},\n",
    "                 'OSIRIS': {'marker': 'o', 'ms': 2.5, 'color': 'tab:blue', 'ls': 'none', 'alpha': 0.5, 'mew': 0., 'label': 'Keck/OSIRIS'},\n",
    "                 'SINFONI': {'marker': 'o', 'ms': 2.5, 'color': 'tab:orange', 'ls': 'none', 'alpha': 0.5, 'mew': 0., 'label': 'VLT/SINFONI'}}\n",
    "\n",
    "for item in objectbox.magnitude:\n",
    "    object_kwargs[item] = {'marker': 's', 'ms': 3.5, 'color': 'black'}\n",
    "\n",
    "species.plot_spectrum(boxes=[samples, modelbox, objectbox, synphot],\n",
    "                      filters=None,\n",
    "                      plot_kwargs=[{'ls': '-', 'lw': 0.1, 'color': 'gray'},\n",
    "                                   {'ls': '-', 'lw': 0.5, 'color': 'black'},\n",
    "                                   object_kwargs,\n",
    "                                   None],\n",
    "                      residuals=residuals,\n",
    "                      xlim=(0.8, 5.),\n",
    "                      ylim=(0.15e-15, 1.9e-15),\n",
    "                      ylim_res=(-7., 7.),\n",
    "                      scale=('linear', 'linear'),\n",
    "                      offset=(-0.6, -0.04),\n",
    "                      figsize=(8, 2.5),\n",
    "                      legend=[None, {'loc': 'upper right', 'fontsize': 10.}],\n",
    "                      quantity='flux',\n",
    "                      output='plot/full_sed.pdf')"
   ]
  }
 ],
 "metadata": {
  "kernelspec": {
   "display_name": "Python 3 (ipykernel)",
   "language": "python",
   "name": "python3"
  },
  "language_info": {
   "codemirror_mode": {
    "name": "ipython",
    "version": 3
   },
   "file_extension": ".py",
   "mimetype": "text/x-python",
   "name": "python",
   "nbconvert_exporter": "python",
   "pygments_lexer": "ipython3",
   "version": "3.9.6"
  }
 },
 "nbformat": 4,
 "nbformat_minor": 5
}
