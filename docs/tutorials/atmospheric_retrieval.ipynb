{
 "cells": [
  {
   "cell_type": "markdown",
   "id": "93f9b816",
   "metadata": {},
   "source": [
    "# Atmospheric retrieval with petitRADTRANS"
   ]
  },
  {
   "cell_type": "markdown",
   "id": "91fb3ba5",
   "metadata": {},
   "source": [
    "This is a tutorial for atmospheric retrieval with [petitRADTRANS](https://petitradtrans.readthedocs.io/) for which we will use NIR spectra and photometry of the planetary-mass companion [ROXs 42 Bb](https://ui.adsabs.harvard.edu/abs/2014ApJ...780L..30C/abstract). Free retrievals are computationally expensive due to the high number of parameter dimensions and the scattering radiative transfer that is important for cloudy objects (see [Mollière et al. 2020](https://ui.adsabs.harvard.edu/abs/2020A%26A...640A.131M/abstract)). Similar [FitModel](https://species.readthedocs.io/en/latest/species.analysis.html#species.analysis.fit_model.FitModel), the nested sampling with the free retrievals uses multiprocessing so it recommended to run such retrievals on a cluster. Before starting, ``petitRADTRANS`` should be manually installed together with the line and continuum opacities."
   ]
  },
  {
   "cell_type": "markdown",
   "id": "27b4258d",
   "metadata": {},
   "source": [
    "When running a retrieval, it is important to comment out any of the functions that access the [Database](https://species.readthedocs.io/en/latest/species.data.html#species.data.database.Database) because writing to the HDF5 database is not possible with multiprocessing. Therefore, the companion data should first be added to the database, then [AtmosphericRetrieval](https://species.readthedocs.io/en/latest/species.analysis.html#species.analysis.retrieval.AtmosphericRetrieval) and [run_multinest](https://species.readthedocs.io/en/latest/species.analysis.html#species.analysis.retrieval.AtmosphericRetrieval.run_multinest) can be executed (e.g. on a cluster), and finally the results can be extracted and plotted while commenting out the retrieval part."
   ]
  },
  {
   "cell_type": "markdown",
   "id": "5bc2814c",
   "metadata": {},
   "source": [
    "## Getting started"
   ]
  },
  {
   "cell_type": "markdown",
   "id": "45559f5e",
   "metadata": {},
   "source": [
    "We start by importing [urllib](https://docs.python.org/3/library/urllib.html) and \n",
    "the `species` toolkit."
   ]
  },
  {
   "cell_type": "code",
   "execution_count": 1,
   "id": "694d46af",
   "metadata": {},
   "outputs": [],
   "source": [
    "import urllib\n",
    "import species"
   ]
  },
  {
   "cell_type": "markdown",
   "id": "0bc39e34",
   "metadata": {},
   "source": [
    "Let's now download the GRAVITY $K$ band spectrum of beta Pic b that was published by [Gravity Collaboration et al. 2020](https://ui.adsabs.harvard.edu/abs/2020A%26A...633A.110G/abstract) and we will also make use of the GPI $YJH$ band spectra from [Chilcote et al. 2017](https://ui.adsabs.harvard.edu/abs/2017AJ....153..182C/abstract)."
   ]
  },
  {
   "cell_type": "code",
   "execution_count": 3,
   "id": "39eb6139",
   "metadata": {},
   "outputs": [
    {
     "data": {
      "text/plain": [
       "('betapicb_gpi_h.dat', <http.client.HTTPMessage at 0x14d8aab50>)"
      ]
     },
     "execution_count": 3,
     "metadata": {},
     "output_type": "execute_result"
    }
   ],
   "source": [
    "urllib.request.urlretrieve('https://home.strw.leidenuniv.nl/~stolker/species/BetaPictorisb_2018-09-22.fits',\n",
    "                           'BetaPictorisb_2018-09-22.fits')\n",
    "urllib.request.urlretrieve('https://home.strw.leidenuniv.nl/~stolker/species/betapicb_gpi_y.dat',\n",
    "                           'betapicb_gpi_y.dat')\n",
    "urllib.request.urlretrieve('https://home.strw.leidenuniv.nl/~stolker/species/betapicb_gpi_j.dat',\n",
    "                           'betapicb_gpi_j.dat')\n",
    "urllib.request.urlretrieve('https://home.strw.leidenuniv.nl/~stolker/species/betapicb_gpi_h.dat',\n",
    "                           'betapicb_gpi_h.dat')"
   ]
  },
  {
   "cell_type": "markdown",
   "id": "44b70c9c",
   "metadata": {},
   "source": [
    "Next, we need to add the library path of ``MultiNest`` to the ``DYLD_LIBRARY_PATH`` environment variable such that ``PyMultiNest`` can find the compiled library (see [installation instructions](https://johannesbuchner.github.io/PyMultiNest/install.html))."
   ]
  },
  {
   "cell_type": "code",
   "execution_count": 4,
   "id": "46578eed",
   "metadata": {},
   "outputs": [],
   "source": [
    "import os\n",
    "os.environ['DYLD_LIBRARY_PATH'] = '/Users/tomasstolker/applications/MultiNest/lib'"
   ]
  },
  {
   "cell_type": "markdown",
   "id": "e78372ed",
   "metadata": {},
   "source": [
    "We are now ready to use the `species` toolkit by creating an instance of [SpeciesInit](https://species.readthedocs.io/en/latest/species.core.html#species.core.init.SpeciesInit) class. This will create the HDF5 database and [configuration file](https://species.readthedocs.io/en/latest/configuration.html) in the working. If these files were already present, then the existing database and configuration will be used."
   ]
  },
  {
   "cell_type": "code",
   "execution_count": 17,
   "id": "8b31cc36",
   "metadata": {},
   "outputs": [
    {
     "name": "stdout",
     "output_type": "stream",
     "text": [
      "Initiating species v0.4.0... [DONE]\n",
      "Database: /Users/tomasstolker/applications/species/docs/tutorials/species_database.hdf5\n",
      "Data folder: /Users/tomasstolker/applications/species/docs/tutorials/data\n",
      "Working folder: /Users/tomasstolker/applications/species/docs/tutorials\n"
     ]
    },
    {
     "data": {
      "text/plain": [
       "<species.core.init.SpeciesInit at 0x14dbf6d90>"
      ]
     },
     "execution_count": 17,
     "metadata": {},
     "output_type": "execute_result"
    }
   ],
   "source": [
    "species.SpeciesInit()"
   ]
  },
  {
   "cell_type": "markdown",
   "id": "f26731f0",
   "metadata": {},
   "source": [
    "## Adding observational data to the database"
   ]
  },
  {
   "cell_type": "markdown",
   "id": "70942ece",
   "metadata": {},
   "source": [
    "The database is used by ``species`` as the central storage for models, data, and results. The data in the HDF5 file is accessed through the [Database](https://species.readthedocs.io/en/latest/species.data.html#species.data.database.Database) class. It is best to add the data beforehand and comment out the database part when executing the code on a cluster with multi-core processing."
   ]
  },
  {
   "cell_type": "code",
   "execution_count": 18,
   "id": "a5783b82",
   "metadata": {},
   "outputs": [],
   "source": [
    "database = species.Database()"
   ]
  },
  {
   "cell_type": "markdown",
   "id": "3e665da6",
   "metadata": {},
   "source": [
    "We will now add spectra and distance of [beta Pic b](https://exoplanets.nasa.gov/exoplanet-catalog/7040/beta-pictoris-b/) to the database. This is done with the [add_object](https://species.readthedocs.io/en/latest/species.data.html#species.data.database.add_object) method by providing a dictionary as argument of `spectrum`. The tuple of each spectrum name contains the filename with the spectrum, optionally the covariance matrix, and the spectral resolution (that is used for smoothing the model spectra)."
   ]
  },
  {
   "cell_type": "code",
   "execution_count": 19,
   "id": "77f688f7",
   "metadata": {},
   "outputs": [
    {
     "name": "stdout",
     "output_type": "stream",
     "text": [
      "Adding object: beta Pic b\n",
      "   - Distance (pc) = 19.75 +/- 0.13\n",
      "   - Spectrum:\n",
      "      - Database tag: GPI-Y\n",
      "      - Filename: betapicb_gpi_y.dat\n",
      "      - Data shape: (29, 3)\n",
      "      - Wavelength range (um): 0.98 - 1.13\n",
      "      - Mean flux (W m-2 um-1): 5.40e-15\n",
      "      - Mean error (W m-2 um-1): 1.87e-15\n",
      "   - Spectrum:\n",
      "      - Database tag: GPI-J\n",
      "      - Filename: betapicb_gpi_j.dat\n",
      "      - Data shape: (32, 3)\n",
      "      - Wavelength range (um): 1.13 - 1.34\n",
      "      - Mean flux (W m-2 um-1): 6.84e-15\n",
      "      - Mean error (W m-2 um-1): 4.79e-16\n",
      "   - Spectrum:\n",
      "      - Database tag: GPI-H\n",
      "      - Filename: betapicb_gpi_h.dat\n",
      "      - Data shape: (34, 3)\n",
      "      - Wavelength range (um): 1.51 - 1.79\n",
      "      - Mean flux (W m-2 um-1): 5.63e-15\n",
      "      - Mean error (W m-2 um-1): 3.86e-16\n",
      "   - GRAVITY spectrum:\n",
      "      - Object: Unknown\n",
      "      - Database tag: GRAVITY\n",
      "      - Filename: BetaPictorisb_2018-09-22.fits\n",
      "      - Data shape: (237, 3)\n",
      "      - Wavelength range (um): 1.97 - 2.49\n",
      "      - Mean flux (W m-2 um-1): 4.65e-15\n",
      "      - Mean error (W m-2 um-1): 1.00e-16\n",
      "   - GRAVITY covariance matrix:\n",
      "      - Object: Unknown\n",
      "      - Database tag: GRAVITY\n",
      "      - Filename: BetaPictorisb_2018-09-22.fits\n",
      "      - Data shape: (237, 237)\n",
      "   - Spectral resolution:\n",
      "      - GPI-Y: 35.0\n",
      "      - GPI-J: 37.0\n",
      "      - GPI-H: 47.0\n",
      "      - GRAVITY: 500.0\n"
     ]
    }
   ],
   "source": [
    "database.add_object(object_name='beta Pic b',\n",
    "                    distance=(19.75, 0.13),\n",
    "                    app_mag=None,\n",
    "                    spectrum={'GPI-Y': ('betapicb_gpi_y.dat', None, 35.),\n",
    "                              'GPI-J': ('betapicb_gpi_j.dat', None, 37.),\n",
    "                              'GPI-H': ('betapicb_gpi_h.dat', None, 47.),\n",
    "                              'GRAVITY': ('BetaPictorisb_2018-09-22.fits', 'BetaPictorisb_2018-09-22.fits', 500.)})"
   ]
  },
  {
   "cell_type": "markdown",
   "id": "b4920db7",
   "metadata": {},
   "source": [
    "In this tutorial, we will not make use of the photometric data. These are We will now add the photometric data but these could also be included with the retrieval. There is a collection of magnitudes and fluxes [available in species](https://github.com/tomasstolker/species/blob/master/species/data/companions.py). These can be automatically added to the database with the [add_companion](https://species.readthedocs.io/en/latest/species.data.html#species.data.database.Database.add_companion) method, for example `add_companion('beta Pic b')`."
   ]
  },
  {
   "cell_type": "markdown",
   "id": "3e58dc18",
   "metadata": {},
   "source": [
    "## Atmospheric retrieval of abundances, clouds, and P-T structure"
   ]
  },
  {
   "cell_type": "markdown",
   "id": "20b31f4b",
   "metadata": {},
   "source": [
    "We are now ready to start the retrieval! We start by creating an instance of [AtmosphericRetrieval](https://species.readthedocs.io/en/latest/species.data.html#species.analysis.retrieval.AtmosphericRetrieval). Here we provide among others the database tag of the planet data, the line and cloud species that should be included in the forward model, and if scattering should be turned on with the radiative transfer. Scattering will make the calculation of the forward model much slower but is important for cloudy directly imaged objects."
   ]
  },
  {
   "cell_type": "code",
   "execution_count": 15,
   "id": "a6cbbcea",
   "metadata": {},
   "outputs": [
    {
     "name": "stdout",
     "output_type": "stream",
     "text": [
      "Object: beta Pic b\n",
      "Distance: 19.75\n",
      "Line species:\n",
      "   - CO_all_iso_HITEMP\n",
      "   - H2O_HITEMP\n",
      "   - CH4\n",
      "   - NH3\n",
      "   - CO2\n",
      "   - H2S\n",
      "   - Na_allard\n",
      "   - K_allard\n",
      "   - PH3\n",
      "   - VO_Plez\n",
      "   - TiO_all_Exomol\n",
      "   - FeH\n",
      "Cloud species:\n",
      "   - MgSiO3(c)_cd\n",
      "   - Fe(c)_cd\n",
      "Line-by-line species: None\n",
      "Scattering: True\n",
      "Getting object: beta Pic b... [DONE]\n",
      "Spectroscopic data:\n",
      "   - GPI-H\n",
      "     Wavelength range (um) = 1.51 - 1.79\n",
      "     Spectral resolution = 47.00\n",
      "   - GPI-J\n",
      "     Wavelength range (um) = 1.13 - 1.34\n",
      "     Spectral resolution = 37.00\n",
      "   - GPI-Y\n",
      "     Wavelength range (um) = 0.98 - 1.13\n",
      "     Spectral resolution = 35.00\n",
      "   - GRAVITY\n",
      "     Wavelength range (um) = 1.97 - 2.49\n",
      "     Spectral resolution = 500.00\n",
      "Initiating 180 pressure levels (bar): 1.00e-06 - 1.00e+03\n",
      "Weights for the log-likelihood function:\n",
      "   - GPI-Y = 1.00e+00\n",
      "   - GPI-J = 1.00e+00\n",
      "   - GPI-H = 1.00e+00\n",
      "   - GRAVITY = 1.00e+00\n"
     ]
    }
   ],
   "source": [
    "retrieve = species.AtmosphericRetrieval(object_name='beta Pic b',\n",
    "                                        line_species=['CO_all_iso_HITEMP', 'H2O_HITEMP', 'CH4', 'NH3', 'CO2', 'H2S', 'Na_allard', 'K_allard', 'PH3', 'VO_Plez', 'TiO_all_Exomol', 'FeH'],\n",
    "                                        cloud_species=['MgSiO3(c)_cd', 'Fe(c)_cd'],\n",
    "                                        scattering=True,\n",
    "                                        output_folder='multinest',\n",
    "                                        wavel_range=(1.1, 2.46),\n",
    "                                        inc_spec=['GPI-Y', 'GPI-J', 'GPI-H', 'GRAVITY'],\n",
    "                                        inc_phot=False,\n",
    "                                        pressure_grid='smaller',\n",
    "                                        weights=None)"
   ]
  },
  {
   "cell_type": "markdown",
   "id": "befe604c",
   "metadata": {},
   "source": []
  },
  {
   "cell_type": "code",
   "execution_count": null,
   "id": "457ef462",
   "metadata": {},
   "outputs": [],
   "source": [
    "retrieve.run_multinest(bounds={'logg': (2., 6.),\n",
    "                               'c_o_ratio': (0.1, 1.5),\n",
    "                               'metallicity': (-3., 3.),\n",
    "                               'radius': (0.1, 5.),\n",
    "                               'fsed': (0., 10.),\n",
    "                               'log_kzz': (1., 15.),\n",
    "                               'sigma_lnorm': (1.05, 5.),\n",
    "                               'mgsio3_fraction': (-3., 1.),\n",
    "                               'fe_fraction': (-3., 1.),\n",
    "                               'GPI-Y': ((0.5, 1.5), None, None),\n",
    "                               'GPI-J': ((0.5, 1.5), None, None),\n",
    "                               'GPI-H': ((0.5, 1.5), None, None)},\n",
    "                       chemistry='equilibrium',\n",
    "                       quenching='pressure',\n",
    "                       pt_profile='molliere',\n",
    "                       n_live_points=1000,\n",
    "                       resume=True,\n",
    "                       plotting=False,\n",
    "                       pt_smooth=None,\n",
    "                       check_flux=None,\n",
    "                       temp_nodes=None,\n",
    "                       prior={'mass': (9., 1.6)})"
   ]
  },
  {
   "cell_type": "markdown",
   "id": "c9810221",
   "metadata": {},
   "source": [
    "## Nested sampling output folder"
   ]
  },
  {
   "cell_type": "markdown",
   "id": "1ece9866",
   "metadata": {},
   "source": [
    "The output data from the nested sampling with ``MultiNest`` is stored in the ``output_folder``. We can use the [add_retrieval](https://species.readthedocs.io/en/latest/species.data.html#species.data.database.Database.add_retrieval) method of [Database](https://species.readthedocs.io/en/latest/species.data.html#species.data.database.Database) to store the posterior samples and relevant attributes in the HDF5 database. The argument of ``tag`` is used as name tag in the database. It is also possible to calculate $T_\\mathrm{eff}$ for each sample but this takes a long time because each spectrum needs to be calculated over a broad wavelength range."
   ]
  },
  {
   "cell_type": "code",
   "execution_count": null,
   "id": "77047583",
   "metadata": {},
   "outputs": [],
   "source": [
    "database.add_retrieval(tag='roxs42bb',\n",
    "                       output_folder='multinest',\n",
    "                       inc_teff=False)"
   ]
  },
  {
   "cell_type": "markdown",
   "id": "6b53237b",
   "metadata": {},
   "source": [
    "Instead, we use the [get_retrieval_teff](https://species.readthedocs.io/en/latest/species.data.html#species.data.database.Database.add_retrieval) to estimate $T_\\mathrm{eff}$ from a small number of samples. The value is stored in the database as attribute of the ``tag`` group."
   ]
  },
  {
   "cell_type": "code",
   "execution_count": null,
   "id": "cabcb2f0",
   "metadata": {},
   "outputs": [],
   "source": [
    "database.get_retrieval_teff(tag='roxs42bb',\n",
    "                            random=30)"
   ]
  },
  {
   "cell_type": "markdown",
   "id": "add8d54a",
   "metadata": {},
   "source": [
    "## Plotting the posterior distributions"
   ]
  },
  {
   "cell_type": "markdown",
   "id": "5409c1e2",
   "metadata": {},
   "source": [
    "We can now read the posterior samples from the database and use the plot functionalities to visualize the results. Let's first plot the marginalized posterior distributions by using the [corner.py](https://corner.readthedocs.io) package. The plot is created with the [plot_posterior](https://species.readthedocs.io/en/latest/species.plot.html#species.plot.plot_mcmc.plot_posterior) function. Since there are many free parameters, we will leave out those for the P-T profile by setting `inc_pt_param=False`."
   ]
  },
  {
   "cell_type": "code",
   "execution_count": null,
   "id": "36389cf0",
   "metadata": {},
   "outputs": [],
   "source": [
    "species.plot_posterior(tag='roxs42bb',\n",
    "                       offset=(-0.3, -0.35),\n",
    "                       vmr=False,\n",
    "                       inc_mass=False,\n",
    "                       inc_pt_param=False,\n",
    "                       output='posterior.png')"
   ]
  },
  {
   "cell_type": "markdown",
   "id": "c71a78d0",
   "metadata": {},
   "source": [
    "Let's have a look at the corner plot!"
   ]
  },
  {
   "cell_type": "code",
   "execution_count": null,
   "id": "2ce0f3ca",
   "metadata": {},
   "outputs": [],
   "source": [
    "from IPython.display import Image\n",
    "Image('posterior.png')"
   ]
  },
  {
   "cell_type": "markdown",
   "id": "56c9b801",
   "metadata": {},
   "source": [
    "## ReadRadtrans and random spectra"
   ]
  },
  {
   "cell_type": "markdown",
   "id": "24f8468d",
   "metadata": {},
   "source": [
    "In order to post-process the posterior samples, we need to recreate the ``Radtrans`` object of ``petitRADTRANS``. We will use the [get_retrieval_spectra](https://species.readthedocs.io/en/latest/species.data.html#species.data.database.Database.get_retrieval_spectra) method of [Database](https://species.readthedocs.io/en/latest/species.data.html#species.data.database.Database) to create and instance of [ReadRadtrans](https://species.readthedocs.io/en/latest/species.read.html#species.read.read_radtrans.ReadRadtrans) with the adopted parameters from the retrieval. The ``Radtrans`` object is stored as an attribute of ``ReadRadtrans`` and will be used by ``species`` but can typically be ignored by the user. The method also returns a list of random spectra (30 in the example below) that have been recalculated at a resolving power of $R = 2000$. Each of the model spectra is stored in a [ModelBox](https://species.readthedocs.io/en/latest/species.core.html#species.core.box.ModelBox)."
   ]
  },
  {
   "cell_type": "code",
   "execution_count": null,
   "id": "850a9682",
   "metadata": {},
   "outputs": [],
   "source": [
    "samples, radtrans = database.get_retrieval_spectra(tag='roxs42bb',\n",
    "                                                   random=30,\n",
    "                                                   wavel_range=(0.5, 6.),\n",
    "                                                   spec_res=2000.)"
   ]
  },
  {
   "cell_type": "markdown",
   "id": "ca9fc837",
   "metadata": {},
   "source": [
    "# Create plots of P-T profiles, opacities, and clouds"
   ]
  },
  {
   "cell_type": "code",
   "execution_count": null,
   "id": "5db90a7c",
   "metadata": {},
   "outputs": [],
   "source": [
    "species.plot_pt_profile(tag='roxs42bb',\n",
    "                        random=100,\n",
    "                        xlim=(0., 6000.),\n",
    "                        offset=(-0.07, -0.14),\n",
    "                        output='plot/pt_profile_grains.pdf',\n",
    "                        radtrans=radtrans,\n",
    "                        extra_axis='grains')\n",
    "\n",
    "species.plot_opacities(tag='roxs42bb',\n",
    "                       offset=(-0.1, -0.14),\n",
    "                       output='plot/opacities.pdf',\n",
    "                       radtrans=radtrans)\n",
    "\n",
    "species.plot_clouds(tag='roxs42bb',\n",
    "                    offset=(-0.1, -0.15),\n",
    "                    output='plot/clouds.pdf',\n",
    "                    radtrans=radtrans,\n",
    "                    composition='MgSiO3')"
   ]
  },
  {
   "cell_type": "markdown",
   "id": "8bc55ef7",
   "metadata": {},
   "source": [
    "## Read companion data, best-fit sample, and fit residuals"
   ]
  },
  {
   "cell_type": "code",
   "execution_count": null,
   "id": "552b2252",
   "metadata": {},
   "outputs": [],
   "source": [
    "best = database.get_probable_sample(tag='roxs42bb')\n",
    "\n",
    "objectbox = database.get_object('ROXs 42 Bb',\n",
    "                                inc_phot=False)\n",
    "\n",
    "objectbox = species.update_spectra(objectbox, best)\n",
    "\n",
    "residuals = species.get_residuals(datatype='model',\n",
    "                                  spectrum='petitradtrans',\n",
    "                                  parameters=best,\n",
    "                                  objectbox=objectbox,\n",
    "                                  inc_phot=False,\n",
    "                                  inc_spec=True,\n",
    "                                  radtrans=radtrans)\n",
    "\n",
    "modelbox = radtrans.get_model(model_param=best,\n",
    "                              spec_res=2000.,\n",
    "                              plot_contribution='plot/contribution.pdf')\n",
    "\n",
    "no_clouds = best.copy()\n",
    "no_clouds['log_tau_cloud'] = -100.\n",
    "model_no_clouds = radtrans.get_model(no_clouds)"
   ]
  },
  {
   "cell_type": "markdown",
   "id": "b925217c",
   "metadata": {},
   "source": [
    "## Plot the SED with data and models"
   ]
  },
  {
   "cell_type": "code",
   "execution_count": null,
   "id": "ef0fd708",
   "metadata": {},
   "outputs": [],
   "source": [
    "species.plot_spectrum(boxes=[samples, modelbox, model_no_clouds, objectbox],\n",
    "                      filters=None,\n",
    "                      plot_kwargs=[{'ls': '-', 'lw': 0.1, 'color': 'gray'},\n",
    "                                   {'ls': '-', 'lw': 0.5, 'color': 'black'},\n",
    "                                   {'ls': '--', 'lw': 0.3, 'color': 'black'},\n",
    "                                   {'NIFS': {'marker': 'o', 'ms': 2., 'color': 'tab:green', 'ls': 'none', 'alpha': 0.2, 'mew': 0., 'label': 'NIFS'},\n",
    "                                    'OSIRIS': {'marker': 'o', 'ms': 2., 'color': 'tab:blue', 'ls': 'none', 'alpha': 0.2, 'mew': 0., 'label': 'OSIRIS'},\n",
    "                                    'SINFONI': {'marker': 'o', 'ms': 2., 'color': 'tab:orange', 'ls': 'none', 'alpha': 0.2, 'mew': 0., 'label': 'SINFONI'}}],\n",
    "                      residuals=residuals,\n",
    "                      xlim=(1.1, 2.5),\n",
    "                      ylim=(0.15e-16, 1.15e-15),\n",
    "                      ylim_res=(-5., 5.),\n",
    "                      scale=('linear', 'linear'),\n",
    "                      offset=(-0.6, -0.05),\n",
    "                      figsize=(8, 2.5),\n",
    "                      legend=[{'loc': 'upper right', 'fontsize': 8.}, {'loc': 'lower left', 'fontsize': 8.}],\n",
    "                      output='plot/spectrum.pdf')"
   ]
  },
  {
   "cell_type": "markdown",
   "id": "59f96d8a",
   "metadata": {},
   "source": [
    "## Plot the SED over broader wavelength range"
   ]
  },
  {
   "cell_type": "code",
   "execution_count": null,
   "id": "1a602334",
   "metadata": {},
   "outputs": [],
   "source": [
    "modelbox = radtrans.get_model(model_param=best,\n",
    "                              spec_res=200.,\n",
    "                              plot_contribution='plot/contribution.pdf')\n",
    "\n",
    "objectbox = database.get_object('ROXs 42 Bb',\n",
    "                                inc_phot=True)\n",
    "\n",
    "objectbox = species.update_spectra(objectbox, best)\n",
    "\n",
    "for item in ['NIFS', 'OSIRIS', 'SINFONI']:\n",
    "    objectbox.spectrum[item] = (objectbox.spectrum[item][0][::50, ],\n",
    "                                objectbox.spectrum[item][1],\n",
    "                                objectbox.spectrum[item][2],\n",
    "                                objectbox.spectrum[item][3])\n",
    "\n",
    "residuals = species.get_residuals(datatype='model',\n",
    "                                  spectrum='petitradtrans',\n",
    "                                  parameters=best,\n",
    "                                  objectbox=objectbox,\n",
    "                                  inc_phot=True,\n",
    "                                  inc_spec=True,\n",
    "                                  radtrans=radtrans)\n",
    "\n",
    "synphot = species.multi_photometry(datatype='model',\n",
    "                                   spectrum='petitradtrans',\n",
    "                                   filters=objectbox.filters,\n",
    "                                   parameters=best,\n",
    "                                   radtrans=radtrans)\n",
    "\n",
    "object_kwargs = {'NIFS': {'marker': 'o', 'ms': 2.5, 'color': 'tab:green', 'ls': 'none', 'alpha': 0.5, 'mew': 0., 'label': 'Gemini/NIFS'},\n",
    "                 'OSIRIS': {'marker': 'o', 'ms': 2.5, 'color': 'tab:blue', 'ls': 'none', 'alpha': 0.5, 'mew': 0., 'label': 'Keck/OSIRIS'},\n",
    "                 'SINFONI': {'marker': 'o', 'ms': 2.5, 'color': 'tab:orange', 'ls': 'none', 'alpha': 0.5, 'mew': 0., 'label': 'VLT/SINFONI'}}\n",
    "\n",
    "for item in objectbox.magnitude:\n",
    "    object_kwargs[item] = {'marker': 's', 'ms': 3.5, 'color': 'black'}\n",
    "\n",
    "species.plot_spectrum(boxes=[samples, modelbox, objectbox, synphot],\n",
    "                      filters=None,\n",
    "                      plot_kwargs=[{'ls': '-', 'lw': 0.1, 'color': 'gray'},\n",
    "                                   {'ls': '-', 'lw': 0.5, 'color': 'black'},\n",
    "                                   object_kwargs,\n",
    "                                   None],\n",
    "                      residuals=residuals,\n",
    "                      xlim=(0.8, 5.),\n",
    "                      ylim=(0.15e-15, 1.9e-15),\n",
    "                      ylim_res=(-7., 7.),\n",
    "                      scale=('linear', 'linear'),\n",
    "                      offset=(-0.6, -0.04),\n",
    "                      figsize=(8, 2.5),\n",
    "                      legend=[None, {'loc': 'upper right', 'fontsize': 10.}],\n",
    "                      quantity='flux',\n",
    "                      output='plot/full_sed.pdf')"
   ]
  }
 ],
 "metadata": {
  "kernelspec": {
   "display_name": "Python 3 (ipykernel)",
   "language": "python",
   "name": "python3"
  },
  "language_info": {
   "codemirror_mode": {
    "name": "ipython",
    "version": 3
   },
   "file_extension": ".py",
   "mimetype": "text/x-python",
   "name": "python",
   "nbconvert_exporter": "python",
   "pygments_lexer": "ipython3",
   "version": "3.9.6"
  }
 },
 "nbformat": 4,
 "nbformat_minor": 5
}
