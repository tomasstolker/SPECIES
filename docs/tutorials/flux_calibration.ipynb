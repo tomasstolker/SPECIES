{
 "cells": [
  {
   "cell_type": "markdown",
   "metadata": {},
   "source": [
    "# Flux calibration: scaling a model spectrum to photometric fluxes"
   ]
  },
  {
   "cell_type": "markdown",
   "metadata": {},
   "source": [
    "Photometric and spectroscopic measurements of directly imaged planets typically provide the flux contrast between the companion and star. To calibrate the contrast of the companion to an apparent magnitude or flux requires an absolute measurement of the stellar flux. This tutorial shows and example on how to scale a BT-NextGen model spectrum to the 2MASS magnitudes of PZ Tel A. We will then use the scaled spectrum to calculate synthetic fluxes for the VLT/NACO Mp filter."
   ]
  },
  {
   "cell_type": "markdown",
   "metadata": {},
   "source": [
    "## Getting started"
   ]
  },
  {
   "cell_type": "markdown",
   "metadata": {},
   "source": [
    "We start by importing the required Python modules."
   ]
  },
  {
   "cell_type": "code",
   "execution_count": 1,
   "metadata": {},
   "outputs": [],
   "source": [
    "import numpy as np\n",
    "import species\n",
    "from IPython.display import Image"
   ]
  },
  {
   "cell_type": "markdown",
   "metadata": {},
   "source": [
    "Next, we initiate the *species* workflow."
   ]
  },
  {
   "cell_type": "code",
   "execution_count": 2,
   "metadata": {},
   "outputs": [
    {
     "name": "stdout",
     "output_type": "stream",
     "text": [
      "Initiating species v0.3.1... [DONE]\n",
      "Creating species_config.ini... [DONE]\n",
      "Database: /Users/tomasstolker/applications/species/docs/tutorials/species_database.hdf5\n",
      "Data folder: /Users/tomasstolker/applications/species/docs/tutorials/data\n",
      "Working folder: /Users/tomasstolker/applications/species/docs/tutorials\n",
      "Creating species_database.hdf5... [DONE]\n",
      "Creating data folder... [DONE]\n"
     ]
    },
    {
     "data": {
      "text/plain": [
       "<species.core.setup.SpeciesInit at 0x109179748>"
      ]
     },
     "execution_count": 2,
     "metadata": {},
     "output_type": "execute_result"
    }
   ],
   "source": [
    "species.SpeciesInit()"
   ]
  },
  {
   "cell_type": "markdown",
   "metadata": {},
   "source": [
    "And we create an instance of `Database` which provides read and write access to the HDF5 database."
   ]
  },
  {
   "cell_type": "code",
   "execution_count": 3,
   "metadata": {},
   "outputs": [],
   "source": [
    "database = species.Database()"
   ]
  },
  {
   "cell_type": "markdown",
   "metadata": {},
   "source": [
    "We also create a tuple with the GAIA distance and uncertainty of PZ Tel A."
   ]
  },
  {
   "cell_type": "code",
   "execution_count": 4,
   "metadata": {},
   "outputs": [],
   "source": [
    "distance = (47.13, 0.13)  # (pc)"
   ]
  },
  {
   "cell_type": "markdown",
   "metadata": {},
   "source": [
    "And a dictionary with the 2MASS magnitudes."
   ]
  },
  {
   "cell_type": "code",
   "execution_count": 5,
   "metadata": {},
   "outputs": [],
   "source": [
    "magnitudes = {'2MASS/2MASS.J':(6.856, 0.021),\n",
    "              '2MASS/2MASS.H':(6.486, 0.049),\n",
    "              '2MASS/2MASS.Ks':(6.366, 0.024)}"
   ]
  },
  {
   "cell_type": "markdown",
   "metadata": {},
   "source": [
    "For simplicty, we also create a list of the filter names for later use."
   ]
  },
  {
   "cell_type": "code",
   "execution_count": 6,
   "metadata": {},
   "outputs": [],
   "source": [
    "filters = list(magnitudes.keys())"
   ]
  },
  {
   "cell_type": "markdown",
   "metadata": {},
   "source": [
    "## Adding data of an individual object"
   ]
  },
  {
   "cell_type": "markdown",
   "metadata": {},
   "source": [
    "We can store the distance and magnitudes of PZ Tel A in the database with the `add_object` method. This will also download a flux-calibrated spectrum of Vega and convert the magnitudes into fluxes."
   ]
  },
  {
   "cell_type": "code",
   "execution_count": 7,
   "metadata": {},
   "outputs": [
    {
     "name": "stdout",
     "output_type": "stream",
     "text": [
      "Downloading Vega spectrum (270 kB)... [DONE]\n",
      "Adding Vega spectrum... [DONE]\n",
      "Adding filter: 2MASS/2MASS.J... [DONE]\n",
      "Adding filter: 2MASS/2MASS.H... [DONE]\n",
      "Adding filter: 2MASS/2MASS.Ks... [DONE]\n",
      "Adding object: PZ Tel A\n",
      "   - Distance (pc) = 47.13 +/- 0.13\n",
      "   - 2MASS/2MASS.J:\n",
      "      - Apparent magnitude = 6.86 +/- 0.02\n",
      "      - Flux (W m-2 um-1) = 5.81e-12 +/- 1.12e-13\n",
      "   - 2MASS/2MASS.H:\n",
      "      - Apparent magnitude = 6.49 +/- 0.05\n",
      "      - Flux (W m-2 um-1) = 2.98e-12 +/- 1.34e-13\n",
      "   - 2MASS/2MASS.Ks:\n",
      "      - Apparent magnitude = 6.37 +/- 0.02\n",
      "      - Flux (W m-2 um-1) = 1.25e-12 +/- 2.76e-14\n"
     ]
    }
   ],
   "source": [
    "database.add_object(object_name='PZ Tel A',\n",
    "                    distance=distance,\n",
    "                    app_mag=magnitudes,\n",
    "                    spectrum=None)"
   ]
  },
  {
   "cell_type": "markdown",
   "metadata": {},
   "source": [
    "## Adding a grid of model spectra"
   ]
  },
  {
   "cell_type": "markdown",
   "metadata": {},
   "source": [
    "We will also download the BT-NextGen spectra and add the spectra of a limited T<sub>eff</sub> range to the database. Later on, we will extract a spectrum from this grid and use it for the calibration."
   ]
  },
  {
   "cell_type": "code",
   "execution_count": 8,
   "metadata": {},
   "outputs": [
    {
     "name": "stdout",
     "output_type": "stream",
     "text": [
      "Downloading BT-NextGen model spectra (368 MB)... [DONE]\n",
      "Unpacking BT-NextGen model spectra (368 MB)... [DONE]\n",
      "Adding BT-NextGen model spectra... [DONE]                                         \n",
      "Grid points stored in the database:\n",
      "   - Teff = [4500. 4600. 4700. 4800. 4900. 5000. 5100. 5200. 5300. 5400. 5500.]\n",
      "   - log(g) = [3. 4. 5.]\n",
      "   - [Fe/H] = [0.  0.3 0.5]\n",
      "Number of grid points per parameter:\n",
      "   - teff: 11\n",
      "   - logg: 3\n",
      "   - feh: 3\n",
      "Fix missing grid points with a linear interpolation:\n",
      "Number of stored grid points: 99\n",
      "Number of interpolated grid points: 0\n",
      "Number of missing grid points: 0\n"
     ]
    }
   ],
   "source": [
    "database.add_model('bt-nextgen', teff_range=(4500., 5500.))"
   ]
  },
  {
   "cell_type": "markdown",
   "metadata": {},
   "source": [
    "## Adding a calibration spectrum"
   ]
  },
  {
   "cell_type": "markdown",
   "metadata": {},
   "source": [
    "The calibration spectrum is extracted from the BT-NextGen model grid. To do so, we first create an instance of `ReadModel` and consider the full wavelength range of the spectra as they are stored in the database."
   ]
  },
  {
   "cell_type": "code",
   "execution_count": 9,
   "metadata": {},
   "outputs": [],
   "source": [
    "model = species.ReadModel('bt-nextgen', wavel_range=None)"
   ]
  },
  {
   "cell_type": "markdown",
   "metadata": {},
   "source": [
    "Next, we interpolate the grid with the `get_model` method at the (approximate) effective temperature, surface gravity, and metallicity of PZ Tel A."
   ]
  },
  {
   "cell_type": "code",
   "execution_count": 10,
   "metadata": {},
   "outputs": [],
   "source": [
    "model_box = model.get_model({'teff': 5000., 'logg': 4., 'feh': 0.})"
   ]
  },
  {
   "cell_type": "markdown",
   "metadata": {},
   "source": [
    "The method returns the data in a `ModelBox`. Let's have a look at the content with the `open_box` function."
   ]
  },
  {
   "cell_type": "code",
   "execution_count": 11,
   "metadata": {},
   "outputs": [
    {
     "name": "stdout",
     "output_type": "stream",
     "text": [
      "Opening ModelBox...\n",
      "model = bt-nextgen\n",
      "type = None\n",
      "wavelength = [ 0.1         0.10002476  0.10004953 ... 49.97524871 49.98762282\n",
      " 50.        ]\n",
      "flux = [5.67567052e-07 4.12210439e-07 4.07441433e-07 ... 1.58742049e+01\n",
      " 1.58593879e+01 1.58419862e+01]\n",
      "parameters = {'teff': 5000.0, 'logg': 4.0, 'feh': 0.0}\n",
      "quantity = flux\n"
     ]
    }
   ],
   "source": [
    "model_box.open_box()"
   ]
  },
  {
   "cell_type": "markdown",
   "metadata": {},
   "source": [
    "To store the calibration spectrum in the database, we either require a text file with the spectrum or a `numpy` array. Therefore, we simply create an array from the `wavelength` and `flux` attributes of the `ModelBox`."
   ]
  },
  {
   "cell_type": "code",
   "execution_count": 12,
   "metadata": {},
   "outputs": [],
   "source": [
    "cal_spectrum = np.column_stack((model_box.wavelength, model_box.flux))"
   ]
  },
  {
   "cell_type": "markdown",
   "metadata": {},
   "source": [
    "Let's check if the shape of the array is as expected."
   ]
  },
  {
   "cell_type": "code",
   "execution_count": 13,
   "metadata": {},
   "outputs": [
    {
     "data": {
      "text/plain": [
       "(25103, 2)"
      ]
     },
     "execution_count": 13,
     "metadata": {},
     "output_type": "execute_result"
    }
   ],
   "source": [
    "cal_spectrum.shape"
   ]
  },
  {
   "cell_type": "markdown",
   "metadata": {},
   "source": [
    "Finally, we use the `add_calibration` method of `Database` to store the calibration spectrum in the database. The attribute of `tag` is later on used to select the calibration spectrum in the database."
   ]
  },
  {
   "cell_type": "code",
   "execution_count": 14,
   "metadata": {},
   "outputs": [
    {
     "name": "stdout",
     "output_type": "stream",
     "text": [
      "Adding calibration spectrum: cal_spec... [DONE]\n"
     ]
    }
   ],
   "source": [
    "database.add_calibration(tag='cal_spec',\n",
    "                         filename=None,\n",
    "                         data=cal_spectrum,\n",
    "                         units={'wavelength': 'um', 'flux': 'w m-2 um-1'})"
   ]
  },
  {
   "cell_type": "markdown",
   "metadata": {},
   "source": [
    "## Fitting the 2MASS fluxes with the calibration spectrum"
   ]
  },
  {
   "cell_type": "markdown",
   "metadata": {},
   "source": [
    "We will now scale the BT-NextGen spectrum to the 2MASS fluxes by fitting a scaling parameter. For this procedure, we use the functionalities of `FitSpectrum`, which is initiated by providing the database tag with the data of PZ Tel A, a list with the filters that are used, the database tag of the calibration spectrum, and a dictionary with the prior boundaries for the scaling parameter."
   ]
  },
  {
   "cell_type": "code",
   "execution_count": 15,
   "metadata": {},
   "outputs": [],
   "source": [
    "fit = species.FitSpectrum(object_name='PZ Tel A',\n",
    "                          filters=filters,\n",
    "                          spectrum='cal_spec',\n",
    "                          bounds={'scaling': (0., 1e-18)})"
   ]
  },
  {
   "cell_type": "markdown",
   "metadata": {},
   "source": [
    "The posterior distribution is now sampled with the `run_mcmc` method and the samples are stored in the database by the `tag` name. The MCMC ensemble sampler of [*emcee*](https://emcee.readthedocs.io/en/stable/) requires an initial guess for the scaling parameter. The guess should be somewhat comparable to $(radius/distance)^2$ (i.e. to scale the flux from the atmosphere surface to the observer) but the sampler will probably also find the maximum liklihood if the guess is not so close to the maximum likelihood (as long as the `bounds` range is sufficiently wide). We will run the MCMC with 200 walkers and 1000 steps per walker."
   ]
  },
  {
   "cell_type": "code",
   "execution_count": 16,
   "metadata": {},
   "outputs": [
    {
     "name": "stdout",
     "output_type": "stream",
     "text": [
      "Running MCMC...\n"
     ]
    },
    {
     "name": "stderr",
     "output_type": "stream",
     "text": [
      "100%|██████████| 1000/1000 [00:30<00:00, 32.42it/s]\n"
     ]
    },
    {
     "name": "stdout",
     "output_type": "stream",
     "text": [
      "Mean acceptance fraction: 0.792\n",
      "Integrated autocorrelation time = [0.96126598]\n"
     ]
    }
   ],
   "source": [
    "fit.run_mcmc(nwalkers=200,\n",
    "             nsteps=1000,\n",
    "             guess={'scaling': 1e-19},\n",
    "             tag='pztel')"
   ]
  },
  {
   "cell_type": "markdown",
   "metadata": {},
   "source": [
    "## Plotting the MCMC results"
   ]
  },
  {
   "cell_type": "markdown",
   "metadata": {},
   "source": [
    "Let's have a look at the result from the MCMC. We first plot the evolution of the walkers to check if they converged."
   ]
  },
  {
   "cell_type": "code",
   "execution_count": 17,
   "metadata": {},
   "outputs": [
    {
     "name": "stdout",
     "output_type": "stream",
     "text": [
      "Plotting walkers: walkers.png... [DONE]\n"
     ]
    }
   ],
   "source": [
    "species.plot_walkers(tag='pztel',\n",
    "                     nsteps=None,\n",
    "                     offset=(-0.2, -0.08),\n",
    "                     output='walkers.png')"
   ]
  },
  {
   "cell_type": "code",
   "execution_count": 18,
   "metadata": {},
   "outputs": [
    {
     "data": {
      "image/png": "[encoded data removed]",
      "text/plain": [
       "<IPython.core.display.Image object>"
      ]
     },
     "execution_count": 18,
     "metadata": {},
     "output_type": "execute_result"
    }
   ],
   "source": [
    "Image('walkers.png')"
   ]
  },
  {
   "cell_type": "markdown",
   "metadata": {},
   "source": [
    "The walkers seem to have converged after ~50 steps already."
   ]
  },
  {
   "cell_type": "markdown",
   "metadata": {},
   "source": [
    "Next, we plot the posterior distribution of the scaling parameter to get the best-fit value and uncertainty. We exclude the first 200 steps as burnin of the MCMC sampling."
   ]
  },
  {
   "cell_type": "code",
   "execution_count": 19,
   "metadata": {},
   "outputs": [
    {
     "name": "stdout",
     "output_type": "stream",
     "text": [
      "Median sample:\n",
      "   - scaling = 0.00\n",
      "Maximum posterior sample:\n",
      "   - scaling = 0.00\n",
      "Plotting the posterior: posterior.png... [DONE]\n"
     ]
    }
   ],
   "source": [
    "species.plot_posterior(tag='pztel',\n",
    "                       burnin=200,\n",
    "                       offset=(-0.3, -0.10),\n",
    "                       title_fmt='.2e',\n",
    "                       output='posterior.png')"
   ]
  },
  {
   "cell_type": "code",
   "execution_count": 20,
   "metadata": {},
   "outputs": [
    {
     "data": {
      "image/png": "[encoded data removed]",
      "text/plain": [
       "<IPython.core.display.Image object>"
      ]
     },
     "execution_count": 20,
     "metadata": {},
     "output_type": "execute_result"
    }
   ],
   "source": [
    "Image('posterior.png')"
   ]
  },
  {
   "cell_type": "markdown",
   "metadata": {},
   "source": [
    "## Plotting the data and best-fit model"
   ]
  },
  {
   "cell_type": "markdown",
   "metadata": {},
   "source": [
    "Finally, we will combine the MCMC spectra and the photometric data in a plot. For this, we require the data of PZ Tel A which are obtained with the `get_object` method of `Database`. The data are stored in an `ObjectBox`."
   ]
  },
  {
   "cell_type": "code",
   "execution_count": 21,
   "metadata": {},
   "outputs": [
    {
     "name": "stdout",
     "output_type": "stream",
     "text": [
      "Getting object: PZ Tel A... [DONE]\n"
     ]
    }
   ],
   "source": [
    "objectbox = database.get_object(object_name='PZ Tel A',\n",
    "                                inc_phot=filters)"
   ]
  },
  {
   "cell_type": "markdown",
   "metadata": {},
   "source": [
    "We also select 30 random spectra from the posterior distribution with the `get_mcmc_spectra` method."
   ]
  },
  {
   "cell_type": "code",
   "execution_count": 22,
   "metadata": {},
   "outputs": [
    {
     "name": "stderr",
     "output_type": "stream",
     "text": [
      "Getting MCMC spectra: 100%|██████████| 30/30 [00:00<00:00, 602.15it/s]\n"
     ]
    }
   ],
   "source": [
    "samples = database.get_mcmc_spectra(tag='pztel',\n",
    "                                    burnin=200,\n",
    "                                    random=30,\n",
    "                                    wavel_range=(0.5, 10.),\n",
    "                                    spec_res=None)"
   ]
  },
  {
   "cell_type": "markdown",
   "metadata": {},
   "source": [
    "And we use `get_median_sample` to return a dictionary with the median values of the posterior distribution. In this case it only contains the `scaling` parameter."
   ]
  },
  {
   "cell_type": "code",
   "execution_count": 23,
   "metadata": {},
   "outputs": [],
   "source": [
    "median = database.get_median_sample(tag='pztel', burnin=200)"
   ]
  },
  {
   "cell_type": "markdown",
   "metadata": {},
   "source": [
    "Let's have a look at the content of the dictionary."
   ]
  },
  {
   "cell_type": "code",
   "execution_count": 24,
   "metadata": {},
   "outputs": [
    {
     "name": "stdout",
     "output_type": "stream",
     "text": [
      "{'scaling': 3.7561166494901253e-19}\n"
     ]
    }
   ],
   "source": [
    "print(median)"
   ]
  },
  {
   "cell_type": "markdown",
   "metadata": {},
   "source": [
    "We will now read the calibration spectrum and apply the best-fit scaling value. We start by creating an instance of `ReadCalibration` and point the argument of `tag` to the stored spectrum in the database."
   ]
  },
  {
   "cell_type": "code",
   "execution_count": 25,
   "metadata": {},
   "outputs": [],
   "source": [
    "readcalib = species.ReadCalibration(tag='cal_spec',\n",
    "                                    filter_name=None)"
   ]
  },
  {
   "cell_type": "markdown",
   "metadata": {},
   "source": [
    "The spectrum is now read with the `get_spectrum` method by providing the dictionary with the model parameter."
   ]
  },
  {
   "cell_type": "code",
   "execution_count": 26,
   "metadata": {},
   "outputs": [],
   "source": [
    "spectrum = readcalib.get_spectrum(model_param=median)"
   ]
  },
  {
   "cell_type": "markdown",
   "metadata": {},
   "source": [
    "We will also use the best-fit scaling to calculate synthetic photometry for the 2MASS filters, which will be compared with the true 2MASS fluxes."
   ]
  },
  {
   "cell_type": "code",
   "execution_count": 27,
   "metadata": {},
   "outputs": [
    {
     "name": "stdout",
     "output_type": "stream",
     "text": [
      "Calculating synthetic photometry... [DONE]\n"
     ]
    }
   ],
   "source": [
    "synphot = species.multi_photometry(datatype='calibration',\n",
    "                                   spectrum='cal_spec',\n",
    "                                   filters=filters,\n",
    "                                   parameters=median)"
   ]
  },
  {
   "cell_type": "markdown",
   "metadata": {},
   "source": [
    "And we calculate the residuals between the 2MASS fluxes of PZ Tel A, which are stored in the `ObjectBox`, and the synthetic fluxes of the best-fit spectrum. The residuals are stored in a `ResidualsBox`."
   ]
  },
  {
   "cell_type": "code",
   "execution_count": 28,
   "metadata": {},
   "outputs": [
    {
     "name": "stdout",
     "output_type": "stream",
     "text": [
      "Calculating synthetic photometry... [DONE]\n",
      "Calculating residuals... [DONE]\n",
      "Residuals (sigma):\n",
      "   - 2MASS/2MASS.J: 2.29\n",
      "   - 2MASS/2MASS.H: -1.89\n",
      "   - 2MASS/2MASS.Ks: -1.44\n"
     ]
    }
   ],
   "source": [
    "residuals = species.get_residuals(datatype='calibration',\n",
    "                                  spectrum='cal_spec',\n",
    "                                  parameters=median,\n",
    "                                  objectbox=objectbox,\n",
    "                                  inc_phot=filters,\n",
    "                                  inc_spec=False)"
   ]
  },
  {
   "cell_type": "markdown",
   "metadata": {},
   "source": [
    "Finally, all the boxes are combined in a list and provided as argument of `boxes` in the `plot_spectrum` function. We will also plot the 2MASS filter profiles and the residuals between the data and the best-fit model."
   ]
  },
  {
   "cell_type": "code",
   "execution_count": 29,
   "metadata": {},
   "outputs": [
    {
     "name": "stdout",
     "output_type": "stream",
     "text": [
      "Plotting spectrum: spectrum.png... [DONE]\n"
     ]
    }
   ],
   "source": [
    "species.plot_spectrum(boxes=[samples, spectrum, objectbox, synphot],\n",
    "                      filters=filters,\n",
    "                      residuals=residuals,\n",
    "                      plot_kwargs=[{'ls': '-', 'lw': 0.2, 'color': 'gray'},\n",
    "                                   {'ls': '-', 'lw': 1., 'color': 'black'},\n",
    "                                   {'2MASS/2MASS.J': {'marker': 's', 'ms': 4., 'color': 'tomato', 'ls': 'none'},\n",
    "                                    '2MASS/2MASS.H': {'marker': 's', 'ms': 4., 'color': 'tomato', 'ls': 'none'},\n",
    "                                    '2MASS/2MASS.Ks': {'marker': 's', 'ms': 4., 'color': 'tomato', 'ls': 'none'}},\n",
    "                                   None],\n",
    "                      xlim=(1., 2.5),\n",
    "                      ylim=(-1.5e-12, 1.1e-11),\n",
    "                      ylim_res=(-7., 7.),\n",
    "                      scale=('linear', 'linear'),\n",
    "                      offset=(-0.35, -0.04),\n",
    "                      figsize=(8., 4.5),\n",
    "                      output='spectrum.png')"
   ]
  },
  {
   "cell_type": "markdown",
   "metadata": {},
   "source": [
    "Let's have a look at the plot!"
   ]
  },
  {
   "cell_type": "code",
   "execution_count": 30,
   "metadata": {},
   "outputs": [
    {
     "data": {
      "image/png": "[encoded data removed]",
      "text/plain": [
       "<IPython.core.display.Image object>"
      ]
     },
     "execution_count": 30,
     "metadata": {},
     "output_type": "execute_result"
    }
   ],
   "source": [
    "Image('spectrum.png')"
   ]
  },
  {
   "cell_type": "markdown",
   "metadata": {},
   "source": [
    "## Photometric calibration"
   ]
  },
  {
   "cell_type": "markdown",
   "metadata": {},
   "source": [
    "A measured contrast of PZ Tel B can now be converted into an apparent magnitude or flux by calculating synthetic photometry for PZ Tel A for any other filter. As an example, we will calculate the flux and magnitude for the VLT/NACO Mp filter. We start by creating again an instance of `ReadCalibration` but we now provide the filter name (as listed by the [SVO Filter Profile Service](http://svo2.cab.inta-csic.es/svo/theory/fps/)) as argument of `filter_name`."
   ]
  },
  {
   "cell_type": "code",
   "execution_count": 31,
   "metadata": {},
   "outputs": [
    {
     "name": "stdout",
     "output_type": "stream",
     "text": [
      "Adding filter: Paranal/NACO.Mp... [DONE]\n"
     ]
    }
   ],
   "source": [
    "readcalib = species.ReadCalibration(tag='cal_spec',\n",
    "                                    filter_name='Paranal/NACO.Mp')"
   ]
  },
  {
   "cell_type": "markdown",
   "metadata": {},
   "source": [
    "Next, we use the `get_flux` method and the dictionary with the best-fit scaling value to calculate the flux density of PZ Tel A in the NACO Mp filter."
   ]
  },
  {
   "cell_type": "code",
   "execution_count": 32,
   "metadata": {},
   "outputs": [
    {
     "name": "stdout",
     "output_type": "stream",
     "text": [
      "Flux density (W m-2 um-1) = 6.12e-14\n"
     ]
    }
   ],
   "source": [
    "flux = readcalib.get_flux(model_param=median)\n",
    "print(f'Flux density (W m-2 um-1) = {flux[0]:.2e}')"
   ]
  },
  {
   "cell_type": "markdown",
   "metadata": {},
   "source": [
    "Or, we can calculate the apparent and absolute magnitude by using the `get_magnitude` method."
   ]
  },
  {
   "cell_type": "code",
   "execution_count": 33,
   "metadata": {},
   "outputs": [
    {
     "name": "stdout",
     "output_type": "stream",
     "text": [
      "Apparent magnitude = 6.37\n",
      "Absolute magnitude = 3.00\n"
     ]
    }
   ],
   "source": [
    "app_mag, abs_mag = readcalib.get_magnitude(model_param=median, distance=distance)\n",
    "print(f'Apparent magnitude = {app_mag[0]:.2f}')\n",
    "print(f'Absolute magnitude = {abs_mag[0]:.2f}')"
   ]
  },
  {
   "cell_type": "markdown",
   "metadata": {},
   "source": [
    "We can also estimate the uncertainty on the magnitude by calculating synthetic magnitudes from the posterior samples. Here, we only select the last 100 samples of each walker to limit the computation time. We can plot the posterior distribution for the NACO Mp filter with the `plot_mag_posterior` function."
   ]
  },
  {
   "cell_type": "code",
   "execution_count": 34,
   "metadata": {},
   "outputs": [
    {
     "name": "stderr",
     "output_type": "stream",
     "text": [
      "Getting MCMC photometry: 100%|██████████| 20000/20000 [03:54<00:00, 85.23it/s] "
     ]
    },
    {
     "name": "stdout",
     "output_type": "stream",
     "text": [
      "Plotting photometry samples: mag_posterior.png..."
     ]
    },
    {
     "name": "stderr",
     "output_type": "stream",
     "text": [
      "\n"
     ]
    },
    {
     "name": "stdout",
     "output_type": "stream",
     "text": [
      " [DONE]\n"
     ]
    }
   ],
   "source": [
    "species.plot_mag_posterior(tag='pztel',\n",
    "                           filter_name='Paranal/NACO.Mp',\n",
    "                           burnin=900,\n",
    "                           xlim=None,\n",
    "                           output='mag_posterior.png')"
   ]
  },
  {
   "cell_type": "markdown",
   "metadata": {},
   "source": [
    "Let's have a look at the plot!"
   ]
  },
  {
   "cell_type": "code",
   "execution_count": 35,
   "metadata": {},
   "outputs": [
    {
     "data": {
      "image/png": "[encoded data removed]",
      "text/plain": [
       "<IPython.core.display.Image object>"
      ]
     },
     "execution_count": 35,
     "metadata": {},
     "output_type": "execute_result"
    }
   ],
   "source": [
    "Image('mag_posterior.png')"
   ]
  },
  {
   "cell_type": "markdown",
   "metadata": {},
   "source": [
    "## Spectral calibration"
   ]
  },
  {
   "cell_type": "markdown",
   "metadata": {},
   "source": [
    "Similarly, for spectral calibration of the star, we can also resample the best-fit model spectrum to the wavelengths points of a (contrast) spectrum of a companion. We create again an instance of `ReadCalibration` but set the argument of `filter_name` to `None`."
   ]
  },
  {
   "cell_type": "code",
   "execution_count": 36,
   "metadata": {},
   "outputs": [],
   "source": [
    "readcalib = species.ReadCalibration(tag='cal_spec',\n",
    "                                    filter_name=None)"
   ]
  },
  {
   "cell_type": "markdown",
   "metadata": {},
   "source": [
    "Next, we resample the best-fit spectrum to the required wavelength points with `resample_spectrum`. The wavelengths points are provided as an array to the `wavel_points` parameter. In this example, we simply create 20 linearly-spaced points between 1 and 2 $\\mu$m."
   ]
  },
  {
   "cell_type": "code",
   "execution_count": 37,
   "metadata": {},
   "outputs": [],
   "source": [
    "spec_box = readcalib.resample_spectrum(wavel_points=np.linspace(1., 2., 20),\n",
    "                                       model_param=median,\n",
    "                                       apply_mask=False)"
   ]
  },
  {
   "cell_type": "markdown",
   "metadata": {},
   "source": [
    "Let's have a look at the content of the returned `SpectrumBox`!"
   ]
  },
  {
   "cell_type": "code",
   "execution_count": 38,
   "metadata": {},
   "outputs": [
    {
     "name": "stdout",
     "output_type": "stream",
     "text": [
      "Opening SpectrumBox...\n",
      "spectrum = calibration\n",
      "wavelength = [1.         1.05263158 1.10526316 1.15789474 1.21052632 1.26315789\n",
      " 1.31578947 1.36842105 1.42105263 1.47368421 1.52631579 1.57894737\n",
      " 1.63157895 1.68421053 1.73684211 1.78947368 1.84210526 1.89473684\n",
      " 1.94736842 2.        ]\n",
      "flux = [8.14217450e-12 7.43950188e-12 6.67000406e-12 6.21129509e-12\n",
      " 5.73630952e-12 5.37992469e-12 5.00393477e-12 4.72416027e-12\n",
      " 4.35542317e-12 4.04968813e-12 3.83276532e-12 3.56730086e-12\n",
      " 3.36823635e-12 3.08273058e-12 2.76297746e-12 2.51230903e-12\n",
      " 2.25936568e-12 2.02975750e-12 1.84593508e-12 1.69037787e-12]\n",
      "error = [0. 0. 0. 0. 0. 0. 0. 0. 0. 0. 0. 0. 0. 0. 0. 0. 0. 0. 0. 0.]\n",
      "name = cal_spec\n",
      "simbad = None\n",
      "sptype = None\n",
      "distance = None\n"
     ]
    }
   ],
   "source": [
    "spec_box.open_box()"
   ]
  }
 ],
 "metadata": {
  "kernelspec": {
   "display_name": "Python 3",
   "language": "python",
   "name": "python3"
  },
  "language_info": {
   "codemirror_mode": {
    "name": "ipython",
    "version": 3
   },
   "file_extension": ".py",
   "mimetype": "text/x-python",
   "name": "python",
   "nbconvert_exporter": "python",
   "pygments_lexer": "ipython3",
   "version": "3.6.10"
  }
 },
 "nbformat": 4,
 "nbformat_minor": 2
}
