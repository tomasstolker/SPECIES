{
 "cells": [
  {
   "cell_type": "markdown",
   "metadata": {},
   "source": [
    "# Running *species*"
   ]
  },
  {
   "cell_type": "markdown",
   "metadata": {},
   "source": [
    "This tutorial shows what a typical workflow with [species](https://species.readthedocs.io/en/latest/species.html) looks like. We will compare the colors and magnitudes of a few directly imaged companions with those of field dwarfs from the [Database of Ultracool Parallaxes](http://www.as.utexas.edu/~tdupuy/plx/Database_of_Ultracool_Parallaxes.html)."
   ]
  },
  {
   "cell_type": "markdown",
   "metadata": {},
   "source": [
    "## Initiating *species*"
   ]
  },
  {
   "cell_type": "markdown",
   "metadata": {},
   "source": [
    "We start by importing the [species](https://species.readthedocs.io/en/latest/species.html) toolkit."
   ]
  },
  {
   "cell_type": "code",
   "execution_count": 1,
   "metadata": {},
   "outputs": [],
   "source": [
    "import species"
   ]
  },
  {
   "cell_type": "markdown",
   "metadata": {},
   "source": [
    "Next, the [configuration file](https://species.readthedocs.io/en/latest/configuration.html) (*species_config.ini*) is read from the working folder. Since the file does not exist, it is created with default values for the path of the HDF5 database and the location where the external data is stored. The database and data folder are also created since this is the first time that we run [species](https://species.readthedocs.io/en/latest/species.html) with the current configuration file. "
   ]
  },
  {
   "cell_type": "code",
   "execution_count": 2,
   "metadata": {},
   "outputs": [
    {
     "name": "stdout",
     "output_type": "stream",
     "text": [
      "Initiating species v0.3.1... [DONE]\n",
      "Creating species_config.ini... [DONE]\n",
      "Database: /Users/tomasstolker/applications/species/docs/tutorials/species_database.hdf5\n",
      "Data folder: /Users/tomasstolker/applications/species/docs/tutorials/data\n",
      "Working folder: /Users/tomasstolker/applications/species/docs/tutorials\n",
      "Creating species_database.hdf5... [DONE]\n",
      "Creating data folder... [DONE]\n"
     ]
    },
    {
     "data": {
      "text/plain": [
       "<species.core.setup.SpeciesInit at 0x13db6c0b8>"
      ]
     },
     "execution_count": 2,
     "metadata": {},
     "output_type": "execute_result"
    }
   ],
   "source": [
    "species.SpeciesInit()"
   ]
  },
  {
   "cell_type": "markdown",
   "metadata": {},
   "source": [
    "## Adding a photometric library"
   ]
  },
  {
   "cell_type": "markdown",
   "metadata": {},
   "source": [
    "A [Database](https://species.readthedocs.io/en/latest/species.data.html#species.data.database.Database) object is now created, which can be used for importing data from the chosen data folder into the database."
   ]
  },
  {
   "cell_type": "code",
   "execution_count": 3,
   "metadata": {},
   "outputs": [],
   "source": [
    "database = species.Database()"
   ]
  },
  {
   "cell_type": "markdown",
   "metadata": {},
   "source": [
    "The photometric data and parallaxes from the [Database of Ultracool Parallaxes](http://www.as.utexas.edu/~tdupuy/plx/Database_of_Ultracool_Parallaxes.html) are downloaded and added to the database with the [add_photometry](https://species.readthedocs.io/en/latest/species.data.html#species.data.database.Database.add_photometry) method of [Database](https://species.readthedocs.io/en/latest/species.data.html#species.data.database.Database)."
   ]
  },
  {
   "cell_type": "code",
   "execution_count": 4,
   "metadata": {},
   "outputs": [
    {
     "name": "stdout",
     "output_type": "stream",
     "text": [
      "Downloading Database of Ultracool Parallaxes (307 kB)... [DONE]\n",
      "Adding Database of Ultracool Parallaxes... [DONE]\n"
     ]
    }
   ],
   "source": [
    "database.add_photometry('vlm-plx')"
   ]
  },
  {
   "cell_type": "markdown",
   "metadata": {},
   "source": [
    "## Adding companion data"
   ]
  },
  {
   "cell_type": "markdown",
   "metadata": {},
   "source": [
    "A library of distances and magnitudes of directly imaged companions are available in the [species](https://species.readthedocs.io/en/latest/species.html) package (see [species.data.companions](https://github.com/tomasstolker/species/blob/master/species/data/companions.py)), which can be added to the [Database](https://species.readthedocs.io/en/latest/species.data.html#species.data.database.Database) with the [add_companion](https://species.readthedocs.io/en/latest/species.data.html#species.data.database.Database.add_companion) method (alternatively, photometric data of individual objects can be manually imported with [add_object](https://species.readthedocs.io/en/latest/species.data.html#species.data.database.Database.add_object)). In this example, we add the distance and magnitudes of 51 Eri b, beta Pic b, and PZ Tel B to the database. This will automatically download the filter profiles and a flux calibrated spectrum of Vega. These are required for the flux calibration of the companion magnitudes."
   ]
  },
  {
   "cell_type": "code",
   "execution_count": 5,
   "metadata": {},
   "outputs": [
    {
     "name": "stdout",
     "output_type": "stream",
     "text": [
      "Downloading Vega spectrum (270 kB)... [DONE]\n",
      "Adding Vega spectrum... [DONE]\n",
      "Adding filter: MKO/NSFCam.J... [DONE]\n",
      "Adding filter: MKO/NSFCam.H... [DONE]\n",
      "Adding filter: MKO/NSFCam.K... [DONE]\n",
      "Adding filter: Paranal/SPHERE.IRDIS_B_H... [DONE]\n",
      "Adding filter: Paranal/SPHERE.IRDIS_D_H23_2... [DONE]\n",
      "Adding filter: Paranal/SPHERE.IRDIS_D_K12_1... [DONE]\n",
      "Adding filter: Keck/NIRC2.Lp... [DONE]\n",
      "Adding filter: Keck/NIRC2.Ms... [DONE]\n",
      "Adding object: 51 Eri b\n",
      "   - Distance (pc) = 29.78 +/- 0.12\n",
      "   - MKO/NSFCam.J:\n",
      "      - Apparent magnitude = 19.04 +/- 0.40\n",
      "      - Flux (W m-2 um-1) = 7.52e-17 +/- 2.83e-17\n",
      "   - MKO/NSFCam.H:\n",
      "      - Apparent magnitude = 18.99 +/- 0.21\n",
      "      - Flux (W m-2 um-1) = 3.12e-17 +/- 6.07e-18\n",
      "   - MKO/NSFCam.K:\n",
      "      - Apparent magnitude = 18.67 +/- 0.19\n",
      "      - Flux (W m-2 um-1) = 1.42e-17 +/- 2.49e-18\n",
      "   - Paranal/SPHERE.IRDIS_B_H:\n",
      "      - Apparent magnitude = 19.45 +/- 0.29\n",
      "      - Flux (W m-2 um-1) = 2.06e-17 +/- 5.57e-18\n",
      "   - Paranal/SPHERE.IRDIS_D_H23_2:\n",
      "      - Apparent magnitude = 18.41 +/- 0.26\n",
      "      - Flux (W m-2 um-1) = 5.66e-17 +/- 1.37e-17\n",
      "   - Paranal/SPHERE.IRDIS_D_K12_1:\n",
      "      - Apparent magnitude = 17.55 +/- 0.14\n",
      "      - Flux (W m-2 um-1) = 4.64e-17 +/- 6.00e-18\n",
      "   - Keck/NIRC2.Lp:\n",
      "      - Apparent magnitude = 16.20 +/- 0.11\n",
      "      - Flux (W m-2 um-1) = 1.79e-17 +/- 1.81e-18\n",
      "   - Keck/NIRC2.Ms:\n",
      "      - Apparent magnitude = 16.10 +/- 0.50\n",
      "      - Flux (W m-2 um-1) = 8.47e-18 +/- 4.04e-18\n",
      "Adding filter: LCO/VisAO.Ys... [DONE]\n",
      "Adding filter: Paranal/NACO.J... [DONE]\n",
      "Adding filter: Gemini/NICI.ED286... [DONE]\n",
      "Adding filter: Paranal/NACO.H... [DONE]\n",
      "Adding filter: Paranal/NACO.Ks... [DONE]\n",
      "Adding filter: Paranal/NACO.NB374... [DONE]\n",
      "Adding filter: Paranal/NACO.Lp... [DONE]\n",
      "Adding filter: Paranal/NACO.NB405... [DONE]\n",
      "Adding filter: Paranal/NACO.Mp... [DONE]\n",
      "Adding filter: Paranal/SPHERE.IRDIS_D_K12_2... [DONE]\n",
      "Adding object: beta Pic b\n",
      "   - Distance (pc) = 19.75 +/- 0.13\n",
      "   - LCO/VisAO.Ys:\n",
      "      - Apparent magnitude = 15.53 +/- 0.34\n",
      "      - Flux (W m-2 um-1) = 4.27e-15 +/- 1.36e-15\n",
      "   - Paranal/NACO.J:\n",
      "      - Apparent magnitude = 14.11 +/- 0.21\n",
      "      - Flux (W m-2 um-1) = 6.87e-15 +/- 1.34e-15\n",
      "   - Gemini/NICI.ED286:\n",
      "      - Apparent magnitude = 13.18 +/- 0.15\n",
      "      - Flux (W m-2 um-1) = 6.99e-15 +/- 9.69e-16\n",
      "   - Paranal/NACO.H:\n",
      "      - Apparent magnitude = 13.32 +/- 0.14\n",
      "      - Flux (W m-2 um-1) = 5.47e-15 +/- 7.08e-16\n",
      "   - Paranal/NACO.Ks:\n",
      "      - Apparent magnitude = 12.64 +/- 0.11\n",
      "      - Flux (W m-2 um-1) = 4.04e-15 +/- 4.10e-16\n",
      "   - Paranal/NACO.NB374:\n",
      "      - Apparent magnitude = 11.25 +/- 0.23\n",
      "      - Flux (W m-2 um-1) = 1.69e-15 +/- 3.61e-16\n",
      "   - Paranal/NACO.Lp:\n",
      "      - Apparent magnitude = 11.30 +/- 0.06\n",
      "      - Flux (W m-2 um-1) = 1.59e-15 +/- 8.79e-17\n",
      "   - Paranal/NACO.NB405:\n",
      "      - Apparent magnitude = 10.98 +/- 0.05\n",
      "      - Flux (W m-2 um-1) = 1.61e-15 +/- 7.42e-17\n",
      "   - Paranal/NACO.Mp:\n",
      "      - Apparent magnitude = 11.10 +/- 0.12\n",
      "      - Flux (W m-2 um-1) = 7.86e-16 +/- 8.70e-17\n",
      "   - Paranal/SPHERE.IRDIS_D_K12_1:\n",
      "      - Apparent magnitude = 12.57 +/- 0.00\n",
      "      - Flux (W m-2 um-1) = 4.56e-15 +/- 1.26e-17\n",
      "   - Paranal/SPHERE.IRDIS_D_K12_2:\n",
      "      - Apparent magnitude = 12.21 +/- 0.00\n",
      "      - Flux (W m-2 um-1) = 4.92e-15 +/- 9.05e-18\n",
      "Adding filter: Paranal/SPHERE.ZIMPOL_R_PRIM... [DONE]\n",
      "Adding filter: Paranal/SPHERE.ZIMPOL_I_PRIM... [DONE]\n",
      "Adding filter: Paranal/SPHERE.IRDIS_D_H23_3... [DONE]\n",
      "Adding filter: Gemini/NIRI.H2S1v2-1-G0220... [DONE]\n",
      "Adding object: PZ Tel B\n",
      "   - Distance (pc) = 47.13 +/- 0.13\n",
      "   - Paranal/SPHERE.ZIMPOL_R_PRIM:\n",
      "      - Apparent magnitude = 17.84 +/- 0.31\n",
      "      - Flux (W m-2 um-1) = 1.83e-15 +/- 5.29e-16\n",
      "   - Paranal/SPHERE.ZIMPOL_I_PRIM:\n",
      "      - Apparent magnitude = 15.16 +/- 0.12\n",
      "      - Flux (W m-2 um-1) = 1.09e-14 +/- 1.20e-15\n",
      "   - Paranal/SPHERE.IRDIS_D_H23_2:\n",
      "      - Apparent magnitude = 11.78 +/- 0.19\n",
      "      - Flux (W m-2 um-1) = 2.54e-14 +/- 4.47e-15\n",
      "   - Paranal/SPHERE.IRDIS_D_H23_3:\n",
      "      - Apparent magnitude = 11.65 +/- 0.19\n",
      "      - Flux (W m-2 um-1) = 2.43e-14 +/- 4.27e-15\n",
      "   - Paranal/SPHERE.IRDIS_D_K12_1:\n",
      "      - Apparent magnitude = 11.56 +/- 0.09\n",
      "      - Flux (W m-2 um-1) = 1.15e-14 +/- 9.58e-16\n",
      "   - Paranal/SPHERE.IRDIS_D_K12_2:\n",
      "      - Apparent magnitude = 11.29 +/- 0.10\n",
      "      - Flux (W m-2 um-1) = 1.14e-14 +/- 1.05e-15\n",
      "   - Paranal/NACO.J:\n",
      "      - Apparent magnitude = 12.47 +/- 0.20\n",
      "      - Flux (W m-2 um-1) = 3.11e-14 +/- 5.76e-15\n",
      "   - Paranal/NACO.H:\n",
      "      - Apparent magnitude = 11.93 +/- 0.14\n",
      "      - Flux (W m-2 um-1) = 1.97e-14 +/- 2.55e-15\n",
      "   - Paranal/NACO.Ks:\n",
      "      - Apparent magnitude = 11.53 +/- 0.07\n",
      "      - Flux (W m-2 um-1) = 1.12e-14 +/- 7.25e-16\n",
      "   - Paranal/NACO.Lp:\n",
      "      - Apparent magnitude = 11.04 +/- 0.22\n",
      "      - Flux (W m-2 um-1) = 2.02e-15 +/- 4.12e-16\n",
      "   - Paranal/NACO.NB405:\n",
      "      - Apparent magnitude = 10.94 +/- 0.07\n",
      "      - Flux (W m-2 um-1) = 1.67e-15 +/- 1.08e-16\n",
      "   - Paranal/NACO.Mp:\n",
      "      - Apparent magnitude = 10.93 +/- 0.03\n",
      "      - Flux (W m-2 um-1) = 9.19e-16 +/- 2.54e-17\n",
      "   - Gemini/NICI.ED286:\n",
      "      - Apparent magnitude = 11.68 +/- 0.14\n",
      "      - Flux (W m-2 um-1) = 2.78e-14 +/- 3.60e-15\n",
      "   - Gemini/NIRI.H2S1v2-1-G0220:\n",
      "      - Apparent magnitude = 11.39 +/- 0.14\n",
      "      - Flux (W m-2 um-1) = 1.06e-14 +/- 1.37e-15\n"
     ]
    }
   ],
   "source": [
    "database.add_companion('51 Eri b')\n",
    "database.add_companion('beta Pic b')\n",
    "database.add_companion('PZ Tel B')"
   ]
  },
  {
   "cell_type": "markdown",
   "metadata": {},
   "source": [
    "## Reading color-magnitude data"
   ]
  },
  {
   "cell_type": "markdown",
   "metadata": {},
   "source": [
    "The colors and magnitudes from the [Database of Ultracool Parallaxes](http://www.as.utexas.edu/~tdupuy/plx/Database_of_Ultracool_Parallaxes.html) are read from the database in the working folder by first creating an instance of [ReadColorMagnitude](https://species.readthedocs.io/en/latest/species.read.html#species.read.read_color.ReadColorMagnitude)."
   ]
  },
  {
   "cell_type": "code",
   "execution_count": 6,
   "metadata": {},
   "outputs": [],
   "source": [
    "colormag = species.ReadColorMagnitude(library='vlm-plx',\n",
    "                                      filters_color=('MKO/NSFCam.J', 'MKO/NSFCam.H'),\n",
    "                                      filter_mag='MKO/NSFCam.J')"
   ]
  },
  {
   "cell_type": "markdown",
   "metadata": {},
   "source": [
    "The data of the field dwarfs are now read with the [get_color_magnitude](https://species.readthedocs.io/en/latest/species.read.html#species.read.read_color.ReadColorMagnitude.get_color_magnitude) method. This returns a [ColorMagBox](https://species.readthedocs.io/en/latest/species.core.html#species.core.box.ColorMagBox) with the requested data."
   ]
  },
  {
   "cell_type": "code",
   "execution_count": 7,
   "metadata": {},
   "outputs": [],
   "source": [
    "colorbox = colormag.get_color_magnitude(object_type='field')"
   ]
  },
  {
   "cell_type": "markdown",
   "metadata": {},
   "source": [
    "We also create a list with the color and magnitude filter names that we want to extract for the directly imaged companions."
   ]
  },
  {
   "cell_type": "code",
   "execution_count": 8,
   "metadata": {},
   "outputs": [],
   "source": [
    "objects = [('51 Eri b', 'MKO/NSFCam.J', 'MKO/NSFCam.H', 'MKO/NSFCam.J'),\n",
    "           ('beta Pic b', 'Paranal/NACO.J', 'Paranal/NACO.H', 'Paranal/NACO.J'),\n",
    "           ('PZ Tel B', 'Paranal/NACO.J', 'Paranal/NACO.H', 'Paranal/NACO.J')]"
   ]
  },
  {
   "cell_type": "markdown",
   "metadata": {},
   "source": [
    "## Plotting a color-magnitude diagram"
   ]
  },
  {
   "cell_type": "markdown",
   "metadata": {},
   "source": [
    "We will now combine the selected data in a color-magnitude diagram. The [ColorMagBox](https://species.readthedocs.io/en/latest/species.core.html#species.core.box.ColorMagBox) is provided in a list to the [plot_color_magnitude](https://species.readthedocs.io/en/latest/species.plot.html#species.plot.plot_color.plot_color_magnitude) function. The list with directly imaged objects is provided as argument of `objects`. We also add a reddening vector to show how the color changes for a size distribution of enstatite grains with a geometric mean radius of 0.1 $\\mu$m and an extinction in the J band of 1 mag."
   ]
  },
  {
   "cell_type": "code",
   "execution_count": 9,
   "metadata": {},
   "outputs": [
    {
     "name": "stdout",
     "output_type": "stream",
     "text": [
      "Downloading optical constants (87 kB)... [DONE]\n",
      "Unpacking optical constants... [DONE]\n",
      "Adding optical constants of MgSiO3... [DONE]\n",
      "Adding optical constants of Fe... [DONE]\n",
      "Downloading log-normal dust cross sections (231 kB)... [DONE]\n",
      "Adding log-normal dust cross sections:\n",
      "   - Data shape (n_wavelength, n_radius, n_sigma): (67, 20, 20)\n",
      "   - Wavelength range: 0.4 - 10.0 um\n",
      "   - Mean geometric radius range: 0.001 - 10.0 um\n",
      "   - Geometric standard deviation range: 1.1 - 10.0\n",
      "Downloading power-law dust cross sections (231 kB)... [DONE]\n",
      "Adding power-law dust cross sections\n",
      "   - Data shape (n_wavelength, n_radius, n_exponent): (132, 50, 50)\n",
      "   - Wavelength range: 0.4 - 10.0 um\n",
      "   - Maximum grain radius range: 0.01 - 100.0 um\n",
      "   - Power-law exponent range: -10.0 - 10.0\n",
      "Plotting color-magnitude diagram: color_mag.png... [DONE]\n"
     ]
    }
   ],
   "source": [
    "species.plot_color_magnitude(boxes=[colorbox, ],\n",
    "                             objects=objects,\n",
    "                             reddening=[(('MKO/NSFCam.J', 'MKO/NSFCam.H'), ('MKO/NSFCam.J', 1.), 'MgSiO3', 0.1, (-0.8, 10.))],\n",
    "                             label_x='J - H',\n",
    "                             label_y='M$_\\mathregular{J}$',\n",
    "                             xlim=(-1.2, 1.5),\n",
    "                             ylim=(21., 8.),\n",
    "                             offset=(-0.08, -0.08),\n",
    "                             companion_labels=True,\n",
    "                             field_range=('late M', 'late T'),\n",
    "                             legend=None,\n",
    "                             output='color_mag.png')"
   ]
  },
  {
   "cell_type": "markdown",
   "metadata": {},
   "source": [
    "Let's have a look at the result. The plot is stored in the working folder. The discrete colorbar shows the spectral types of the field dwarfs and the directly imaged objects are labeled individually."
   ]
  },
  {
   "cell_type": "code",
   "execution_count": 10,
   "metadata": {},
   "outputs": [
    {
     "data": {
      "image/png": "[encoded data removed]",
      "text/plain": [
       "<IPython.core.display.Image object>"
      ]
     },
     "execution_count": 10,
     "metadata": {},
     "output_type": "execute_result"
    }
   ],
   "source": [
    "from IPython.display import Image\n",
    "Image('color_mag.png')"
   ]
  }
 ],
 "metadata": {
  "kernelspec": {
   "display_name": "Python 3",
   "language": "python",
   "name": "python3"
  },
  "language_info": {
   "codemirror_mode": {
    "name": "ipython",
    "version": 3
   },
   "file_extension": ".py",
   "mimetype": "text/x-python",
   "name": "python",
   "nbconvert_exporter": "python",
   "pygments_lexer": "ipython3",
   "version": "3.6.10"
  }
 },
 "nbformat": 4,
 "nbformat_minor": 2
}
