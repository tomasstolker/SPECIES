{
 "cells": [
  {
   "cell_type": "markdown",
   "metadata": {},
   "source": [
    "# Model spectra and synthetic photometry"
   ]
  },
  {
   "cell_type": "markdown",
   "metadata": {},
   "source": [
    "In this tutorial, we will have a look at some spectra of the DRIFT-PHOENIX atmospheric model. The spectra are first downloaded and added to the database. Then we will use the functionalities of [ReadModel](https://species.readthedocs.io/en/latest/species.read.html#species.read.read_model.ReadModel) to extract a spectrum and calculate a photometric flux."
   ]
  },
  {
   "cell_type": "markdown",
   "metadata": {},
   "source": [
    "## Getting started"
   ]
  },
  {
   "cell_type": "markdown",
   "metadata": {},
   "source": [
    "We start by importing the required Python modules."
   ]
  },
  {
   "cell_type": "code",
   "execution_count": 1,
   "metadata": {},
   "outputs": [],
   "source": [
    "from species import SpeciesInit\n",
    "from species.data.database import Database\n",
    "from species.read.read_model import ReadModel\n",
    "from species.plot.plot_spectrum import plot_spectrum"
   ]
  },
  {
   "cell_type": "markdown",
   "metadata": {},
   "source": [
    "Then we initialize [species](https://species.readthedocs.io/en/latest/species.html) with [SpeciesInit](https://species.readthedocs.io/en/latest/species.core.html#species.core.species_init.SpeciesInit), which creates a default configuration file and the HDF5 database."
   ]
  },
  {
   "cell_type": "code",
   "execution_count": 2,
   "metadata": {},
   "outputs": [
    {
     "name": "stdout",
     "output_type": "stream",
     "text": [
      "==============\n",
      "species v0.7.4\n",
      "==============\n",
      "\n",
      "Working folder: /Users/tomasstolker/applications/species/docs/tutorials\n",
      "Creating species_config.ini... [DONE]\n",
      "Configuration settings:\n",
      "   - Database: /Users/tomasstolker/applications/species/docs/tutorials/species_database.hdf5\n",
      "   - Data folder: /Users/tomasstolker/applications/species/docs/tutorials/data\n",
      "   - Interpolation method: linear\n",
      "   - Magnitude of Vega: 0.03\n",
      "Creating species_database.hdf5... [DONE]\n",
      "Creating data folder... [DONE]\n"
     ]
    },
    {
     "data": {
      "text/plain": [
       "<species.core.species_init.SpeciesInit at 0x1112e8510>"
      ]
     },
     "execution_count": 2,
     "metadata": {},
     "output_type": "execute_result"
    }
   ],
   "source": [
    "SpeciesInit()"
   ]
  },
  {
   "cell_type": "markdown",
   "metadata": {},
   "source": [
    "## Adding model spectra to the database"
   ]
  },
  {
   "cell_type": "markdown",
   "metadata": {},
   "source": [
    "To store the spectra, we first create an instance of [Database](https://species.readthedocs.io/en/latest/species.data.html#species.data.database.Database)."
   ]
  },
  {
   "cell_type": "code",
   "execution_count": 3,
   "metadata": {},
   "outputs": [],
   "source": [
    "database = Database()"
   ]
  },
  {
   "cell_type": "markdown",
   "metadata": {},
   "source": [
    "Let's check which atmospheric models are available by running the [available_models](https://species.readthedocs.io/en/latest/species.data.html#species.data.database.Database.available_models) method of the [Database](https://species.readthedocs.io/en/latest/species.data.html#species.data.database.Database) object."
   ]
  },
  {
   "cell_type": "code",
   "execution_count": 4,
   "metadata": {},
   "outputs": [
    {
     "name": "stdout",
     "output_type": "stream",
     "text": [
      "Available model grids:\n",
      "   - AMES-Cond:\n",
      "      - Label = ames-cond\n",
      "      - Model parameters: ['teff', 'logg']\n",
      "      - Teff range (K): [100, 6600]\n",
      "      - Wavelength range (um): [0.5, 40]\n",
      "      - Resolution lambda/Dlambda: 4000\n",
      "      - File size: 150 MB\n",
      "\n",
      "   - AMES-Dusty:\n",
      "      - Label = ames-dusty\n",
      "      - Model parameters: ['teff', 'logg']\n",
      "      - Teff range (K): [500, 4000]\n",
      "      - Wavelength range (um): [0.5, 40]\n",
      "      - Resolution lambda/Dlambda: 4000\n",
      "      - File size: 58 MB\n",
      "\n",
      "   - ATMO:\n",
      "      - Label = atmo\n",
      "      - Model parameters: ['teff', 'logg']\n",
      "      - Teff range (K): [200, 3000]\n",
      "      - Wavelength range (um): [0.4, 6000]\n",
      "      - Resolution lambda/Dlambda: 10000\n",
      "      - File size: 425 MB\n",
      "      - Reference: Phillips et al. (2020)\n",
      "      - URL: https://ui.adsabs.harvard.edu/abs/2020A%26A...637A..38P/abstract\n",
      "\n",
      "   - ATMO CEQ:\n",
      "      - Label = atmo-ceq\n",
      "      - Model parameters: ['teff', 'logg']\n",
      "      - Teff range (K): [200, 3000]\n",
      "      - Wavelength range (um): [0.2, 6000]\n",
      "      - Resolution lambda/Dlambda: 10000\n",
      "      - File size: 455 MB\n",
      "      - Reference: Phillips et al. (2020)\n",
      "      - URL: https://ui.adsabs.harvard.edu/abs/2020A%26A...637A..38P/abstract\n",
      "\n",
      "   - ATMO NEQ weak:\n",
      "      - Label = atmo-neq-weak\n",
      "      - Model parameters: ['teff', 'logg']\n",
      "      - Teff range (K): [200, 1800]\n",
      "      - Wavelength range (um): [0.2, 6000]\n",
      "      - Resolution lambda/Dlambda: 10000\n",
      "      - File size: 276 MB\n",
      "      - Reference: Phillips et al. (2020)\n",
      "      - URL: https://ui.adsabs.harvard.edu/abs/2020A%26A...637A..38P/abstract\n",
      "\n",
      "   - ATMO NEQ strong:\n",
      "      - Label = atmo-neq-strong\n",
      "      - Model parameters: ['teff', 'logg']\n",
      "      - Teff range (K): [200, 1800]\n",
      "      - Wavelength range (um): [0.2, 6000]\n",
      "      - Resolution lambda/Dlambda: 10000\n",
      "      - File size: 274 MB\n",
      "      - Reference: Phillips et al. (2020)\n",
      "      - URL: https://ui.adsabs.harvard.edu/abs/2020A%26A...637A..38P/abstract\n",
      "\n",
      "   - ATMO (Petrus et al. 2023):\n",
      "      - Label = atmo-petrus2023\n",
      "      - Model parameters: ['teff', 'logg', 'feh', 'c_o_ratio', 'ad_index']\n",
      "      - Teff range (K): [800, 3000]\n",
      "      - Wavelength range (um): [0.2, 30]\n",
      "      - Resolution lambda/Dlambda: 3000\n",
      "      - File size: 2.1 GB\n",
      "      - Reference: Petrus et al. (2023)\n",
      "      - URL: https://ui.adsabs.harvard.edu/abs/2023A%26A...670L...9P/abstract\n",
      "\n",
      "   - blackbody:\n",
      "      - Label = blackbody\n",
      "      - Model parameters: ['teff']\n",
      "      - Teff range (K): [10, 20000]\n",
      "      - Wavelength range (um): [0.1, 5000]\n",
      "      - Resolution lambda/Dlambda: 1000\n",
      "      - File size: 56 MB\n",
      "\n",
      "   - BT-Cond:\n",
      "      - Label = bt-cond\n",
      "      - Model parameters: ['teff', 'logg']\n",
      "      - Teff range (K): [800, 4000]\n",
      "      - Wavelength range (um): [0.1, 100]\n",
      "      - Resolution lambda/Dlambda: 10000\n",
      "      - File size: 162 MB\n",
      "\n",
      "   - BT-Dusty:\n",
      "      - Label = bt-dusty\n",
      "      - Model parameters: ['teff', 'logg']\n",
      "      - Teff range (K): [1000, 4000]\n",
      "      - Wavelength range (um): [0.1, 100]\n",
      "      - Resolution lambda/Dlambda: 10000\n",
      "      - File size: 205 MB\n",
      "\n",
      "   - BT-Cond [Fe/H]:\n",
      "      - Label = bt-cond-feh\n",
      "      - Model parameters: ['teff', 'logg', 'feh']\n",
      "      - Teff range (K): [2600, 4000]\n",
      "      - Wavelength range (um): [0.1, 100]\n",
      "      - Resolution lambda/Dlambda: 10000\n",
      "      - File size: 390 MB\n",
      "\n",
      "   - BT-NextGen:\n",
      "      - Label = bt-nextgen\n",
      "      - Model parameters: ['teff', 'logg', 'feh']\n",
      "      - Teff range (K): [2600, 30000]\n",
      "      - Wavelength range (um): [0.1, 50]\n",
      "      - Resolution lambda/Dlambda: 4000\n",
      "      - File size: 368 MB\n",
      "\n",
      "   - BT-NextGen subsolar:\n",
      "      - Label = bt-nextgen-subsolar\n",
      "      - Model parameters: ['teff', 'logg', 'feh']\n",
      "      - Teff range (K): [2600, 30000]\n",
      "      - Wavelength range (um): [0.1, 50]\n",
      "      - Resolution lambda/Dlambda: 4000\n",
      "      - Extra details: [alpha/Fe] = 0.4\n",
      "      - File size: 1.5 GB\n",
      "\n",
      "   - BT-Settl:\n",
      "      - Label = bt-settl\n",
      "      - Model parameters: ['teff', 'logg']\n",
      "      - Teff range (K): [400, 4000]\n",
      "      - Wavelength range (um): [0.1, 100]\n",
      "      - Resolution lambda/Dlambda: 10000\n",
      "      - File size: 227 MB\n",
      "\n",
      "   - BT-Settl CIFIST:\n",
      "      - Label = bt-settl-cifist\n",
      "      - Model parameters: ['teff', 'logg']\n",
      "      - Teff range (K): [1200, 7000]\n",
      "      - Wavelength range (um): [0.1, 5000]\n",
      "      - Resolution lambda/Dlambda: 20000\n",
      "      - File size: 1.4 GB\n",
      "\n",
      "   - DRIFT-PHOENIX:\n",
      "      - Label = drift-phoenix\n",
      "      - Model parameters: ['teff', 'logg', 'feh']\n",
      "      - Teff range (K): [1000, 3000]\n",
      "      - Wavelength range (um): [0.1, 50]\n",
      "      - Resolution lambda/Dlambda: 4000\n",
      "      - File size: 229 MB\n",
      "      - Reference: Helling et al. (2008)\n",
      "      - URL: https://ui.adsabs.harvard.edu/abs/2008ApJ...675L.105H/abstract\n",
      "\n",
      "   - Exo-REM:\n",
      "      - Label = exo-rem\n",
      "      - Model parameters: ['teff', 'logg', 'feh', 'c_o_ratio']\n",
      "      - Teff range (K): [400, 2000]\n",
      "      - Wavelength range (um): [0.35, 250.0]\n",
      "      - Resolution lambda/Dlambda: 500\n",
      "      - File size: 530 MB\n",
      "      - Reference: Charnay et al. (2018)\n",
      "      - URL: https://ui.adsabs.harvard.edu/abs/2018ApJ...854..172C/abstract\n",
      "\n",
      "   - Exo-REM:\n",
      "      - Label = exo-rem-highres\n",
      "      - Model parameters: ['teff', 'logg', 'feh', 'c_o_ratio']\n",
      "      - Teff range (K): [400, 2000]\n",
      "      - Wavelength range (um): [0.67, 250.0]\n",
      "      - Resolution lambda/Dlambda: 20000\n",
      "      - File size: 16 GB\n",
      "      - Reference: Charnay et al. (2018)\n",
      "      - URL: https://ui.adsabs.harvard.edu/abs/2018ApJ...854..172C/abstract\n",
      "\n",
      "   - Koester WD:\n",
      "      - Label = koester-wd\n",
      "      - Model parameters: ['teff', 'logg']\n",
      "      - Teff range (K): [5000, 80000]\n",
      "      - Wavelength range (um): [0.09, 3]\n",
      "      - Resolution lambda/Dlambda: 2000\n",
      "      - File size: 291 MB\n",
      "      - Reference: Koester (2010)\n",
      "      - URL: https://ui.adsabs.harvard.edu/abs/2010MmSAI..81..921K/abstract\n",
      "\n",
      "   - Morley et al. (2012):\n",
      "      - Label = morley-2012\n",
      "      - Model parameters: ['teff', 'logg', 'fsed']\n",
      "      - Teff range (K): [400, 1300]\n",
      "      - Wavelength range (um): [0.6, 30]\n",
      "      - Resolution lambda/Dlambda: 10000\n",
      "      - File size: 141 MB\n",
      "      - Reference: Morley et al. (2012)\n",
      "      - URL: https://ui.adsabs.harvard.edu/abs/2012ApJ...756..172M/abstract\n",
      "\n",
      "   - petitCODE cool clear:\n",
      "      - Label = petitcode-cool-clear\n",
      "      - Model parameters: ['teff', 'logg', 'feh']\n",
      "      - Teff range (K): [500, 1000]\n",
      "      - Wavelength range (um): [0.1, 250]\n",
      "      - Resolution lambda/Dlambda: 1000\n",
      "      - File size: 86 MB\n",
      "      - Reference: Mollière et al. (2015)\n",
      "      - URL: https://ui.adsabs.harvard.edu/abs/2015ApJ...813...47M/abstract\n",
      "\n",
      "   - petitCODE cool cloudy:\n",
      "      - Label = petitcode-cool-cloudy\n",
      "      - Model parameters: ['teff', 'logg', 'feh', 'fsed']\n",
      "      - Teff range (K): [500, 850]\n",
      "      - Wavelength range (um): [0.1, 250]\n",
      "      - Resolution lambda/Dlambda: 1000\n",
      "      - Extra details: log(Kzz) = 7.5\n",
      "      - File size: 224 MB\n",
      "      - Reference: Mollière et al. (2015)\n",
      "      - URL: https://ui.adsabs.harvard.edu/abs/2015ApJ...813...47M/abstract\n",
      "\n",
      "   - petitCODE hot clear:\n",
      "      - Label = petitcode-hot-clear\n",
      "      - Model parameters: ['teff', 'logg', 'feh', 'c_o_ratio']\n",
      "      - Teff range (K): [1000, 2000]\n",
      "      - Wavelength range (um): [0.1, 250]\n",
      "      - Resolution lambda/Dlambda: 1000\n",
      "      - File size: 42 MB\n",
      "      - Reference: Mollière et al. (2015)\n",
      "      - URL: https://ui.adsabs.harvard.edu/abs/2015ApJ...813...47M/abstract\n",
      "\n",
      "   - petitCODE hot cloudy:\n",
      "      - Label = petitcode-hot-cloudy\n",
      "      - Model parameters: ['teff', 'logg', 'feh', 'c_o_ratio', 'fsed']\n",
      "      - Teff range (K): [1000, 2000]\n",
      "      - Wavelength range (um): [0.1, 250]\n",
      "      - Resolution lambda/Dlambda: 1000\n",
      "      - File size: 126 MB\n",
      "      - Reference: Mollière et al. (2015)\n",
      "      - URL: https://ui.adsabs.harvard.edu/abs/2015ApJ...813...47M/abstract\n",
      "\n",
      "   - petitCODE clear (Linder et al. 2019):\n",
      "      - Label = petitcode-linder2019-clear\n",
      "      - Model parameters: ['teff', 'logg', 'feh']\n",
      "      - Teff range (K): [150, 1000]\n",
      "      - Wavelength range (um): [0.1, 250]\n",
      "      - Resolution lambda/Dlambda: 1000\n",
      "      - File size: 225 MB\n",
      "      - Reference: Linder et al. (2019)\n",
      "      - URL: https://ui.adsabs.harvard.edu/abs/2019A%26A...623A..85L/abstract\n",
      "\n",
      "   - petitCODE cloudy (Linder et al. 2019):\n",
      "      - Label = petitcode-linder2019-cloudy\n",
      "      - Model parameters: ['teff', 'logg', 'feh', 'fsed']\n",
      "      - Teff range (K): [150, 1000]\n",
      "      - Wavelength range (um): [0.1, 250]\n",
      "      - Resolution lambda/Dlambda: 1000\n",
      "      - File size: 1.4 GB\n",
      "      - Reference: Linder et al. (2019)\n",
      "      - URL: https://ui.adsabs.harvard.edu/abs/2019A%26A...623A..85L/abstract\n",
      "\n",
      "   - Saumon & Marley (2008) clear:\n",
      "      - Label = saumon2008-clear\n",
      "      - Model parameters: ['teff', 'logg']\n",
      "      - Teff range (K): [500, 2400]\n",
      "      - Wavelength range (um): [0.4, 50]\n",
      "      - Resolution lambda/Dlambda: 5000\n",
      "      - File size: 197 Mb\n",
      "\n",
      "   - Saumon & Marley (2008) cloudy:\n",
      "      - Label = saumon2008-cloudy\n",
      "      - Model parameters: ['teff', 'logg']\n",
      "      - Teff range (K): [500, 2400]\n",
      "      - Wavelength range (um): [0.4, 50]\n",
      "      - Resolution lambda/Dlambda: 5000\n",
      "      - File size: 122 Mb\n",
      "\n",
      "   - Sonora Cholla:\n",
      "      - Label = sonora-cholla\n",
      "      - Model parameters: ['teff', 'logg', 'log_kzz']\n",
      "      - Teff range (K): [500, 1300]\n",
      "      - Wavelength range (um): [1, 250]\n",
      "      - Resolution lambda/Dlambda: 10000\n",
      "      - Extra details: [Fe/H] = 0.0\n",
      "      - File size: 497 MB\n",
      "      - Reference: Karalidi et al. (2021)\n",
      "      - URL: https://zenodo.org/record/4450269\n",
      "\n",
      "   - Sonora Bobcat:\n",
      "      - Label = sonora-bobcat\n",
      "      - Model parameters: ['teff', 'logg', 'feh']\n",
      "      - Teff range (K): [200, 2400]\n",
      "      - Wavelength range (um): [0.4, 50]\n",
      "      - Resolution lambda/Dlambda: 10000\n",
      "      - File size: 1.1 GB\n",
      "      - Reference: Marley et al. (2021)\n",
      "      - URL: https://zenodo.org/record/5063476\n",
      "\n",
      "   - Sonora Bobcat C/O:\n",
      "      - Label = sonora-bobcat-co\n",
      "      - Model parameters: ['teff', 'c_o_ratio']\n",
      "      - Teff range (K): [200, 2400]\n",
      "      - Wavelength range (um): [0.4, 50]\n",
      "      - Resolution lambda/Dlambda: 10000\n",
      "      - Extra details: [Fe/H] = 0.0, log(g) = 5.0\n",
      "      - File size: 112 MB\n",
      "      - Reference: Marley et al. (2021)\n",
      "      - URL: https://zenodo.org/record/5063476\n",
      "\n",
      "   - SPHINX:\n",
      "      - Label = sphinx\n",
      "      - Model parameters: ['teff', 'logg', 'feh', 'c_o_ratio']\n",
      "      - Teff range (K): [2000, 4000]\n",
      "      - Wavelength range (um): [0.1, 20]\n",
      "      - Resolution lambda/Dlambda: 250\n",
      "      - File size: 143 Mb\n",
      "      - Reference: Aishwarya et al. (2022)\n",
      "      - URL: https://zenodo.org/record/7416042\n"
     ]
    }
   ],
   "source": [
    "_ = database.available_models()"
   ]
  },
  {
   "cell_type": "markdown",
   "metadata": {},
   "source": [
    "Next, we will import the model spectra with the [add_model](https://species.readthedocs.io/en/latest/species.data.html#species.data.database.Database.add_model) method of [Database](https://species.readthedocs.io/en/latest/species.data.html#species.data.database.Database). This step will automatically download the DRIFT-PHOENIX spectra (R = 2000) to the [data_folder](https://species.readthedocs.io/en/latest/configuration.html). The dowloaded data will then be unpacked and added to the database. We restrict the temperature range to 1300-1700 K, so not all spectra are added to the databse."
   ]
  },
  {
   "cell_type": "code",
   "execution_count": 5,
   "metadata": {},
   "outputs": [
    {
     "name": "stderr",
     "output_type": "stream",
     "text": [
      "Downloading data from 'https://home.strw.leidenuniv.nl/~stolker/species/drift-phoenix.tgz' to file '/Users/tomasstolker/applications/species/docs/tutorials/data/drift-phoenix.tgz'.\n",
      "100%|████████████████████████████████████████| 240M/240M [00:00<00:00, 106GB/s]\n",
      "SHA256 hash of downloaded file: ba71a5e4d3d399a6f8ae249590c2e174e90ec2b55e712d350dad8ca1ae83a907\n",
      "Use this value as the 'known_hash' argument of 'pooch.retrieve' to ensure that the file hasn't changed if it is downloaded again in the future.\n"
     ]
    },
    {
     "name": "stdout",
     "output_type": "stream",
     "text": [
      "Unpacking DRIFT-PHOENIX model spectra (229 MB)... [DONE]\n",
      "Please cite Helling et al. (2008) when using DRIFT-PHOENIX in a publication\n",
      "Reference URL: https://ui.adsabs.harvard.edu/abs/2008ApJ...675L.105H/abstract\n",
      "Wavelength range (um) = 0.1 - 50\n",
      "Spectral resolution = 4000\n",
      "Teff range (K) = 1300.0 - 1700.0\n",
      "Adding DRIFT-PHOENIX model spectra... [DONE]                                            \n",
      "Grid points stored in the database:\n",
      "   - Teff = [1300. 1400. 1500. 1600. 1700.]\n",
      "   - log(g) = [3.  3.5 4.  4.5 5.  5.5]\n",
      "   - [Fe/H] = [-0.6 -0.3 -0.   0.3]\n",
      "Number of grid points per parameter:\n",
      "   - teff: 5\n",
      "   - logg: 6\n",
      "   - feh: 4\n",
      "Fix missing grid points with a linear interpolation:\n",
      "   - teff = 1600.0, logg = 3.0, feh = 0.3\n",
      "   - teff = 1600.0, logg = 5.5, feh = 0.3\n",
      "Number of stored grid points: 120\n",
      "Number of interpolated grid points: 2\n",
      "Number of missing grid points: 0\n"
     ]
    },
    {
     "name": "stderr",
     "output_type": "stream",
     "text": [
      "/Users/tomasstolker/applications/species/species/util/data_util.py:379: RuntimeWarning: divide by zero encountered in log10\n",
      "  flux = np.log10(flux)\n"
     ]
    }
   ],
   "source": [
    "database.add_model(model='drift-phoenix', teff_range=(1300., 1700.))"
   ]
  },
  {
   "cell_type": "markdown",
   "metadata": {},
   "source": [
    "Two of the grid points were missing in the original data and have been added with a linear, multidimensional interpolation."
   ]
  },
  {
   "cell_type": "markdown",
   "metadata": {},
   "source": [
    "## Interpolating the model grid"
   ]
  },
  {
   "cell_type": "markdown",
   "metadata": {},
   "source": [
    "We will read the spectra from the database by creating an instance of [ReadModel](https://species.readthedocs.io/en/latest/species.read.html#species.read.read_model.ReadModel)."
   ]
  },
  {
   "cell_type": "code",
   "execution_count": 6,
   "metadata": {},
   "outputs": [],
   "source": [
    "read_model = ReadModel(model='drift-phoenix', wavel_range=(0.5, 10.))"
   ]
  },
  {
   "cell_type": "markdown",
   "metadata": {},
   "source": [
    "Let's see what the grid boundaries are from the spectra that are stored in the database."
   ]
  },
  {
   "cell_type": "code",
   "execution_count": 7,
   "metadata": {},
   "outputs": [
    {
     "data": {
      "text/plain": [
       "{'teff': (1300.0, 1700.0), 'logg': (3.0, 5.5), 'feh': (-0.6, 0.3)}"
      ]
     },
     "execution_count": 7,
     "metadata": {},
     "output_type": "execute_result"
    }
   ],
   "source": [
    "read_model.get_bounds()"
   ]
  },
  {
   "cell_type": "markdown",
   "metadata": {},
   "source": [
    "We will now interpolate the grid in the ($T_\\mathrm{eff}$, $\\log(g)$, $[\\mathrm{Fe}/\\mathrm{H}]$) space at some specific parameter values, which need to be provided in a dictionary. The radius and distance are optional, otherwise the emitted flux is given at the planet surface."
   ]
  },
  {
   "cell_type": "code",
   "execution_count": 8,
   "metadata": {},
   "outputs": [],
   "source": [
    "model_param = {'teff':1510., 'logg':4.1, 'feh':0.1, 'radius': 1., 'distance': 100.}"
   ]
  },
  {
   "cell_type": "markdown",
   "metadata": {},
   "source": [
    "To interpolate a spectrum, we use the [get_model](https://species.readthedocs.io/en/latest/species.read.html#species.read.read_model.ReadModel.get_model) method and provide the parameter dictionary, and also an optional spectral resolution. Together with `smooth=True`, the spectrum will be smoothed (but not resampeld) to the given spectral resolution."
   ]
  },
  {
   "cell_type": "code",
   "execution_count": 9,
   "metadata": {},
   "outputs": [],
   "source": [
    "model_box = read_model.get_model(model_param=model_param, spec_res=200., smooth=True)"
   ]
  },
  {
   "cell_type": "markdown",
   "metadata": {},
   "source": [
    "The data is stored in a [ModelBox](https://species.readthedocs.io/en/latest/species.core.html#species.core.box.ModelBox). Let's have a look at its content."
   ]
  },
  {
   "cell_type": "code",
   "execution_count": 10,
   "metadata": {},
   "outputs": [
    {
     "name": "stdout",
     "output_type": "stream",
     "text": [
      "Opening ModelBox...\n",
      "model = drift-phoenix\n",
      "type = None\n",
      "wavelength = [ 0.49989727  0.50002105  0.50014486 ...  9.99710369  9.99957902\n",
      " 10.00205496]\n",
      "flux = [9.87533496e-20 9.80916961e-20 9.73738842e-20 ... 1.60596377e-18\n",
      " 1.60964903e-18 1.61359501e-18]\n",
      "parameters = {'teff': 1510.0, 'logg': 4.1, 'feh': 0.1, 'radius': 1.0, 'distance': 100.0, 'luminosity': 4.946207755957789e-05, 'mass': 5.079072973539381}\n",
      "quantity = flux\n",
      "contribution = None\n",
      "bol_flux = None\n"
     ]
    }
   ],
   "source": [
    "model_box.open_box()"
   ]
  },
  {
   "cell_type": "markdown",
   "metadata": {},
   "source": [
    "We will now use the same atmospheric parameters but we will add some [ISM extinction](https://species.readthedocs.io/en/latest/species.util.html?#species.util.dust_util.ism_extinction) with the relation from [Cardelli et al. (1989)](https://ui.adsabs.harvard.edu/abs/1989ApJ...345..245C/abstract). Therefore, we add the V band extinction and reddening parameters to the dictionary."
   ]
  },
  {
   "cell_type": "code",
   "execution_count": 11,
   "metadata": {},
   "outputs": [],
   "source": [
    "model_param = {'teff':1510., 'logg':4.1, 'feh':0.1, 'radius': 1., 'distance': 100., 'ism_ext': 5., 'ism_red': 3.}"
   ]
  },
  {
   "cell_type": "markdown",
   "metadata": {},
   "source": [
    "We use again the [get_model](https://species.readthedocs.io/en/latest/species.read.html#species.read.read_model.ReadModel.get_model) method and store the result in a different [ModelBox](https://species.readthedocs.io/en/latest/species.core.html#species.core.box.ModelBox)."
   ]
  },
  {
   "cell_type": "code",
   "execution_count": 12,
   "metadata": {},
   "outputs": [],
   "source": [
    "model_ext = read_model.get_model(model_param=model_param, spec_res=200., smooth=True)"
   ]
  },
  {
   "cell_type": "markdown",
   "metadata": {},
   "source": [
    "The two boxes with the model spectra are provided to the [plot_spectrum](https://species.readthedocs.io/en/latest/species.plot.html#species.plot.plot_spectrum.plot_spectrum). We also include some filter profiles to indicate where the telluric windows are."
   ]
  },
  {
   "cell_type": "code",
   "execution_count": 13,
   "metadata": {},
   "outputs": [
    {
     "name": "stdout",
     "output_type": "stream",
     "text": [
      "Adding filter: MKO/NSFCam.J... [DONE]\n",
      "Adding filter: MKO/NSFCam.H... [DONE]\n",
      "Adding filter: MKO/NSFCam.K... [DONE]\n",
      "Adding filter: MKO/NSFCam.Lp... [DONE]\n",
      "Adding filter: MKO/NSFCam.Mp... [DONE]\n",
      "Plotting spectrum..."
     ]
    },
    {
     "data": {
      "image/png": "[encoded data removed]",
      "text/plain": [
       "<Figure size 700x300 with 2 Axes>"
      ]
     },
     "metadata": {},
     "output_type": "display_data"
    },
    {
     "name": "stdout",
     "output_type": "stream",
     "text": [
      " [DONE]\n"
     ]
    }
   ],
   "source": [
    "fig = plot_spectrum(boxes=[model_box, model_ext],\n",
    "                    filters=['MKO/NSFCam.J', 'MKO/NSFCam.H', 'MKO/NSFCam.K', 'MKO/NSFCam.Lp', 'MKO/NSFCam.Mp'],\n",
    "                    offset=(-0.15, -0.04),\n",
    "                    xlim=(0.8, 5.),\n",
    "                    ylim=(0., 5.5e-17),\n",
    "                    legend={'loc': 'lower right', 'frameon': False, 'fontsize': 10.},\n",
    "                    figsize=(7., 3.),\n",
    "                    output=None)"
   ]
  },
  {
   "cell_type": "markdown",
   "metadata": {},
   "source": [
    "The [plot_spectrum](https://species.readthedocs.io/en/latest/species.plot.html#species.plot.plot_spectrum.plot_spectrum) function returned the [Figure](https://matplotlib.org/stable/api/figure_api.html#matplotlib.figure.Figure) object of the plot. The functionalities of [Matplotlib](https://matplotlib.org/stable/index.html) can be used for further customization of the plot. For example, the axes of the plot are stored at the `axes` attribute of `Figure`."
   ]
  },
  {
   "cell_type": "code",
   "execution_count": 14,
   "metadata": {},
   "outputs": [
    {
     "data": {
      "text/plain": [
       "[<Axes: xlabel='Wavelength (μm)', ylabel='$F_\\\\lambda$ (10$^{-17}$ W m$^{-2}$ μm$^{-1}$)'>,\n",
       " <Axes: ylabel='$T_\\\\lambda$'>]"
      ]
     },
     "execution_count": 14,
     "metadata": {},
     "output_type": "execute_result"
    }
   ],
   "source": [
    "fig.axes"
   ]
  },
  {
   "cell_type": "markdown",
   "metadata": {},
   "source": [
    "## Extracting a spectrum at a grid point"
   ]
  },
  {
   "cell_type": "markdown",
   "metadata": {},
   "source": [
    "It is also possible to extract a spectrum at one of the grid points, which doesn't require any interpolation. Let's check with the [get_points](https://species.readthedocs.io/en/latest/species.read.html#species.read.read_model.ReadModel.get_points) method what parameter values are stored in the database."
   ]
  },
  {
   "cell_type": "code",
   "execution_count": 15,
   "metadata": {},
   "outputs": [
    {
     "data": {
      "text/plain": [
       "{'teff': array([1300., 1400., 1500., 1600., 1700.]),\n",
       " 'logg': array([3. , 3.5, 4. , 4.5, 5. , 5.5]),\n",
       " 'feh': array([-0.6, -0.3, -0. ,  0.3])}"
      ]
     },
     "execution_count": 15,
     "metadata": {},
     "output_type": "execute_result"
    }
   ],
   "source": [
    "read_model.get_points()"
   ]
  },
  {
   "cell_type": "markdown",
   "metadata": {},
   "source": [
    "We create a dictionary with values at one of the grid points."
   ]
  },
  {
   "cell_type": "code",
   "execution_count": 16,
   "metadata": {},
   "outputs": [],
   "source": [
    "model_param = {'teff':1500., 'logg':4., 'feh':0.}"
   ]
  },
  {
   "cell_type": "markdown",
   "metadata": {},
   "source": [
    "And now use the [get_data](https://species.readthedocs.io/en/latest/species.read.html#species.read.read_model.ReadModel.get_data) method to extract a spectrum."
   ]
  },
  {
   "cell_type": "code",
   "execution_count": 17,
   "metadata": {},
   "outputs": [],
   "source": [
    "model_full = read_model.get_data(model_param)"
   ]
  },
  {
   "cell_type": "markdown",
   "metadata": {},
   "source": [
    "Let's make another plot with [plot_spectrum](https://species.readthedocs.io/en/latest/species.plot.html#species.plot.plot_spectrum.plot_spectrum). The spectrum is now shown at the spectral resolution as stored in the database ($R = 2000$)."
   ]
  },
  {
   "cell_type": "code",
   "execution_count": 18,
   "metadata": {},
   "outputs": [
    {
     "name": "stdout",
     "output_type": "stream",
     "text": [
      "Plotting spectrum..."
     ]
    },
    {
     "data": {
      "image/png": "[encoded data removed]",
      "text/plain": [
       "<Figure size 700x300 with 1 Axes>"
      ]
     },
     "metadata": {},
     "output_type": "display_data"
    },
    {
     "name": "stdout",
     "output_type": "stream",
     "text": [
      " [DONE]\n"
     ]
    }
   ],
   "source": [
    "fig = plot_spectrum(boxes=[model_full],\n",
    "                    filters=None,\n",
    "                    offset=(-0.12, -0.05),\n",
    "                    xlim=(0.8, 5.),\n",
    "                    ylim=(0., 1e5),\n",
    "                    legend={'loc': 'upper right', 'fontsize': 10.},\n",
    "                    figsize=(7., 3.),\n",
    "                    output=None)"
   ]
  },
  {
   "cell_type": "markdown",
   "metadata": {},
   "source": [
    "## Calculating synthetic photometry"
   ]
  },
  {
   "cell_type": "markdown",
   "metadata": {},
   "source": [
    "The [ReadModel](https://species.readthedocs.io/en/latest/species.read.html#species.read.read_model.ReadModel) class can also be used for calculating photometric fluxes and magnitudes. To do so, we create a new instance and set the `filter_name` argument to the [VLT/NACO M' filter](http://svo2.cab.inta-csic.es/svo/theory/fps/index.php?id=Paranal/NACO.Mp&&mode=browse&gname=Paranal&gname2=NACO#filter). This will automatically download and add the filter profile. "
   ]
  },
  {
   "cell_type": "code",
   "execution_count": 19,
   "metadata": {},
   "outputs": [
    {
     "name": "stdout",
     "output_type": "stream",
     "text": [
      "Adding filter: Paranal/NACO.Mp... [DONE]\n"
     ]
    }
   ],
   "source": [
    "read_model = ReadModel(model='drift-phoenix', filter_name='Paranal/NACO.Mp')"
   ]
  },
  {
   "cell_type": "markdown",
   "metadata": {},
   "source": [
    "We create again a dictionary with the parameters but now run the [get_flux](https://species.readthedocs.io/en/latest/species.read.html#species.read.read_model.ReadModel.get_flux) method, which returns the flux in W m-2 um-1."
   ]
  },
  {
   "cell_type": "code",
   "execution_count": 20,
   "metadata": {},
   "outputs": [
    {
     "name": "stderr",
     "output_type": "stream",
     "text": [
      "Downloading data from 'https://archive.stsci.edu/hlsps/reference-atlases/cdbs/current_calspec/alpha_lyr_stis_011.fits' to file '/Users/tomasstolker/applications/species/docs/tutorials/data/alpha_lyr_stis_011.fits'.\n",
      "100%|████████████████████████████████████████| 288k/288k [00:00<00:00, 135MB/s]"
     ]
    },
    {
     "name": "stdout",
     "output_type": "stream",
     "text": [
      "Adding Vega spectrum... [DONE]\n",
      "Reference: Bohlin et al. 2014, PASP, 126\n",
      "URL: https://ui.adsabs.harvard.edu/abs/2014PASP..126..711B/abstract\n",
      "Flux (W m-2 um-1) = 1.39e-17\n"
     ]
    },
    {
     "name": "stderr",
     "output_type": "stream",
     "text": [
      "\n"
     ]
    }
   ],
   "source": [
    "model_param = {'teff':1510., 'logg':4.1, 'feh':0.1, 'radius': 1., 'distance': 100.}\n",
    "flux = read_model.get_flux(model_param)\n",
    "print(f'Flux (W m-2 um-1) = {flux[0]:.2e}')"
   ]
  },
  {
   "cell_type": "markdown",
   "metadata": {},
   "source": [
    "Since we provided a radius and distance, the emitted flux at the planet surface has been scaled by $(\\mathrm{radius}/\\mathrm{distance})^2$."
   ]
  },
  {
   "cell_type": "markdown",
   "metadata": {},
   "source": [
    "Similarly, we can use the [get_magnitude](https://species.readthedocs.io/en/latest/species.read.html#species.read.read_model.ReadModel.get_magnitude) method to calculate the magnitude for the NACO M' filter. Note that the returned absolute magnitude is set to `None` if the parameter dictionary does not contain a radius and distance."
   ]
  },
  {
   "cell_type": "code",
   "execution_count": 21,
   "metadata": {},
   "outputs": [
    {
     "name": "stdout",
     "output_type": "stream",
     "text": [
      "Apparent magnitude = 15.46\n",
      "Absolute magnitude = 10.46\n"
     ]
    }
   ],
   "source": [
    "app_mag, abs_mag = read_model.get_magnitude(model_param)\n",
    "print(f'Apparent magnitude = {app_mag:.2f}')\n",
    "print(f'Absolute magnitude = {abs_mag:.2f}')"
   ]
  },
  {
   "cell_type": "markdown",
   "metadata": {},
   "source": [
    "As expected, at a distance of 100 pc, the difference between the apparent and absolute magnitude is 5."
   ]
  }
 ],
 "metadata": {
  "kernelspec": {
   "display_name": "Python 3 (ipykernel)",
   "language": "python",
   "name": "python3"
  },
  "language_info": {
   "codemirror_mode": {
    "name": "ipython",
    "version": 3
   },
   "file_extension": ".py",
   "mimetype": "text/x-python",
   "name": "python",
   "nbconvert_exporter": "python",
   "pygments_lexer": "ipython3",
   "version": "3.11.5"
  }
 },
 "nbformat": 4,
 "nbformat_minor": 4
}
