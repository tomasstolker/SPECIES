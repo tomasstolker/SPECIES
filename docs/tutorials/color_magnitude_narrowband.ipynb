{
 "cells": [
  {
   "cell_type": "markdown",
   "metadata": {},
   "source": [
    "# Color-magnitude diagram: narrowband filters"
   ]
  },
  {
   "cell_type": "markdown",
   "metadata": {},
   "source": [
    "In this tutorial, we will compute synthetic photometry for the narrowband H2 and H3 filters of VLT/SPHERE. We will use empirical data from the [SpeX Prism Spectral Library](http://pono.ucsd.edu/~adam/browndwarfs/spexprism/index_old.html) and theoretical isochrones and spectra from the AMES-Cond and AMES-Dusty models. The synthetic colors and magnitudes are compared with the photometric data of directly imaged companions in a color-magnitude diagram."
   ]
  },
  {
   "cell_type": "markdown",
   "metadata": {},
   "source": [
    "## Getting started"
   ]
  },
  {
   "cell_type": "markdown",
   "metadata": {},
   "source": [
    "We start by importing the required Python modules."
   ]
  },
  {
   "cell_type": "code",
   "execution_count": 1,
   "metadata": {},
   "outputs": [],
   "source": [
    "import urllib.request\n",
    "import numpy as np\n",
    "import species"
   ]
  },
  {
   "cell_type": "markdown",
   "metadata": {},
   "source": [
    "Next, we initiate the *species* workflow with `SpeciesInit`. This will create the configuration file with default values and the HDF5 database."
   ]
  },
  {
   "cell_type": "code",
   "execution_count": 2,
   "metadata": {},
   "outputs": [
    {
     "name": "stdout",
     "output_type": "stream",
     "text": [
      "Initiating species v0.3.1... [DONE]\n",
      "Creating species_config.ini... [DONE]\n",
      "Database: /Users/tomasstolker/applications/species/docs/tutorials/species_database.hdf5\n",
      "Data folder: /Users/tomasstolker/applications/species/docs/tutorials/data\n",
      "Working folder: /Users/tomasstolker/applications/species/docs/tutorials\n",
      "Creating species_database.hdf5... [DONE]\n",
      "Creating data folder... [DONE]\n"
     ]
    },
    {
     "data": {
      "text/plain": [
       "<species.core.setup.SpeciesInit at 0x1042204e0>"
      ]
     },
     "execution_count": 2,
     "metadata": {},
     "output_type": "execute_result"
    }
   ],
   "source": [
    "species.SpeciesInit()"
   ]
  },
  {
   "cell_type": "markdown",
   "metadata": {},
   "source": [
    "Later on, we will interpolate the isochrone data at an age of 20 Myr for 100 logarithmically-spaced masses between 1 M<sub>Jup</sub> and 1000 M<sub>Jup</sub>."
   ]
  },
  {
   "cell_type": "code",
   "execution_count": 3,
   "metadata": {},
   "outputs": [],
   "source": [
    "age = 20.  # (Myr)\n",
    "masses = np.logspace(0., 3., 100)  # (Mjup)"
   ]
  },
  {
   "cell_type": "markdown",
   "metadata": {},
   "source": [
    "## Adding data and models"
   ]
  },
  {
   "cell_type": "markdown",
   "metadata": {},
   "source": [
    "We will now add the required data to the database by first creating an instance of `Database`."
   ]
  },
  {
   "cell_type": "code",
   "execution_count": 4,
   "metadata": {},
   "outputs": [],
   "source": [
    "database = species.Database()"
   ]
  },
  {
   "cell_type": "markdown",
   "metadata": {},
   "source": [
    "The [photometric data of directly imaged companions](https://github.com/tomasstolker/species/blob/master/species/data/companions.py) that is available with *species* is added by using the `add_companion` method with `name=None`. Alternative, `add_object` can be used to manually add photometric and spectroscopic data of an individual object."
   ]
  },
  {
   "cell_type": "code",
   "execution_count": 5,
   "metadata": {},
   "outputs": [
    {
     "name": "stdout",
     "output_type": "stream",
     "text": [
      "Downloading Vega spectrum (270 kB)... [DONE]\n",
      "Adding Vega spectrum... [DONE]\n",
      "Adding filter: LCO/VisAO.Ys... [DONE]\n",
      "Adding filter: Paranal/NACO.J... [DONE]\n",
      "Adding filter: Gemini/NICI.ED286... [DONE]\n",
      "Adding filter: Paranal/NACO.H... [DONE]\n",
      "Adding filter: Paranal/NACO.Ks... [DONE]\n",
      "Adding filter: Paranal/NACO.NB374... [DONE]\n",
      "Adding filter: Paranal/NACO.Lp... [DONE]\n",
      "Adding filter: Paranal/NACO.NB405... [DONE]\n",
      "Adding filter: Paranal/NACO.Mp... [DONE]\n",
      "Adding filter: Paranal/SPHERE.IRDIS_D_K12_1... [DONE]\n",
      "Adding filter: Paranal/SPHERE.IRDIS_D_K12_2... [DONE]\n",
      "Adding object: beta Pic b\n",
      "   - Distance (pc) = 19.75 +/- 0.13\n",
      "   - LCO/VisAO.Ys:\n",
      "      - Apparent magnitude = 15.53 +/- 0.34\n",
      "      - Flux (W m-2 um-1) = 4.27e-15 +/- 1.36e-15\n",
      "   - Paranal/NACO.J:\n",
      "      - Apparent magnitude = 14.11 +/- 0.21\n",
      "      - Flux (W m-2 um-1) = 6.87e-15 +/- 1.34e-15\n",
      "   - Gemini/NICI.ED286:\n",
      "      - Apparent magnitude = 13.18 +/- 0.15\n",
      "      - Flux (W m-2 um-1) = 6.99e-15 +/- 9.69e-16\n",
      "   - Paranal/NACO.H:\n",
      "      - Apparent magnitude = 13.32 +/- 0.14\n",
      "      - Flux (W m-2 um-1) = 5.47e-15 +/- 7.08e-16\n",
      "   - Paranal/NACO.Ks:\n",
      "      - Apparent magnitude = 12.64 +/- 0.11\n",
      "      - Flux (W m-2 um-1) = 4.04e-15 +/- 4.10e-16\n",
      "   - Paranal/NACO.NB374:\n",
      "      - Apparent magnitude = 11.25 +/- 0.23\n",
      "      - Flux (W m-2 um-1) = 1.69e-15 +/- 3.61e-16\n",
      "   - Paranal/NACO.Lp:\n",
      "      - Apparent magnitude = 11.30 +/- 0.06\n",
      "      - Flux (W m-2 um-1) = 1.59e-15 +/- 8.79e-17\n",
      "   - Paranal/NACO.NB405:\n",
      "      - Apparent magnitude = 10.98 +/- 0.05\n",
      "      - Flux (W m-2 um-1) = 1.61e-15 +/- 7.42e-17\n",
      "   - Paranal/NACO.Mp:\n",
      "      - Apparent magnitude = 11.10 +/- 0.12\n",
      "      - Flux (W m-2 um-1) = 7.86e-16 +/- 8.70e-17\n",
      "   - Paranal/SPHERE.IRDIS_D_K12_1:\n",
      "      - Apparent magnitude = 12.57 +/- 0.00\n",
      "      - Flux (W m-2 um-1) = 4.56e-15 +/- 1.26e-17\n",
      "   - Paranal/SPHERE.IRDIS_D_K12_2:\n",
      "      - Apparent magnitude = 12.21 +/- 0.00\n",
      "      - Flux (W m-2 um-1) = 4.92e-15 +/- 9.05e-18\n",
      "Adding filter: Paranal/SPHERE.IRDIS_D_H23_2... [DONE]\n",
      "Adding filter: Paranal/SPHERE.IRDIS_D_H23_3... [DONE]\n",
      "Adding object: HIP 65426 b\n",
      "   - Distance (pc) = 109.21 +/- 0.75\n",
      "   - Paranal/SPHERE.IRDIS_D_H23_2:\n",
      "      - Apparent magnitude = 17.94 +/- 0.05\n",
      "      - Flux (W m-2 um-1) = 8.73e-17 +/- 4.02e-18\n",
      "   - Paranal/SPHERE.IRDIS_D_H23_3:\n",
      "      - Apparent magnitude = 17.58 +/- 0.06\n",
      "      - Flux (W m-2 um-1) = 1.03e-16 +/- 5.70e-18\n",
      "   - Paranal/SPHERE.IRDIS_D_K12_1:\n",
      "      - Apparent magnitude = 17.01 +/- 0.09\n",
      "      - Flux (W m-2 um-1) = 7.63e-17 +/- 6.33e-18\n",
      "   - Paranal/SPHERE.IRDIS_D_K12_2:\n",
      "      - Apparent magnitude = 16.79 +/- 0.09\n",
      "      - Flux (W m-2 um-1) = 7.21e-17 +/- 5.98e-18\n",
      "   - Paranal/NACO.Lp:\n",
      "      - Apparent magnitude = 15.33 +/- 0.12\n",
      "      - Flux (W m-2 um-1) = 3.88e-17 +/- 4.30e-18\n",
      "   - Paranal/NACO.NB405:\n",
      "      - Apparent magnitude = 15.23 +/- 0.22\n",
      "      - Flux (W m-2 um-1) = 3.21e-17 +/- 6.55e-18\n",
      "   - Paranal/NACO.Mp:\n",
      "      - Apparent magnitude = 14.65 +/- 0.29\n",
      "      - Flux (W m-2 um-1) = 2.99e-17 +/- 8.07e-18\n",
      "Adding filter: MKO/NSFCam.J... [DONE]\n",
      "Adding filter: MKO/NSFCam.H... [DONE]\n",
      "Adding filter: MKO/NSFCam.K... [DONE]\n",
      "Adding filter: Paranal/SPHERE.IRDIS_B_H... [DONE]\n",
      "Adding filter: Keck/NIRC2.Lp... [DONE]\n",
      "Adding filter: Keck/NIRC2.Ms... [DONE]\n",
      "Adding object: 51 Eri b\n",
      "   - Distance (pc) = 29.78 +/- 0.12\n",
      "   - MKO/NSFCam.J:\n",
      "      - Apparent magnitude = 19.04 +/- 0.40\n",
      "      - Flux (W m-2 um-1) = 7.52e-17 +/- 2.83e-17\n",
      "   - MKO/NSFCam.H:\n",
      "      - Apparent magnitude = 18.99 +/- 0.21\n",
      "      - Flux (W m-2 um-1) = 3.12e-17 +/- 6.07e-18\n",
      "   - MKO/NSFCam.K:\n",
      "      - Apparent magnitude = 18.67 +/- 0.19\n",
      "      - Flux (W m-2 um-1) = 1.42e-17 +/- 2.49e-18\n",
      "   - Paranal/SPHERE.IRDIS_B_H:\n",
      "      - Apparent magnitude = 19.45 +/- 0.29\n",
      "      - Flux (W m-2 um-1) = 2.06e-17 +/- 5.57e-18\n",
      "   - Paranal/SPHERE.IRDIS_D_H23_2:\n",
      "      - Apparent magnitude = 18.41 +/- 0.26\n",
      "      - Flux (W m-2 um-1) = 5.66e-17 +/- 1.37e-17\n",
      "   - Paranal/SPHERE.IRDIS_D_K12_1:\n",
      "      - Apparent magnitude = 17.55 +/- 0.14\n",
      "      - Flux (W m-2 um-1) = 4.64e-17 +/- 6.00e-18\n",
      "   - Keck/NIRC2.Lp:\n",
      "      - Apparent magnitude = 16.20 +/- 0.11\n",
      "      - Flux (W m-2 um-1) = 1.79e-17 +/- 1.81e-18\n",
      "   - Keck/NIRC2.Ms:\n",
      "      - Apparent magnitude = 16.10 +/- 0.50\n",
      "      - Flux (W m-2 um-1) = 8.47e-18 +/- 4.04e-18\n",
      "Adding filter: Subaru/CIAO.z... [DONE]\n",
      "Adding filter: Paranal/SPHERE.IRDIS_B_J..."
     ]
    },
    {
     "name": "stderr",
     "output_type": "stream",
     "text": [
      "/Users/tomasstolker/applications/species/species/data/filters.py:170: UserWarning: The minimum transmission value of Subaru/CIAO.z is smaller than zero (-1.80e-03). Wavelengths with negative transmission values will be removed.\n",
      "  warnings.warn(f'The minimum transmission value of {filter_id} is smaller than zero '\n"
     ]
    },
    {
     "name": "stdout",
     "output_type": "stream",
     "text": [
      " [DONE]\n",
      "Adding filter: Keck/NIRC2.H... [DONE]\n",
      "Adding filter: Keck/NIRC2.Ks... [DONE]\n",
      "Adding object: HR 8799 b\n",
      "   - Distance (pc) = 41.29 +/- 0.15\n",
      "   - Subaru/CIAO.z:\n",
      "      - Apparent magnitude = 21.22 +/- 0.29\n",
      "      - Flux (W m-2 um-1) = 1.93e-17 +/- 5.22e-18\n",
      "   - Paranal/SPHERE.IRDIS_B_J:\n",
      "      - Apparent magnitude = 19.78 +/- 0.09\n",
      "      - Flux (W m-2 um-1) = 3.90e-17 +/- 3.24e-18\n",
      "   - Keck/NIRC2.H:\n",
      "      - Apparent magnitude = 18.05 +/- 0.09\n",
      "      - Flux (W m-2 um-1) = 7.32e-17 +/- 6.08e-18\n",
      "   - Paranal/SPHERE.IRDIS_D_H23_2:\n",
      "      - Apparent magnitude = 18.08 +/- 0.14\n",
      "      - Flux (W m-2 um-1) = 7.67e-17 +/- 9.92e-18\n",
      "   - Paranal/SPHERE.IRDIS_D_H23_3:\n",
      "      - Apparent magnitude = 17.78 +/- 0.10\n",
      "      - Flux (W m-2 um-1) = 8.57e-17 +/- 7.91e-18\n",
      "   - Keck/NIRC2.Ks:\n",
      "      - Apparent magnitude = 17.03 +/- 0.08\n",
      "      - Flux (W m-2 um-1) = 6.98e-17 +/- 5.15e-18\n",
      "   - Paranal/SPHERE.IRDIS_D_K12_1:\n",
      "      - Apparent magnitude = 17.15 +/- 0.06\n",
      "      - Flux (W m-2 um-1) = 6.71e-17 +/- 3.71e-18\n",
      "   - Paranal/SPHERE.IRDIS_D_K12_2:\n",
      "      - Apparent magnitude = 16.97 +/- 0.09\n",
      "      - Flux (W m-2 um-1) = 6.11e-17 +/- 5.07e-18\n",
      "   - Paranal/NACO.Lp:\n",
      "      - Apparent magnitude = 15.52 +/- 0.10\n",
      "      - Flux (W m-2 um-1) = 3.26e-17 +/- 3.01e-18\n",
      "   - Paranal/NACO.NB405:\n",
      "      - Apparent magnitude = 14.82 +/- 0.18\n",
      "      - Flux (W m-2 um-1) = 4.69e-17 +/- 7.80e-18\n",
      "   - Keck/NIRC2.Ms:\n",
      "      - Apparent magnitude = 16.05 +/- 0.30\n",
      "      - Flux (W m-2 um-1) = 8.87e-18 +/- 2.48e-18\n",
      "Adding object: HR 8799 c\n",
      "   - Distance (pc) = 41.29 +/- 0.15\n",
      "   - Paranal/SPHERE.IRDIS_B_J:\n",
      "      - Apparent magnitude = 18.60 +/- 0.13\n",
      "      - Flux (W m-2 um-1) = 1.16e-16 +/- 1.39e-17\n",
      "   - Keck/NIRC2.H:\n",
      "      - Apparent magnitude = 17.06 +/- 0.13\n",
      "      - Flux (W m-2 um-1) = 1.82e-16 +/- 2.19e-17\n",
      "   - Paranal/SPHERE.IRDIS_D_H23_2:\n",
      "      - Apparent magnitude = 17.09 +/- 0.12\n",
      "      - Flux (W m-2 um-1) = 1.91e-16 +/- 2.12e-17\n",
      "   - Paranal/SPHERE.IRDIS_D_H23_3:\n",
      "      - Apparent magnitude = 16.78 +/- 0.10\n",
      "      - Flux (W m-2 um-1) = 2.15e-16 +/- 1.99e-17\n",
      "   - Keck/NIRC2.Ks:\n",
      "      - Apparent magnitude = 16.11 +/- 0.08\n",
      "      - Flux (W m-2 um-1) = 1.63e-16 +/- 1.20e-17\n",
      "   - Paranal/SPHERE.IRDIS_D_K12_1:\n",
      "      - Apparent magnitude = 16.19 +/- 0.05\n",
      "      - Flux (W m-2 um-1) = 1.62e-16 +/- 7.48e-18\n",
      "   - Paranal/SPHERE.IRDIS_D_K12_2:\n",
      "      - Apparent magnitude = 15.86 +/- 0.07\n",
      "      - Flux (W m-2 um-1) = 1.70e-16 +/- 1.10e-17\n",
      "   - Paranal/NACO.Lp:\n",
      "      - Apparent magnitude = 14.65 +/- 0.11\n",
      "      - Flux (W m-2 um-1) = 7.27e-17 +/- 7.38e-18\n",
      "   - Paranal/NACO.NB405:\n",
      "      - Apparent magnitude = 13.97 +/- 0.11\n",
      "      - Flux (W m-2 um-1) = 1.03e-16 +/- 1.04e-17\n",
      "   - Keck/NIRC2.Ms:\n",
      "      - Apparent magnitude = 15.03 +/- 0.14\n",
      "      - Flux (W m-2 um-1) = 2.27e-17 +/- 2.93e-18\n",
      "Adding object: HR 8799 d\n",
      "   - Distance (pc) = 41.29 +/- 0.15\n",
      "   - Paranal/SPHERE.IRDIS_B_J:\n",
      "      - Apparent magnitude = 18.59 +/- 0.37\n",
      "      - Flux (W m-2 um-1) = 1.17e-16 +/- 4.06e-17\n",
      "   - Keck/NIRC2.H:\n",
      "      - Apparent magnitude = 16.71 +/- 0.24\n",
      "      - Flux (W m-2 um-1) = 2.52e-16 +/- 5.61e-17\n",
      "   - Paranal/SPHERE.IRDIS_D_H23_2:\n",
      "      - Apparent magnitude = 17.02 +/- 0.17\n",
      "      - Flux (W m-2 um-1) = 2.04e-16 +/- 3.20e-17\n",
      "   - Paranal/SPHERE.IRDIS_D_H23_3:\n",
      "      - Apparent magnitude = 16.85 +/- 0.16\n",
      "      - Flux (W m-2 um-1) = 2.02e-16 +/- 2.99e-17\n",
      "   - Keck/NIRC2.Ks:\n",
      "      - Apparent magnitude = 16.09 +/- 0.12\n",
      "      - Flux (W m-2 um-1) = 1.66e-16 +/- 1.84e-17\n",
      "   - Paranal/SPHERE.IRDIS_D_K12_1:\n",
      "      - Apparent magnitude = 16.20 +/- 0.07\n",
      "      - Flux (W m-2 um-1) = 1.61e-16 +/- 1.04e-17\n",
      "   - Paranal/SPHERE.IRDIS_D_K12_2:\n",
      "      - Apparent magnitude = 15.84 +/- 0.10\n",
      "      - Flux (W m-2 um-1) = 1.73e-16 +/- 1.60e-17\n",
      "   - Paranal/NACO.Lp:\n",
      "      - Apparent magnitude = 14.55 +/- 0.14\n",
      "      - Flux (W m-2 um-1) = 7.97e-17 +/- 1.03e-17\n",
      "   - Paranal/NACO.NB405:\n",
      "      - Apparent magnitude = 13.87 +/- 0.15\n",
      "      - Flux (W m-2 um-1) = 1.12e-16 +/- 1.56e-17\n",
      "   - Keck/NIRC2.Ms:\n",
      "      - Apparent magnitude = 14.65 +/- 0.35\n",
      "      - Flux (W m-2 um-1) = 3.22e-17 +/- 1.06e-17\n",
      "Adding object: HR 8799 e\n",
      "   - Distance (pc) = 41.29 +/- 0.15\n",
      "   - Paranal/SPHERE.IRDIS_B_J:\n",
      "      - Apparent magnitude = 18.40 +/- 0.21\n",
      "      - Flux (W m-2 um-1) = 1.39e-16 +/- 2.71e-17\n",
      "   - Paranal/SPHERE.IRDIS_D_H23_2:\n",
      "      - Apparent magnitude = 16.91 +/- 0.20\n",
      "      - Flux (W m-2 um-1) = 2.25e-16 +/- 4.18e-17\n",
      "   - Paranal/SPHERE.IRDIS_D_H23_3:\n",
      "      - Apparent magnitude = 16.68 +/- 0.21\n",
      "      - Flux (W m-2 um-1) = 2.36e-16 +/- 4.59e-17\n",
      "   - Keck/NIRC2.Ks:\n",
      "      - Apparent magnitude = 15.91 +/- 0.22\n",
      "      - Flux (W m-2 um-1) = 1.96e-16 +/- 4.00e-17\n",
      "   - Paranal/SPHERE.IRDIS_D_K12_1:\n",
      "      - Apparent magnitude = 16.12 +/- 0.10\n",
      "      - Flux (W m-2 um-1) = 1.73e-16 +/- 1.60e-17\n",
      "   - Paranal/SPHERE.IRDIS_D_K12_2:\n",
      "      - Apparent magnitude = 15.82 +/- 0.11\n",
      "      - Flux (W m-2 um-1) = 1.76e-16 +/- 1.79e-17\n",
      "   - Paranal/NACO.Lp:\n",
      "      - Apparent magnitude = 14.49 +/- 0.21\n",
      "      - Flux (W m-2 um-1) = 8.42e-17 +/- 1.64e-17\n",
      "   - Paranal/NACO.NB405:\n",
      "      - Apparent magnitude = 13.72 +/- 0.20\n",
      "      - Flux (W m-2 um-1) = 1.29e-16 +/- 2.39e-17\n",
      "Adding filter: Gemini/GPI.H... [DONE]\n",
      "Adding filter: Gemini/GPI.K1... [DONE]\n",
      "Adding object: HD 95086 b\n",
      "   - Distance (pc) = 86.44 +/- 0.24\n",
      "   - Gemini/GPI.H:\n",
      "      - Apparent magnitude = 20.51 +/- 0.25\n",
      "      - Flux (W m-2 um-1) = 7.41e-18 +/- 1.72e-18\n",
      "   - Gemini/GPI.K1:\n",
      "      - Apparent magnitude = 18.99 +/- 0.20\n",
      "      - Flux (W m-2 um-1) = 1.38e-17 +/- 2.56e-18\n",
      "   - Paranal/NACO.Lp:\n",
      "      - Apparent magnitude = 16.27 +/- 0.19\n",
      "      - Flux (W m-2 um-1) = 1.63e-17 +/- 2.87e-18\n",
      "Adding object: PDS 70 b\n",
      "   - Distance (pc) = 113.43 +/- 0.52\n",
      "   - Paranal/SPHERE.IRDIS_D_H23_2:\n",
      "      - Apparent magnitude = 18.12 +/- 0.21\n",
      "      - Flux (W m-2 um-1) = 7.40e-17 +/- 1.44e-17\n",
      "   - Paranal/SPHERE.IRDIS_D_H23_3:\n",
      "      - Apparent magnitude = 17.97 +/- 0.18\n",
      "      - Flux (W m-2 um-1) = 7.20e-17 +/- 1.20e-17\n",
      "   - Paranal/SPHERE.IRDIS_D_K12_1:\n",
      "      - Apparent magnitude = 16.66 +/- 0.04\n",
      "      - Flux (W m-2 um-1) = 1.05e-16 +/- 3.88e-18\n",
      "   - Paranal/SPHERE.IRDIS_D_K12_2:\n",
      "      - Apparent magnitude = 16.37 +/- 0.06\n",
      "      - Flux (W m-2 um-1) = 1.06e-16 +/- 5.87e-18\n",
      "   - MKO/NSFCam.J:\n",
      "      - Apparent magnitude = 20.04 +/- 0.09\n",
      "      - Flux (W m-2 um-1) = 2.99e-17 +/- 2.48e-18\n",
      "   - MKO/NSFCam.H:\n",
      "      - Apparent magnitude = 18.24 +/- 0.04\n",
      "      - Flux (W m-2 um-1) = 6.22e-17 +/- 2.29e-18\n",
      "   - Paranal/NACO.Lp:\n",
      "      - Apparent magnitude = 14.68 +/- 0.22\n",
      "      - Flux (W m-2 um-1) = 7.07e-17 +/- 1.44e-17\n",
      "   - Paranal/NACO.NB405:\n",
      "      - Apparent magnitude = 14.68 +/- 0.27\n",
      "      - Flux (W m-2 um-1) = 5.33e-17 +/- 1.34e-17\n",
      "   - Paranal/NACO.Mp:\n",
      "      - Apparent magnitude = 13.80 +/- 0.27\n",
      "      - Flux (W m-2 um-1) = 6.53e-17 +/- 1.64e-17\n",
      "   - Keck/NIRC2.Lp:\n",
      "      - Apparent magnitude = 14.64 +/- 0.18\n",
      "      - Flux (W m-2 um-1) = 7.52e-17 +/- 1.25e-17\n",
      "Adding object: PDS 70 c\n",
      "   - Distance (pc) = 113.43 +/- 0.52\n",
      "   - Paranal/NACO.NB405:\n",
      "      - Apparent magnitude = 14.91 +/- 0.35\n",
      "      - Flux (W m-2 um-1) = 4.31e-17 +/- 1.41e-17\n",
      "   - Keck/NIRC2.Lp:\n",
      "      - Apparent magnitude = 15.50 +/- 0.46\n",
      "      - Flux (W m-2 um-1) = 3.40e-17 +/- 1.49e-17\n",
      "Adding filter: HST/NICMOS1.F090M... [DONE]\n",
      "Adding filter: HST/NICMOS1.F110M... [DONE]\n",
      "Adding filter: HST/NICMOS1.F145M... [DONE]\n",
      "Adding filter: HST/NICMOS1.F160W... [DONE]\n",
      "Adding object: 2M1207 b\n",
      "   - Distance (pc) = 64.42 +/- 0.65\n",
      "   - HST/NICMOS1.F090M:\n",
      "      - Apparent magnitude = 22.58 +/- 0.35\n",
      "      - Flux (W m-2 um-1) = 7.90e-18 +/- 2.59e-18\n",
      "   - HST/NICMOS1.F110M:\n",
      "      - Apparent magnitude = 20.61 +/- 0.15\n",
      "      - Flux (W m-2 um-1) = 2.71e-17 +/- 3.76e-18\n",
      "   - HST/NICMOS1.F145M:\n",
      "      - Apparent magnitude = 19.05 +/- 0.03\n",
      "      - Flux (W m-2 um-1) = 4.33e-17 +/- 1.20e-18\n",
      "   - HST/NICMOS1.F160W:\n",
      "      - Apparent magnitude = 18.27 +/- 0.02\n",
      "      - Flux (W m-2 um-1) = 6.37e-17 +/- 1.17e-18\n",
      "   - Paranal/NACO.J:\n",
      "      - Apparent magnitude = 20.00 +/- 0.20\n",
      "      - Flux (W m-2 um-1) = 3.03e-17 +/- 5.61e-18\n",
      "   - Paranal/NACO.H:\n",
      "      - Apparent magnitude = 18.09 +/- 0.21\n",
      "      - Flux (W m-2 um-1) = 6.76e-17 +/- 1.32e-17\n",
      "   - Paranal/NACO.Ks:\n",
      "      - Apparent magnitude = 16.93 +/- 0.11\n",
      "      - Flux (W m-2 um-1) = 7.78e-17 +/- 7.89e-18\n",
      "   - Paranal/NACO.Lp:\n",
      "      - Apparent magnitude = 15.28 +/- 0.14\n",
      "      - Flux (W m-2 um-1) = 4.07e-17 +/- 5.26e-18\n",
      "Adding object: AB Pic B\n",
      "   - Distance (pc) = 50.12 +/- 0.07\n",
      "   - Paranal/NACO.J:\n",
      "      - Apparent magnitude = 16.18 +/- 0.10\n",
      "      - Flux (W m-2 um-1) = 1.02e-15 +/- 9.41e-17\n",
      "   - Paranal/NACO.H:\n",
      "      - Apparent magnitude = 14.69 +/- 0.10\n",
      "      - Flux (W m-2 um-1) = 1.55e-15 +/- 1.43e-16\n",
      "   - Paranal/NACO.Ks:\n",
      "      - Apparent magnitude = 14.14 +/- 0.08\n",
      "      - Flux (W m-2 um-1) = 1.02e-15 +/- 7.49e-17\n",
      "Adding object: HD 206893 B\n",
      "   - Distance (pc) = 40.81 +/- 0.11\n",
      "   - Paranal/SPHERE.IRDIS_B_H:\n",
      "      - Apparent magnitude = 16.79 +/- 0.06\n",
      "      - Flux (W m-2 um-1) = 2.39e-16 +/- 1.32e-17\n",
      "   - Paranal/SPHERE.IRDIS_D_K12_1:\n",
      "      - Apparent magnitude = 15.20 +/- 0.10\n",
      "      - Flux (W m-2 um-1) = 4.04e-16 +/- 3.73e-17\n",
      "   - Paranal/SPHERE.IRDIS_D_K12_2:\n",
      "      - Apparent magnitude = 14.88 +/- 0.09\n",
      "      - Flux (W m-2 um-1) = 4.19e-16 +/- 3.48e-17\n",
      "   - Paranal/NACO.Lp:\n",
      "      - Apparent magnitude = 13.79 +/- 0.31\n",
      "      - Flux (W m-2 um-1) = 1.60e-16 +/- 4.64e-17\n",
      "   - Paranal/NACO.NB405:\n",
      "      - Apparent magnitude = 13.16 +/- 0.34\n",
      "      - Flux (W m-2 um-1) = 2.16e-16 +/- 6.88e-17\n",
      "   - Paranal/NACO.Mp:\n",
      "      - Apparent magnitude = 12.77 +/- 0.27\n",
      "      - Flux (W m-2 um-1) = 1.69e-16 +/- 4.24e-17\n"
     ]
    },
    {
     "name": "stdout",
     "output_type": "stream",
     "text": [
      "Adding filter: Paranal/SPHERE.IRDIS_B_Ks... [DONE]\n",
      "Adding object: RZ Psc B\n",
      "   - Distance (pc) = 195.86 +/- 4.03\n",
      "   - Paranal/SPHERE.IRDIS_B_H (2 values):\n",
      "      - Apparent magnitude = 13.71 +/- 0.14\n",
      "      - Flux (W m-2 um-1) = 4.07e-15 +/- 5.26e-16\n",
      "      - Apparent magnitude = 13.85 +/- 0.26\n",
      "      - Flux (W m-2 um-1) = 3.58e-15 +/- 8.65e-16\n",
      "   - Paranal/SPHERE.IRDIS_B_Ks:\n",
      "      - Apparent magnitude = 13.51 +/- 0.20\n",
      "      - Flux (W m-2 um-1) = 1.69e-15 +/- 3.12e-16\n",
      "Adding filter: HST/WFPC2-PC.F606W... [DONE]\n",
      "Adding filter: HST/WFPC2-PC.F814W... [DONE]\n",
      "Adding filter: HST/NICMOS2.F171M... [DONE]\n",
      "Adding filter: HST/NICMOS2.F190N... [DONE]\n",
      "Adding filter: HST/NICMOS2.F215N... [DONE]\n",
      "Adding filter: Magellan/VisAO.ip... [DONE]\n",
      "Adding filter: Magellan/VisAO.zp... [DONE]\n",
      "Adding filter: Magellan/VisAO.Ys... [DONE]\n",
      "Adding filter: Subaru/CIAO.CH4s... [DONE]\n",
      "Adding filter: Subaru/CIAO.K... [DONE]\n",
      "Adding filter: Subaru/CIAO.Lp... [DONE]\n",
      "Adding object: GQ Lup B\n",
      "   - Distance (pc) = 151.82 +/- 1.10\n",
      "   - HST/WFPC2-PC.F606W:\n",
      "      - Apparent magnitude = 19.19 +/- 0.07\n",
      "      - Flux (W m-2 um-1) = 5.94e-16 +/- 3.83e-17\n",
      "   - HST/WFPC2-PC.F814W:\n",
      "      - Apparent magnitude = 17.67 +/- 0.05\n",
      "      - Flux (W m-2 um-1) = 1.02e-15 +/- 4.68e-17\n",
      "   - HST/NICMOS2.F171M:\n",
      "      - Apparent magnitude = 13.84 +/- 0.13\n",
      "      - Flux (W m-2 um-1) = 2.91e-15 +/- 3.49e-16\n",
      "   - HST/NICMOS2.F190N:\n",
      "      - Apparent magnitude = 14.08 +/- 0.20\n",
      "      - Flux (W m-2 um-1) = 1.65e-15 +/- 3.06e-16\n",
      "   - HST/NICMOS2.F215N:\n",
      "      - Apparent magnitude = 13.40 +/- 0.15\n",
      "      - Flux (W m-2 um-1) = 1.94e-15 +/- 2.69e-16\n",
      "   - Magellan/VisAO.ip:\n",
      "      - Apparent magnitude = 18.89 +/- 0.24\n",
      "      - Flux (W m-2 um-1) = 3.77e-16 +/- 8.40e-17\n",
      "   - Magellan/VisAO.zp:\n",
      "      - Apparent magnitude = 16.40 +/- 0.10\n",
      "      - Flux (W m-2 um-1) = 2.33e-15 +/- 2.15e-16\n",
      "   - Magellan/VisAO.Ys:\n",
      "      - Apparent magnitude = 15.88 +/- 0.10\n",
      "      - Flux (W m-2 um-1) = 3.09e-15 +/- 2.85e-16\n",
      "   - Paranal/NACO.Ks (4 values):\n",
      "      - Apparent magnitude = 13.47 +/- 0.03\n",
      "      - Flux (W m-2 um-1) = 1.88e-15 +/- 5.36e-17\n",
      "      - Apparent magnitude = 13.39 +/- 0.03\n",
      "      - Flux (W m-2 um-1) = 2.03e-15 +/- 6.00e-17\n",
      "      - Apparent magnitude = 13.50 +/- 0.05\n",
      "      - Flux (W m-2 um-1) = 1.84e-15 +/- 8.47e-17\n",
      "      - Apparent magnitude = 13.50 +/- 0.03\n",
      "      - Flux (W m-2 um-1) = 1.83e-15 +/- 4.72e-17\n",
      "   - Subaru/CIAO.CH4s:\n",
      "      - Apparent magnitude = 13.76 +/- 0.26\n",
      "      - Flux (W m-2 um-1) = 3.96e-15 +/- 9.58e-16\n",
      "   - Subaru/CIAO.K:\n",
      "      - Apparent magnitude = 13.37 +/- 0.12\n",
      "      - Flux (W m-2 um-1) = 1.87e-15 +/- 2.07e-16\n",
      "   - Subaru/CIAO.Lp:\n",
      "      - Apparent magnitude = 12.44 +/- 0.22\n",
      "      - Flux (W m-2 um-1) = 5.78e-16 +/- 1.18e-16\n",
      "Adding filter: Paranal/SPHERE.ZIMPOL_R_PRIM... [DONE]\n",
      "Adding filter: Paranal/SPHERE.ZIMPOL_I_PRIM... [DONE]\n",
      "Adding filter: Gemini/NIRI.H2S1v2-1-G0220... [DONE]\n",
      "Adding object: PZ Tel B\n",
      "   - Distance (pc) = 47.13 +/- 0.13\n",
      "   - Paranal/SPHERE.ZIMPOL_R_PRIM:\n",
      "      - Apparent magnitude = 17.84 +/- 0.31\n",
      "      - Flux (W m-2 um-1) = 1.83e-15 +/- 5.29e-16\n",
      "   - Paranal/SPHERE.ZIMPOL_I_PRIM:\n",
      "      - Apparent magnitude = 15.16 +/- 0.12\n",
      "      - Flux (W m-2 um-1) = 1.09e-14 +/- 1.20e-15\n",
      "   - Paranal/SPHERE.IRDIS_D_H23_2:\n",
      "      - Apparent magnitude = 11.78 +/- 0.19\n",
      "      - Flux (W m-2 um-1) = 2.54e-14 +/- 4.47e-15\n",
      "   - Paranal/SPHERE.IRDIS_D_H23_3:\n",
      "      - Apparent magnitude = 11.65 +/- 0.19\n",
      "      - Flux (W m-2 um-1) = 2.43e-14 +/- 4.27e-15\n",
      "   - Paranal/SPHERE.IRDIS_D_K12_1:\n",
      "      - Apparent magnitude = 11.56 +/- 0.09\n",
      "      - Flux (W m-2 um-1) = 1.15e-14 +/- 9.58e-16\n",
      "   - Paranal/SPHERE.IRDIS_D_K12_2:\n",
      "      - Apparent magnitude = 11.29 +/- 0.10\n",
      "      - Flux (W m-2 um-1) = 1.14e-14 +/- 1.05e-15\n",
      "   - Paranal/NACO.J:\n",
      "      - Apparent magnitude = 12.47 +/- 0.20\n",
      "      - Flux (W m-2 um-1) = 3.11e-14 +/- 5.76e-15\n",
      "   - Paranal/NACO.H:\n",
      "      - Apparent magnitude = 11.93 +/- 0.14\n",
      "      - Flux (W m-2 um-1) = 1.97e-14 +/- 2.55e-15\n",
      "   - Paranal/NACO.Ks:\n",
      "      - Apparent magnitude = 11.53 +/- 0.07\n",
      "      - Flux (W m-2 um-1) = 1.12e-14 +/- 7.25e-16\n",
      "   - Paranal/NACO.Lp:\n",
      "      - Apparent magnitude = 11.04 +/- 0.22\n",
      "      - Flux (W m-2 um-1) = 2.02e-15 +/- 4.12e-16\n",
      "   - Paranal/NACO.NB405:\n",
      "      - Apparent magnitude = 10.94 +/- 0.07\n",
      "      - Flux (W m-2 um-1) = 1.67e-15 +/- 1.08e-16\n",
      "   - Paranal/NACO.Mp:\n",
      "      - Apparent magnitude = 10.93 +/- 0.03\n",
      "      - Flux (W m-2 um-1) = 9.19e-16 +/- 2.54e-17\n",
      "   - Gemini/NICI.ED286:\n",
      "      - Apparent magnitude = 11.68 +/- 0.14\n",
      "      - Flux (W m-2 um-1) = 2.78e-14 +/- 3.60e-15\n",
      "   - Gemini/NIRI.H2S1v2-1-G0220:\n",
      "      - Apparent magnitude = 11.39 +/- 0.14\n",
      "      - Flux (W m-2 um-1) = 1.06e-14 +/- 1.37e-15\n",
      "Adding filter: Subaru/CIAO.J... [DONE]\n",
      "Adding filter: Subaru/CIAO.H... [DONE]\n",
      "Adding filter: Subaru/CIAO.Ks... [DONE]\n",
      "Adding filter: LBT/LMIRCam.M_77K... [DONE]\n",
      "Adding object: kappa And b\n",
      "   - Distance (pc) = 50.06 +/- 0.87\n",
      "   - Subaru/CIAO.J:\n",
      "      - Apparent magnitude = 15.86 +/- 0.21\n",
      "      - Flux (W m-2 um-1) = 1.41e-15 +/- 2.74e-16\n",
      "   - Subaru/CIAO.H:\n",
      "      - Apparent magnitude = 14.95 +/- 0.13\n",
      "      - Flux (W m-2 um-1) = 1.29e-15 +/- 1.55e-16\n",
      "   - Subaru/CIAO.Ks:\n",
      "      - Apparent magnitude = 14.32 +/- 0.09\n",
      "      - Flux (W m-2 um-1) = 8.53e-16 +/- 7.08e-17\n",
      "   - Keck/NIRC2.Lp:\n",
      "      - Apparent magnitude = 13.12 +/- 0.10\n",
      "      - Flux (W m-2 um-1) = 3.05e-16 +/- 2.81e-17\n",
      "   - LBT/LMIRCam.M_77K:\n",
      "      - Apparent magnitude = 13.30 +/- 0.30\n",
      "      - Flux (W m-2 um-1) = 1.02e-16 +/- 2.86e-17\n",
      "Adding filter: MKO/NSFCam.Ks... [DONE]\n",
      "Adding object: HD 1160 B\n",
      "   - Distance (pc) = 125.90 +/- 1.20\n",
      "   - MKO/NSFCam.J:\n",
      "      - Apparent magnitude = 14.69 +/- 0.05\n",
      "      - Flux (W m-2 um-1) = 4.13e-15 +/- 1.90e-16\n",
      "   - MKO/NSFCam.H:\n",
      "      - Apparent magnitude = 14.21 +/- 0.02\n",
      "      - Flux (W m-2 um-1) = 2.55e-15 +/- 4.69e-17\n",
      "   - MKO/NSFCam.Ks:\n",
      "      - Apparent magnitude = 14.12 +/- 0.05\n",
      "      - Flux (W m-2 um-1) = 1.03e-15 +/- 4.73e-17\n",
      "   - Paranal/NACO.Lp:\n",
      "      - Apparent magnitude = 13.60 +/- 0.10\n",
      "      - Flux (W m-2 um-1) = 1.91e-16 +/- 1.76e-17\n",
      "   - Keck/NIRC2.Ms:\n",
      "      - Apparent magnitude = 13.81 +/- 0.24\n",
      "      - Flux (W m-2 um-1) = 6.98e-17 +/- 1.56e-17\n",
      "Adding filter: Keck/NIRC2.J... [DONE]\n",
      "Adding object: ROXs 42 Bb\n",
      "   - Distance (pc) = 144.16 +/- 1.53\n",
      "   - Keck/NIRC2.J:\n",
      "      - Apparent magnitude = 16.91 +/- 0.11\n",
      "      - Flux (W m-2 um-1) = 5.32e-16 +/- 5.40e-17\n",
      "   - Keck/NIRC2.H:\n",
      "      - Apparent magnitude = 15.88 +/- 0.05\n",
      "      - Flux (W m-2 um-1) = 5.40e-16 +/- 2.49e-17\n",
      "   - Keck/NIRC2.Ks:\n",
      "      - Apparent magnitude = 15.01 +/- 0.06\n",
      "      - Flux (W m-2 um-1) = 4.49e-16 +/- 2.48e-17\n",
      "   - Keck/NIRC2.Lp:\n",
      "      - Apparent magnitude = 13.97 +/- 0.06\n",
      "      - Flux (W m-2 um-1) = 1.39e-16 +/- 7.70e-18\n",
      "   - Keck/NIRC2.Ms:\n",
      "      - Apparent magnitude = 14.01 +/- 0.23\n",
      "      - Flux (W m-2 um-1) = 5.80e-17 +/- 1.24e-17\n",
      "Adding filter: Paranal/SPHERE.IRDIS_D_Y23_2... [DONE]\n",
      "Adding filter: Paranal/SPHERE.IRDIS_D_Y23_3... [DONE]\n",
      "Adding filter: Paranal/SPHERE.IRDIS_D_J23_3... [DONE]\n",
      "Adding filter: Subaru/IRCS.Lp... [DONE]\n",
      "Adding object: GJ 504 b\n",
      "   - Distance (pc) = 17.54 +/- 0.08\n",
      "   - Paranal/SPHERE.IRDIS_D_Y23_2:\n",
      "      - Apparent magnitude = 20.98 +/- 0.20\n",
      "      - Flux (W m-2 um-1) = 2.43e-17 +/- 4.51e-18\n",
      "   - Paranal/SPHERE.IRDIS_D_Y23_3:\n",
      "      - Apparent magnitude = 20.14 +/- 0.09\n",
      "      - Flux (W m-2 um-1) = 4.45e-17 +/- 3.69e-18\n",
      "   - Paranal/SPHERE.IRDIS_D_J23_3:\n",
      "      - Apparent magnitude = 19.01 +/- 0.17\n",
      "      - Flux (W m-2 um-1) = 7.08e-17 +/- 1.11e-17\n",
      "   - Paranal/SPHERE.IRDIS_D_H23_2:\n",
      "      - Apparent magnitude = 18.95 +/- 0.30\n",
      "      - Flux (W m-2 um-1) = 3.44e-17 +/- 9.64e-18\n",
      "   - Paranal/SPHERE.IRDIS_D_H23_3:\n",
      "      - Apparent magnitude = 21.81 +/- 0.35\n",
      "      - Flux (W m-2 um-1) = 2.09e-18 +/- 6.87e-19\n",
      "   - Paranal/SPHERE.IRDIS_D_K12_1:\n",
      "      - Apparent magnitude = 18.77 +/- 0.20\n",
      "      - Flux (W m-2 um-1) = 1.51e-17 +/- 2.79e-18\n",
      "   - Subaru/CIAO.J:\n",
      "      - Apparent magnitude = 19.78 +/- 0.10\n",
      "      - Flux (W m-2 um-1) = 3.80e-17 +/- 3.51e-18\n",
      "   - Subaru/CIAO.H:\n",
      "      - Apparent magnitude = 20.01 +/- 0.14\n",
      "      - Flux (W m-2 um-1) = 1.22e-17 +/- 1.58e-18\n",
      "   - Subaru/CIAO.Ks:\n",
      "      - Apparent magnitude = 19.38 +/- 0.11\n",
      "      - Flux (W m-2 um-1) = 8.07e-18 +/- 8.19e-19\n",
      "   - Subaru/CIAO.CH4s:\n",
      "      - Apparent magnitude = 19.58 +/- 0.13\n",
      "      - Flux (W m-2 um-1) = 1.86e-17 +/- 2.23e-18\n",
      "   - Subaru/IRCS.Lp:\n",
      "      - Apparent magnitude = 16.70 +/- 0.17\n",
      "      - Flux (W m-2 um-1) = 1.14e-17 +/- 1.80e-18\n"
     ]
    },
    {
     "name": "stdout",
     "output_type": "stream",
     "text": [
      "Adding filter: Gemini/GMOS-S.z... [DONE]\n",
      "Adding filter: CFHT/Wircam.Y... [DONE]\n",
      "Adding filter: CFHT/Wircam.J... [DONE]\n",
      "Adding filter: CFHT/Wircam.H... [DONE]\n",
      "Adding filter: CFHT/Wircam.Ks... [DONE]\n",
      "Adding filter: WISE/WISE.W1... [DONE]\n",
      "Adding filter: WISE/WISE.W2... [DONE]\n",
      "Adding object: GU Psc b\n",
      "   - Distance (pc) = 47.61 +/- 0.16\n",
      "   - Gemini/GMOS-S.z:\n",
      "      - Apparent magnitude = 21.75 +/- 0.07\n",
      "      - Flux (W m-2 um-1) = 1.63e-17 +/- 1.05e-18\n",
      "   - CFHT/Wircam.Y:\n",
      "      - Apparent magnitude = 19.40 +/- 0.05\n",
      "      - Flux (W m-2 um-1) = 1.06e-16 +/- 4.87e-18\n",
      "   - CFHT/Wircam.J:\n",
      "      - Apparent magnitude = 18.12 +/- 0.03\n",
      "      - Flux (W m-2 um-1) = 1.72e-16 +/- 4.76e-18\n",
      "   - CFHT/Wircam.H:\n",
      "      - Apparent magnitude = 17.70 +/- 0.03\n",
      "      - Flux (W m-2 um-1) = 1.02e-16 +/- 2.82e-18\n",
      "   - CFHT/Wircam.Ks:\n",
      "      - Apparent magnitude = 17.40 +/- 0.03\n",
      "      - Flux (W m-2 um-1) = 4.98e-17 +/- 1.38e-18\n",
      "   - WISE/WISE.W1:\n",
      "      - Apparent magnitude = 17.17 +/- 0.33\n",
      "      - Flux (W m-2 um-1) = 1.14e-17 +/- 3.52e-18\n",
      "   - WISE/WISE.W2:\n",
      "      - Apparent magnitude = 15.41 +/- 0.22\n",
      "      - Flux (W m-2 um-1) = 1.70e-17 +/- 3.48e-18\n",
      "Adding object: 2M0103 ABb\n",
      "   - Distance (pc) = 47.20 +/- 3.10\n",
      "   - Paranal/NACO.J:\n",
      "      - Apparent magnitude = 15.47 +/- 0.30\n",
      "      - Flux (W m-2 um-1) = 1.96e-15 +/- 5.49e-16\n",
      "   - Paranal/NACO.H:\n",
      "      - Apparent magnitude = 14.27 +/- 0.20\n",
      "      - Flux (W m-2 um-1) = 2.28e-15 +/- 4.23e-16\n",
      "   - Paranal/NACO.Ks:\n",
      "      - Apparent magnitude = 13.67 +/- 0.20\n",
      "      - Flux (W m-2 um-1) = 1.57e-15 +/- 2.90e-16\n",
      "   - Paranal/NACO.Lp:\n",
      "      - Apparent magnitude = 12.67 +/- 0.10\n",
      "      - Flux (W m-2 um-1) = 4.50e-16 +/- 4.15e-17\n",
      "Adding filter: Gemini/NIRI.J-G0202w... [DONE]\n",
      "Adding filter: Gemini/NIRI.H-G0203w... [DONE]\n",
      "Adding filter: Gemini/NIRI.K-G0204w... [DONE]\n",
      "Adding filter: Gemini/NIRI.Lprime-G0207w... [DONE]\n",
      "Adding object: 1RXS 1609 B\n",
      "   - Distance (pc) = 139.67 +/- 1.33\n",
      "   - Gemini/NIRI.J-G0202w:\n",
      "      - Apparent magnitude = 17.90 +/- 0.12\n",
      "      - Flux (W m-2 um-1) = 2.12e-16 +/- 2.35e-17\n",
      "   - Gemini/NIRI.H-G0203w:\n",
      "      - Apparent magnitude = 16.87 +/- 0.07\n",
      "      - Flux (W m-2 um-1) = 2.11e-16 +/- 1.36e-17\n",
      "   - Gemini/NIRI.K-G0204w:\n",
      "      - Apparent magnitude = 16.17 +/- 0.18\n",
      "      - Flux (W m-2 um-1) = 1.38e-16 +/- 2.30e-17\n",
      "   - Gemini/NIRI.Lprime-G0207w:\n",
      "      - Apparent magnitude = 14.80 +/- 0.30\n",
      "      - Flux (W m-2 um-1) = 6.56e-17 +/- 1.84e-17\n",
      "Adding filter: MKO/NSFCam.Kp... [DONE]\n",
      "Adding filter: MKO/NSFCam.Lp... [DONE]\n",
      "Adding object: GSC 06214 B\n",
      "   - Distance (pc) = 108.84 +/- 0.51\n",
      "   - MKO/NSFCam.J:\n",
      "      - Apparent magnitude = 16.24 +/- 0.04\n",
      "      - Flux (W m-2 um-1) = 9.91e-16 +/- 3.65e-17\n",
      "   - MKO/NSFCam.H:\n",
      "      - Apparent magnitude = 15.55 +/- 0.04\n",
      "      - Flux (W m-2 um-1) = 7.41e-16 +/- 2.73e-17\n",
      "   - MKO/NSFCam.Kp:\n",
      "      - Apparent magnitude = 14.95 +/- 0.05\n",
      "      - Flux (W m-2 um-1) = 5.08e-16 +/- 2.34e-17\n",
      "   - MKO/NSFCam.Lp:\n",
      "      - Apparent magnitude = 13.75 +/- 0.07\n",
      "      - Flux (W m-2 um-1) = 1.73e-16 +/- 1.12e-17\n",
      "   - LBT/LMIRCam.M_77K:\n",
      "      - Apparent magnitude = 13.75 +/- 0.30\n",
      "      - Flux (W m-2 um-1) = 6.75e-17 +/- 1.89e-17\n",
      "Adding object: HD 72946 B\n",
      "   - Distance (pc) = 25.87 +/- 0.03\n",
      "   - Paranal/SPHERE.IRDIS_D_H23_2:\n",
      "      - Apparent magnitude = 14.56 +/- 0.07\n",
      "      - Flux (W m-2 um-1) = 1.96e-15 +/- 1.27e-16\n",
      "   - Paranal/SPHERE.IRDIS_D_H23_3:\n",
      "      - Apparent magnitude = 14.40 +/- 0.07\n",
      "      - Flux (W m-2 um-1) = 1.93e-15 +/- 1.24e-16\n",
      "Adding object: HIP 64892 B\n",
      "   - Distance (pc) = 125.20 +/- 1.42\n",
      "   - Paranal/SPHERE.IRDIS_D_H23_2:\n",
      "      - Apparent magnitude = 14.21 +/- 0.17\n",
      "      - Flux (W m-2 um-1) = 2.71e-15 +/- 4.26e-16\n",
      "   - Paranal/SPHERE.IRDIS_D_H23_3:\n",
      "      - Apparent magnitude = 13.94 +/- 0.17\n",
      "      - Flux (W m-2 um-1) = 2.94e-15 +/- 4.63e-16\n",
      "   - Paranal/SPHERE.IRDIS_D_K12_1:\n",
      "      - Apparent magnitude = 13.77 +/- 0.17\n",
      "      - Flux (W m-2 um-1) = 1.51e-15 +/- 2.37e-16\n",
      "   - Paranal/SPHERE.IRDIS_D_K12_2:\n",
      "      - Apparent magnitude = 13.45 +/- 0.19\n",
      "      - Flux (W m-2 um-1) = 1.56e-15 +/- 2.75e-16\n",
      "   - Paranal/NACO.Lp:\n",
      "      - Apparent magnitude = 13.09 +/- 0.17\n",
      "      - Flux (W m-2 um-1) = 3.06e-16 +/- 4.81e-17\n"
     ]
    }
   ],
   "source": [
    "database.add_companion(name=None)"
   ]
  },
  {
   "cell_type": "markdown",
   "metadata": {},
   "source": [
    "The spectra from the SpeX Prism Spectral Library are also downloaded and added to the database. For each spectrum, the [SIMBAD Astronomical Database](http://simbad.u-strasbg.fr/simbad/) is queried for the SIMBAD identifier. The identifier is then used to extract the [distance](https://people.phys.ethz.ch/~stolkert/species/distance.dat) of the object (calculated from the parallax). A NaN value is stored for the distance if the object could not be identified in the SIMBAD database so these objects are not used in the color-magnitude diagram."
   ]
  },
  {
   "cell_type": "code",
   "execution_count": 6,
   "metadata": {},
   "outputs": [
    {
     "name": "stdout",
     "output_type": "stream",
     "text": [
      "Downloading SpeX Prism Spectral Library... [DONE]                       \n",
      "Adding filter: 2MASS/2MASS.H... [DONE]\n",
      "Adding SpeX Prism Spectral Library... 2MASSW J1645221-131951            "
     ]
    },
    {
     "name": "stderr",
     "output_type": "stream",
     "text": [
      "/Users/tomasstolker/.pyenv/versions/3.6.10/envs/general3.6/lib/python3.6/site-packages/astroquery/simbad/core.py:138: UserWarning: Warning: The script line number 3 raised an error (recorded in the `errors` attribute of the result table): Identifier not found in the database : 2MASS J21225635+3656002\n",
      "  (error.line, error.msg))\n"
     ]
    },
    {
     "name": "stdout",
     "output_type": "stream",
     "text": [
      "Adding SpeX Prism Spectral Library... 2MASS J05103520-4208140           "
     ]
    },
    {
     "name": "stderr",
     "output_type": "stream",
     "text": [
      "/Users/tomasstolker/.pyenv/versions/3.6.10/envs/general3.6/lib/python3.6/site-packages/astroquery/simbad/core.py:138: UserWarning: Warning: The script line number 3 raised an error (recorded in the `errors` attribute of the result table): Identifier not found in the database : 2MASS J14044941-3159329\n",
      "  (error.line, error.msg))\n",
      "/Users/tomasstolker/.pyenv/versions/3.6.10/envs/general3.6/lib/python3.6/site-packages/astroquery/simbad/core.py:138: UserWarning: Warning: The script line number 3 raised an error (recorded in the `errors` attribute of the result table): Identifier not found in the database : 2MASS J05103520-4208140\n",
      "  (error.line, error.msg))\n"
     ]
    },
    {
     "name": "stdout",
     "output_type": "stream",
     "text": [
      "Adding SpeX Prism Spectral Library... SDSS J104335.08+121314.1          "
     ]
    },
    {
     "name": "stderr",
     "output_type": "stream",
     "text": [
      "/Users/tomasstolker/.pyenv/versions/3.6.10/envs/general3.6/lib/python3.6/site-packages/astroquery/simbad/core.py:138: UserWarning: Warning: The script line number 3 raised an error (recorded in the `errors` attribute of the result table): Identifier not found in the database : 2MASS J14162394+1348363\n",
      "  (error.line, error.msg))\n"
     ]
    },
    {
     "name": "stdout",
     "output_type": "stream",
     "text": [
      "Adding SpeX Prism Spectral Library... [DONE]                            \n"
     ]
    }
   ],
   "source": [
    "database.add_spectrum('spex')"
   ]
  },
  {
   "cell_type": "markdown",
   "metadata": {},
   "source": [
    "The AMES-Cond model spectra (i.e. for cloudless atmospheres) are also downloaded and imported into the database."
   ]
  },
  {
   "cell_type": "code",
   "execution_count": 7,
   "metadata": {},
   "outputs": [
    {
     "name": "stdout",
     "output_type": "stream",
     "text": [
      "Downloading AMES-Cond model spectra (150 MB)... [DONE]\n",
      "Unpacking AMES-Cond model spectra (150 MB)... [DONE]\n",
      "Adding AMES-Cond model spectra... [DONE]                               \n",
      "Grid points stored in the database:\n",
      "   - Teff = [ 100.  200.  300.  400.  500.  600.  700.  800.  900. 1000. 1100. 1200.\n",
      " 1300. 1400. 1500. 1600. 1700. 1800. 1900. 2000. 2100. 2200. 2300. 2400.\n",
      " 2500. 2600. 2700. 2800. 2900. 3000. 3100. 3200. 3300. 3400. 3500. 3600.\n",
      " 3700. 3800. 3900. 4000. 4100. 4200. 4300. 4400. 4500. 4600. 4700. 4800.\n",
      " 5000. 5100. 5200. 5300. 5400. 5500. 5600. 5700. 5800. 5900. 6000. 6100.\n",
      " 6200. 6300. 6400. 6500. 6600.]\n",
      "   - log(g) = [2.5 3.  3.5 4.  4.5 5.  5.5]\n",
      "Number of grid points per parameter:\n",
      "   - teff: 65\n",
      "   - logg: 7\n",
      "Fix missing grid points with a linear interpolation:\n",
      "   - teff = 200.0, logg = 5.5\n",
      "   - teff = 900.0, logg = 2.5\n",
      "   - teff = 4700.0, logg = 4.5\n",
      "   - teff = 4700.0, logg = 5.0\n",
      "   - teff = 4700.0, logg = 5.5\n",
      "   - teff = 4800.0, logg = 2.5\n",
      "   - teff = 4800.0, logg = 3.0\n",
      "   - teff = 4800.0, logg = 4.5\n",
      "   - teff = 6100.0, logg = 2.5\n",
      "   - teff = 6100.0, logg = 3.0\n",
      "   - teff = 6100.0, logg = 3.5\n",
      "   - teff = 6100.0, logg = 4.0\n",
      "   - teff = 6100.0, logg = 4.5\n",
      "   - teff = 6100.0, logg = 5.5\n",
      "   - teff = 6200.0, logg = 3.5\n",
      "   - teff = 6200.0, logg = 4.0\n",
      "Number of stored grid points: 455\n",
      "Number of interpolated grid points: 16\n",
      "Number of missing grid points: 0\n"
     ]
    },
    {
     "name": "stderr",
     "output_type": "stream",
     "text": [
      "/Users/tomasstolker/applications/species/species/util/data_util.py:275: RuntimeWarning: divide by zero encountered in log10\n",
      "  flux = np.log10(flux)\n"
     ]
    }
   ],
   "source": [
    "database.add_model('ames-cond')"
   ]
  },
  {
   "cell_type": "markdown",
   "metadata": {},
   "source": [
    "And also the AMES-Dusty model spectra (i.e. for dusty atmospheres) are downloaded and imported into the database."
   ]
  },
  {
   "cell_type": "code",
   "execution_count": 8,
   "metadata": {},
   "outputs": [
    {
     "name": "stdout",
     "output_type": "stream",
     "text": [
      "Downloading AMES-Dusty model spectra (59 MB)... [DONE]\n",
      "Unpacking AMES-Dusty model spectra (59 MB)... [DONE]\n",
      "Adding AMES-Dusty model spectra... [DONE]                                \n",
      "Grid points stored in the database:\n",
      "   - Teff = [ 500.  600.  700.  800.  900. 1000. 1100. 1200. 1300. 1400. 1500. 1600.\n",
      " 1700. 1800. 1900. 2000. 2100. 2200. 2300. 2400. 2500. 2600. 2700. 2800.\n",
      " 2900. 3000. 3100. 3200. 3300. 3400. 3500. 3600. 3700. 3800. 3900. 4000.]\n",
      "   - log(g) = [3.5 4.  4.5 5.  5.5 6. ]\n",
      "Number of grid points per parameter:\n",
      "   - teff: 36\n",
      "   - logg: 6\n",
      "Fix missing grid points with a linear interpolation:\n",
      "   - teff = 900.0, logg = 6.0\n",
      "   - teff = 1200.0, logg = 5.5\n",
      "   - teff = 2100.0, logg = 3.5\n",
      "   - teff = 2100.0, logg = 4.5\n",
      "   - teff = 2200.0, logg = 3.5\n",
      "   - teff = 2400.0, logg = 5.0\n",
      "   - teff = 3100.0, logg = 3.5\n",
      "   - teff = 3200.0, logg = 3.5\n",
      "   - teff = 3300.0, logg = 3.5\n",
      "   - teff = 3400.0, logg = 3.5\n",
      "   - teff = 3500.0, logg = 3.5\n",
      "   - teff = 3600.0, logg = 3.5\n",
      "   - teff = 3700.0, logg = 3.5\n",
      "   - teff = 3800.0, logg = 3.5\n",
      "   - teff = 3900.0, logg = 3.5\n",
      "   - teff = 3900.0, logg = 6.0\n",
      "   - teff = 4000.0, logg = 3.5\n",
      "   - teff = 4000.0, logg = 4.0\n",
      "   - teff = 4000.0, logg = 4.5\n",
      "   - teff = 4000.0, logg = 5.5\n",
      "   - teff = 4000.0, logg = 6.0\n",
      "Could not interpolate 15 grid points so storing zeros instead. [WARNING]\n",
      "The grid points that are missing:\n",
      "   - teff = 3100.0, logg = 3.5\n",
      "   - teff = 3200.0, logg = 3.5\n",
      "   - teff = 3300.0, logg = 3.5\n",
      "   - teff = 3400.0, logg = 3.5\n",
      "   - teff = 3500.0, logg = 3.5\n",
      "   - teff = 3600.0, logg = 3.5\n",
      "   - teff = 3700.0, logg = 3.5\n",
      "   - teff = 3800.0, logg = 3.5\n",
      "   - teff = 3900.0, logg = 3.5\n",
      "   - teff = 3900.0, logg = 6.0\n",
      "   - teff = 4000.0, logg = 3.5\n",
      "   - teff = 4000.0, logg = 4.0\n",
      "   - teff = 4000.0, logg = 4.5\n",
      "   - teff = 4000.0, logg = 5.5\n",
      "   - teff = 4000.0, logg = 6.0\n",
      "Number of stored grid points: 216\n",
      "Number of interpolated grid points: 6\n",
      "Number of missing grid points: 15\n"
     ]
    }
   ],
   "source": [
    "database.add_model('ames-dusty')"
   ]
  },
  {
   "cell_type": "markdown",
   "metadata": {},
   "source": [
    "The AMES-Cond and AMES-Dusty isochones are now downloaded. We note that the evolutionary data of these isochrones are identical and only the magnitudes are different, but for clarity we consider the isochrones from both AMES-Cond and AMES-Dusty."
   ]
  },
  {
   "cell_type": "code",
   "execution_count": 9,
   "metadata": {},
   "outputs": [
    {
     "data": {
      "text/plain": [
       "('data/model.AMES-Cond-2000.M-0.0.NaCo.Vega',\n",
       " <http.client.HTTPMessage at 0x13b9cf358>)"
      ]
     },
     "execution_count": 9,
     "metadata": {},
     "output_type": "execute_result"
    }
   ],
   "source": [
    "urllib.request.urlretrieve('https://phoenix.ens-lyon.fr/Grids/AMES-Cond/ISOCHRONES/model.AMES-Cond-2000.M-0.0.NaCo.Vega',\n",
    "                           'data/model.AMES-Cond-2000.M-0.0.NaCo.Vega')"
   ]
  },
  {
   "cell_type": "code",
   "execution_count": 10,
   "metadata": {},
   "outputs": [
    {
     "data": {
      "text/plain": [
       "('data/model.AMES-dusty.M-0.0.NaCo.Vega',\n",
       " <http.client.HTTPMessage at 0x13b9cff60>)"
      ]
     },
     "execution_count": 10,
     "metadata": {},
     "output_type": "execute_result"
    }
   ],
   "source": [
    "urllib.request.urlretrieve('https://phoenix.ens-lyon.fr/Grids/AMES-Dusty/ISOCHRONES/model.AMES-dusty.M-0.0.NaCo.Vega',\n",
    "                           'data/model.AMES-dusty.M-0.0.NaCo.Vega')"
   ]
  },
  {
   "cell_type": "markdown",
   "metadata": {},
   "source": [
    "The isochrone data are added to the database with the `add_isochrones` method."
   ]
  },
  {
   "cell_type": "code",
   "execution_count": 11,
   "metadata": {},
   "outputs": [
    {
     "name": "stdout",
     "output_type": "stream",
     "text": [
      "Adding isochrones: iso_ames-cond... [DONE]\n"
     ]
    }
   ],
   "source": [
    "database.add_isochrones(filename='data/model.AMES-Cond-2000.M-0.0.NaCo.Vega',\n",
    "                        tag='iso_ames-cond')"
   ]
  },
  {
   "cell_type": "code",
   "execution_count": 12,
   "metadata": {},
   "outputs": [
    {
     "name": "stdout",
     "output_type": "stream",
     "text": [
      "Adding isochrones: iso_ames-dusty... [DONE]\n"
     ]
    }
   ],
   "source": [
    "database.add_isochrones(filename='data/model.AMES-dusty.M-0.0.NaCo.Vega',\n",
    "                        tag='iso_ames-dusty')"
   ]
  },
  {
   "cell_type": "markdown",
   "metadata": {},
   "source": [
    "## Synthetic colors and magnitudes"
   ]
  },
  {
   "cell_type": "markdown",
   "metadata": {},
   "source": [
    "For the narrowband filters of SPHERE, the synthetic colors and magnitudes are computed from the SpeX spectra. We start by creating an instance of `ReadColorMagnitude`."
   ]
  },
  {
   "cell_type": "code",
   "execution_count": 13,
   "metadata": {},
   "outputs": [],
   "source": [
    "read_color = species.ReadColorMagnitude(library='spex',\n",
    "                                        filters_color=('Paranal/SPHERE.IRDIS_D_H23_2', 'Paranal/SPHERE.IRDIS_D_H23_3'),\n",
    "                                        filter_mag='Paranal/SPHERE.IRDIS_D_H23_2')"
   ]
  },
  {
   "cell_type": "markdown",
   "metadata": {},
   "source": [
    "All spectra are used and the colors and magnitudes are stored in a `ColorMagObject`."
   ]
  },
  {
   "cell_type": "code",
   "execution_count": 14,
   "metadata": {},
   "outputs": [],
   "source": [
    "colorbox = read_color.get_color_magnitude(object_type=None)"
   ]
  },
  {
   "cell_type": "markdown",
   "metadata": {},
   "source": [
    "Next, the isochrone data is extracted by first creating and instance of `ReadIsochrone`."
   ]
  },
  {
   "cell_type": "code",
   "execution_count": 15,
   "metadata": {},
   "outputs": [],
   "source": [
    "read_iso_cond = species.ReadIsochrone(tag='iso_ames-cond')\n",
    "read_iso_dusty = species.ReadIsochrone(tag='iso_ames-dusty')"
   ]
  },
  {
   "cell_type": "markdown",
   "metadata": {},
   "source": [
    "To interpolate the isochrones and compute synthetic photometry, we use the `get_color_magnitude` method and give the grid of model spectra (i.e. that was stored with `add_model`) as argument of `model`. The method will return a `ColorMagBox` object."
   ]
  },
  {
   "cell_type": "code",
   "execution_count": 16,
   "metadata": {},
   "outputs": [],
   "source": [
    "modelcolor1 = read_iso_cond.get_color_magnitude(age=age,\n",
    "                                                masses=masses,\n",
    "                                                model='ames-cond',\n",
    "                                                filters_color=('Paranal/SPHERE.IRDIS_D_H23_2', 'Paranal/SPHERE.IRDIS_D_H23_3'),\n",
    "                                                filter_mag='Paranal/SPHERE.IRDIS_D_H23_2')"
   ]
  },
  {
   "cell_type": "code",
   "execution_count": 17,
   "metadata": {},
   "outputs": [
    {
     "name": "stderr",
     "output_type": "stream",
     "text": [
      "/Users/tomasstolker/applications/species/species/read/read_isochrone.py:218: UserWarning: The value of logg is 2.917784581524866, which is below the lower bound of the model grid (3.5). Setting the magnitudes to NaN for the following isochrone sample: {'teff': 501.3728693602355, 'logg': 2.917784581524866, 'mass': 1.0, 'distance': 10.0}.\n",
      "  warnings.warn(f'The value of {item_bounds} is {model_param[item_bounds]}, '\n",
      "/Users/tomasstolker/applications/species/species/read/read_isochrone.py:218: UserWarning: The value of logg is 2.972779343287681, which is below the lower bound of the model grid (3.5). Setting the magnitudes to NaN for the following isochrone sample: {'teff': 502.51561905255875, 'logg': 2.972779343287681, 'mass': 1.0722672220103233, 'distance': 10.0}.\n",
      "  warnings.warn(f'The value of {item_bounds} is {model_param[item_bounds]}, '\n",
      "/Users/tomasstolker/applications/species/species/read/read_isochrone.py:218: UserWarning: The value of logg is 3.035244115774989, which is below the lower bound of the model grid (3.5). Setting the magnitudes to NaN for the following isochrone sample: {'teff': 504.9110749694396, 'logg': 3.035244115774989, 'mass': 1.1497569953977358, 'distance': 10.0}.\n",
      "  warnings.warn(f'The value of {item_bounds} is {model_param[item_bounds]}, '\n",
      "/Users/tomasstolker/applications/species/species/read/read_isochrone.py:218: UserWarning: The value of logg is 3.1022230438434617, which is below the lower bound of the model grid (3.5). Setting the magnitudes to NaN for the following isochrone sample: {'teff': 507.4796438308816, 'logg': 3.1022230438434617, 'mass': 1.2328467394420661, 'distance': 10.0}.\n",
      "  warnings.warn(f'The value of {item_bounds} is {model_param[item_bounds]}, '\n",
      "/Users/tomasstolker/applications/species/species/read/read_isochrone.py:218: UserWarning: The value of logg is 3.2067743991749165, which is below the lower bound of the model grid (3.5). Setting the magnitudes to NaN for the following isochrone sample: {'teff': 519.9830583907551, 'logg': 3.2067743991749165, 'mass': 1.321941148466029, 'distance': 10.0}.\n",
      "  warnings.warn(f'The value of {item_bounds} is {model_param[item_bounds]}, '\n",
      "/Users/tomasstolker/applications/species/species/read/read_isochrone.py:218: UserWarning: The value of logg is 3.3063735241310974, which is below the lower bound of the model grid (3.5). Setting the magnitudes to NaN for the following isochrone sample: {'teff': 533.9699983677936, 'logg': 3.3063735241310974, 'mass': 1.4174741629268053, 'distance': 10.0}.\n",
      "  warnings.warn(f'The value of {item_bounds} is {model_param[item_bounds]}, '\n",
      "/Users/tomasstolker/applications/species/species/read/read_isochrone.py:218: UserWarning: The value of logg is 3.338631698699009, which is below the lower bound of the model grid (3.5). Setting the magnitudes to NaN for the following isochrone sample: {'teff': 543.9407068706029, 'logg': 3.338631698699009, 'mass': 1.5199110829529336, 'distance': 10.0}.\n",
      "  warnings.warn(f'The value of {item_bounds} is {model_param[item_bounds]}, '\n",
      "/Users/tomasstolker/applications/species/species/read/read_isochrone.py:218: UserWarning: The value of logg is 3.3721167739343065, which is below the lower bound of the model grid (3.5). Setting the magnitudes to NaN for the following isochrone sample: {'teff': 556.1780019724513, 'logg': 3.3721167739343065, 'mass': 1.6297508346206442, 'distance': 10.0}.\n",
      "  warnings.warn(f'The value of {item_bounds} is {model_param[item_bounds]}, '\n",
      "/Users/tomasstolker/applications/species/species/read/read_isochrone.py:218: UserWarning: The value of logg is 3.406958013871118, which is below the lower bound of the model grid (3.5). Setting the magnitudes to NaN for the following isochrone sample: {'teff': 570.788844526598, 'logg': 3.406958013871118, 'mass': 1.7475284000076838, 'distance': 10.0}.\n",
      "  warnings.warn(f'The value of {item_bounds} is {model_param[item_bounds]}, '\n",
      "/Users/tomasstolker/applications/species/species/read/read_isochrone.py:218: UserWarning: The value of logg is 3.444317133429558, which is below the lower bound of the model grid (3.5). Setting the magnitudes to NaN for the following isochrone sample: {'teff': 586.455572083363, 'logg': 3.444317133429558, 'mass': 1.8738174228603839, 'distance': 10.0}.\n",
      "  warnings.warn(f'The value of {item_bounds} is {model_param[item_bounds]}, '\n",
      "/Users/tomasstolker/applications/species/species/read/read_isochrone.py:218: UserWarning: The value of logg is 3.484376092775238, which is below the lower bound of the model grid (3.5). Setting the magnitudes to NaN for the following isochrone sample: {'teff': 603.2544905186481, 'logg': 3.484376092775238, 'mass': 2.0092330025650473, 'distance': 10.0}.\n",
      "  warnings.warn(f'The value of {item_bounds} is {model_param[item_bounds]}, '\n"
     ]
    }
   ],
   "source": [
    "modelcolor2 = read_iso_dusty.get_color_magnitude(age=age,\n",
    "                                                 masses=masses,\n",
    "                                                 model='ames-dusty',\n",
    "                                                 filters_color=('Paranal/SPHERE.IRDIS_D_H23_2', 'Paranal/SPHERE.IRDIS_D_H23_3'),\n",
    "                                                 filter_mag='Paranal/SPHERE.IRDIS_D_H23_2')"
   ]
  },
  {
   "cell_type": "markdown",
   "metadata": {},
   "source": [
    "Some warnings are printed for temperatures (i.e. masses) that are outside the grid of isochrone data and also when the log(g) from the isochrone data is outside the log(g) range of the grid with model spectra. In those case, the magnitudes and colors are set to NaN and will be ignored in the color-magnitude diagram."
   ]
  },
  {
   "cell_type": "markdown",
   "metadata": {},
   "source": [
    "## Selecting directly imaged planets"
   ]
  },
  {
   "cell_type": "markdown",
   "metadata": {},
   "source": [
    "Let's have a look at the available companion data that were added to the database with `add_companion`."
   ]
  },
  {
   "cell_type": "code",
   "execution_count": 18,
   "metadata": {},
   "outputs": [
    {
     "name": "stdout",
     "output_type": "stream",
     "text": [
      "Object name = beta Pic b\n",
      "Distance (pc) = 19.75 +/- 0.13\n",
      "LCO/VisAO.Ys (mag) = 15.53 +/- 0.34\n",
      "Paranal/NACO.J (mag) = 14.11 +/- 0.21\n",
      "Gemini/NICI.ED286 (mag) = 13.18 +/- 0.15\n",
      "Paranal/NACO.H (mag) = 13.32 +/- 0.14\n",
      "Paranal/NACO.Ks (mag) = 12.64 +/- 0.11\n",
      "Paranal/NACO.NB374 (mag) = 11.25 +/- 0.23\n",
      "Paranal/NACO.Lp (mag) = 11.3 +/- 0.06\n",
      "Paranal/NACO.NB405 (mag) = 10.98 +/- 0.05\n",
      "Paranal/NACO.Mp (mag) = 11.1 +/- 0.12\n",
      "Paranal/SPHERE.IRDIS_D_K12_1 (mag) = 12.568 +/- 0.003\n",
      "Paranal/SPHERE.IRDIS_D_K12_2 (mag) = 12.206 +/- 0.002\n",
      "\n",
      "Object name = HIP 65426 b\n",
      "Distance (pc) = 109.21 +/- 0.75\n",
      "Paranal/SPHERE.IRDIS_D_H23_2 (mag) = 17.94 +/- 0.05\n",
      "Paranal/SPHERE.IRDIS_D_H23_3 (mag) = 17.58 +/- 0.06\n",
      "Paranal/SPHERE.IRDIS_D_K12_1 (mag) = 17.01 +/- 0.09\n",
      "Paranal/SPHERE.IRDIS_D_K12_2 (mag) = 16.79 +/- 0.09\n",
      "Paranal/NACO.Lp (mag) = 15.33 +/- 0.12\n",
      "Paranal/NACO.NB405 (mag) = 15.23 +/- 0.22\n",
      "Paranal/NACO.Mp (mag) = 14.65 +/- 0.29\n",
      "\n",
      "Object name = 51 Eri b\n",
      "Distance (pc) = 29.78 +/- 0.12\n",
      "MKO/NSFCam.J (mag) = 19.04 +/- 0.4\n",
      "MKO/NSFCam.H (mag) = 18.99 +/- 0.21\n",
      "MKO/NSFCam.K (mag) = 18.67 +/- 0.19\n",
      "Paranal/SPHERE.IRDIS_B_H (mag) = 19.45 +/- 0.29\n",
      "Paranal/SPHERE.IRDIS_D_H23_2 (mag) = 18.41 +/- 0.26\n",
      "Paranal/SPHERE.IRDIS_D_K12_1 (mag) = 17.55 +/- 0.14\n",
      "Keck/NIRC2.Lp (mag) = 16.2 +/- 0.11\n",
      "Keck/NIRC2.Ms (mag) = 16.1 +/- 0.5\n",
      "\n",
      "Object name = HR 8799 b\n",
      "Distance (pc) = 41.29 +/- 0.15\n",
      "Subaru/CIAO.z (mag) = 21.22 +/- 0.29\n",
      "Paranal/SPHERE.IRDIS_B_J (mag) = 19.78 +/- 0.09\n",
      "Keck/NIRC2.H (mag) = 18.05 +/- 0.09\n",
      "Paranal/SPHERE.IRDIS_D_H23_2 (mag) = 18.08 +/- 0.14\n",
      "Paranal/SPHERE.IRDIS_D_H23_3 (mag) = 17.78 +/- 0.1\n",
      "Keck/NIRC2.Ks (mag) = 17.03 +/- 0.08\n",
      "Paranal/SPHERE.IRDIS_D_K12_1 (mag) = 17.15 +/- 0.06\n",
      "Paranal/SPHERE.IRDIS_D_K12_2 (mag) = 16.97 +/- 0.09\n",
      "Paranal/NACO.Lp (mag) = 15.52 +/- 0.1\n",
      "Paranal/NACO.NB405 (mag) = 14.82 +/- 0.18\n",
      "Keck/NIRC2.Ms (mag) = 16.05 +/- 0.3\n",
      "\n",
      "Object name = HR 8799 c\n",
      "Distance (pc) = 41.29 +/- 0.15\n",
      "Paranal/SPHERE.IRDIS_B_J (mag) = 18.6 +/- 0.13\n",
      "Keck/NIRC2.H (mag) = 17.06 +/- 0.13\n",
      "Paranal/SPHERE.IRDIS_D_H23_2 (mag) = 17.09 +/- 0.12\n",
      "Paranal/SPHERE.IRDIS_D_H23_3 (mag) = 16.78 +/- 0.1\n",
      "Keck/NIRC2.Ks (mag) = 16.11 +/- 0.08\n",
      "Paranal/SPHERE.IRDIS_D_K12_1 (mag) = 16.19 +/- 0.05\n",
      "Paranal/SPHERE.IRDIS_D_K12_2 (mag) = 15.86 +/- 0.07\n",
      "Paranal/NACO.Lp (mag) = 14.65 +/- 0.11\n",
      "Paranal/NACO.NB405 (mag) = 13.97 +/- 0.11\n",
      "Keck/NIRC2.Ms (mag) = 15.03 +/- 0.14\n",
      "\n",
      "Object name = HR 8799 d\n",
      "Distance (pc) = 41.29 +/- 0.15\n",
      "Paranal/SPHERE.IRDIS_B_J (mag) = 18.59 +/- 0.37\n",
      "Keck/NIRC2.H (mag) = 16.71 +/- 0.24\n",
      "Paranal/SPHERE.IRDIS_D_H23_2 (mag) = 17.02 +/- 0.17\n",
      "Paranal/SPHERE.IRDIS_D_H23_3 (mag) = 16.85 +/- 0.16\n",
      "Keck/NIRC2.Ks (mag) = 16.09 +/- 0.12\n",
      "Paranal/SPHERE.IRDIS_D_K12_1 (mag) = 16.2 +/- 0.07\n",
      "Paranal/SPHERE.IRDIS_D_K12_2 (mag) = 15.84 +/- 0.1\n",
      "Paranal/NACO.Lp (mag) = 14.55 +/- 0.14\n",
      "Paranal/NACO.NB405 (mag) = 13.87 +/- 0.15\n",
      "Keck/NIRC2.Ms (mag) = 14.65 +/- 0.35\n",
      "\n",
      "Object name = HR 8799 e\n",
      "Distance (pc) = 41.29 +/- 0.15\n",
      "Paranal/SPHERE.IRDIS_B_J (mag) = 18.4 +/- 0.21\n",
      "Paranal/SPHERE.IRDIS_D_H23_2 (mag) = 16.91 +/- 0.2\n",
      "Paranal/SPHERE.IRDIS_D_H23_3 (mag) = 16.68 +/- 0.21\n",
      "Keck/NIRC2.Ks (mag) = 15.91 +/- 0.22\n",
      "Paranal/SPHERE.IRDIS_D_K12_1 (mag) = 16.12 +/- 0.1\n",
      "Paranal/SPHERE.IRDIS_D_K12_2 (mag) = 15.82 +/- 0.11\n",
      "Paranal/NACO.Lp (mag) = 14.49 +/- 0.21\n",
      "Paranal/NACO.NB405 (mag) = 13.72 +/- 0.2\n",
      "\n",
      "Object name = HD 95086 b\n",
      "Distance (pc) = 86.44 +/- 0.24\n",
      "Gemini/GPI.H (mag) = 20.51 +/- 0.25\n",
      "Gemini/GPI.K1 (mag) = 18.99 +/- 0.2\n",
      "Paranal/NACO.Lp (mag) = 16.27 +/- 0.19\n",
      "\n",
      "Object name = PDS 70 b\n",
      "Distance (pc) = 113.43 +/- 0.52\n",
      "Paranal/SPHERE.IRDIS_D_H23_2 (mag) = 18.12 +/- 0.21\n",
      "Paranal/SPHERE.IRDIS_D_H23_3 (mag) = 17.97 +/- 0.18\n",
      "Paranal/SPHERE.IRDIS_D_K12_1 (mag) = 16.66 +/- 0.04\n",
      "Paranal/SPHERE.IRDIS_D_K12_2 (mag) = 16.37 +/- 0.06\n",
      "MKO/NSFCam.J (mag) = 20.04 +/- 0.09\n",
      "MKO/NSFCam.H (mag) = 18.24 +/- 0.04\n",
      "Paranal/NACO.Lp (mag) = 14.68 +/- 0.22\n",
      "Paranal/NACO.NB405 (mag) = 14.68 +/- 0.27\n",
      "Paranal/NACO.Mp (mag) = 13.8 +/- 0.27\n",
      "Keck/NIRC2.Lp (mag) = 14.64 +/- 0.18\n",
      "\n",
      "Object name = PDS 70 c\n",
      "Distance (pc) = 113.43 +/- 0.52\n",
      "Paranal/NACO.NB405 (mag) = 14.91 +/- 0.35\n",
      "Keck/NIRC2.Lp (mag) = 15.5 +/- 0.46\n",
      "\n",
      "Object name = 2M1207 b\n",
      "Distance (pc) = 64.42 +/- 0.65\n",
      "HST/NICMOS1.F090M (mag) = 22.58 +/- 0.35\n",
      "HST/NICMOS1.F110M (mag) = 20.61 +/- 0.15\n",
      "HST/NICMOS1.F145M (mag) = 19.05 +/- 0.03\n",
      "HST/NICMOS1.F160W (mag) = 18.27 +/- 0.02\n",
      "Paranal/NACO.J (mag) = 20.0 +/- 0.2\n",
      "Paranal/NACO.H (mag) = 18.09 +/- 0.21\n",
      "Paranal/NACO.Ks (mag) = 16.93 +/- 0.11\n",
      "Paranal/NACO.Lp (mag) = 15.28 +/- 0.14\n",
      "\n",
      "Object name = AB Pic B\n",
      "Distance (pc) = 50.12 +/- 0.07\n",
      "Paranal/NACO.J (mag) = 16.18 +/- 0.1\n",
      "Paranal/NACO.H (mag) = 14.69 +/- 0.1\n",
      "Paranal/NACO.Ks (mag) = 14.14 +/- 0.08\n",
      "\n",
      "Object name = HD 206893 B\n",
      "Distance (pc) = 40.81 +/- 0.11\n",
      "Paranal/SPHERE.IRDIS_B_H (mag) = 16.79 +/- 0.06\n",
      "Paranal/SPHERE.IRDIS_D_K12_1 (mag) = 15.2 +/- 0.1\n",
      "Paranal/SPHERE.IRDIS_D_K12_2 (mag) = 14.88 +/- 0.09\n",
      "Paranal/NACO.Lp (mag) = 13.79 +/- 0.31\n",
      "Paranal/NACO.NB405 (mag) = 13.16 +/- 0.34\n",
      "Paranal/NACO.Mp (mag) = 12.77 +/- 0.27\n",
      "\n",
      "Object name = RZ Psc B\n",
      "Distance (pc) = 195.86 +/- 4.03\n",
      "Paranal/SPHERE.IRDIS_B_H (mag) = (13.71, 0.14) +/- (13.85, 0.26)\n",
      "Paranal/SPHERE.IRDIS_B_Ks (mag) = 13.51 +/- 0.2\n",
      "\n",
      "Object name = GQ Lup B\n",
      "Distance (pc) = 151.82 +/- 1.1\n",
      "HST/WFPC2-PC.F606W (mag) = 19.19 +/- 0.07\n",
      "HST/WFPC2-PC.F814W (mag) = 17.67 +/- 0.05\n",
      "HST/NICMOS2.F171M (mag) = 13.84 +/- 0.13\n",
      "HST/NICMOS2.F190N (mag) = 14.08 +/- 0.2\n",
      "HST/NICMOS2.F215N (mag) = 13.4 +/- 0.15\n",
      "Magellan/VisAO.ip (mag) = 18.89 +/- 0.24\n",
      "Magellan/VisAO.zp (mag) = 16.4 +/- 0.1\n",
      "Magellan/VisAO.Ys (mag) = 15.88 +/- 0.1\n",
      "Paranal/NACO.Ks (mag) = (13.474, 0.031) +/- (13.386, 0.032)\n",
      "Subaru/CIAO.CH4s (mag) = 13.76 +/- 0.26\n",
      "Subaru/CIAO.K (mag) = 13.37 +/- 0.12\n",
      "Subaru/CIAO.Lp (mag) = 12.44 +/- 0.22\n",
      "\n",
      "Object name = PZ Tel B\n",
      "Distance (pc) = 47.13 +/- 0.13\n",
      "Paranal/SPHERE.ZIMPOL_R_PRIM (mag) = 17.84 +/- 0.31\n",
      "Paranal/SPHERE.ZIMPOL_I_PRIM (mag) = 15.16 +/- 0.12\n",
      "Paranal/SPHERE.IRDIS_D_H23_2 (mag) = 11.78 +/- 0.19\n",
      "Paranal/SPHERE.IRDIS_D_H23_3 (mag) = 11.65 +/- 0.19\n",
      "Paranal/SPHERE.IRDIS_D_K12_1 (mag) = 11.56 +/- 0.09\n",
      "Paranal/SPHERE.IRDIS_D_K12_2 (mag) = 11.29 +/- 0.1\n",
      "Paranal/NACO.J (mag) = 12.47 +/- 0.2\n",
      "Paranal/NACO.H (mag) = 11.93 +/- 0.14\n",
      "Paranal/NACO.Ks (mag) = 11.53 +/- 0.07\n",
      "Paranal/NACO.Lp (mag) = 11.04 +/- 0.22\n",
      "Paranal/NACO.NB405 (mag) = 10.94 +/- 0.07\n",
      "Paranal/NACO.Mp (mag) = 10.93 +/- 0.03\n",
      "Gemini/NICI.ED286 (mag) = 11.68 +/- 0.14\n",
      "Gemini/NIRI.H2S1v2-1-G0220 (mag) = 11.39 +/- 0.14\n",
      "\n",
      "Object name = kappa And b\n",
      "Distance (pc) = 50.06 +/- 0.87\n",
      "Subaru/CIAO.J (mag) = 15.86 +/- 0.21\n",
      "Subaru/CIAO.H (mag) = 14.95 +/- 0.13\n",
      "Subaru/CIAO.Ks (mag) = 14.32 +/- 0.09\n",
      "Keck/NIRC2.Lp (mag) = 13.12 +/- 0.1\n",
      "LBT/LMIRCam.M_77K (mag) = 13.3 +/- 0.3\n",
      "\n",
      "Object name = HD 1160 B\n",
      "Distance (pc) = 125.9 +/- 1.2\n",
      "MKO/NSFCam.J (mag) = 14.69 +/- 0.05\n",
      "MKO/NSFCam.H (mag) = 14.21 +/- 0.02\n",
      "MKO/NSFCam.Ks (mag) = 14.12 +/- 0.05\n",
      "Paranal/NACO.Lp (mag) = 13.6 +/- 0.1\n",
      "Keck/NIRC2.Ms (mag) = 13.81 +/- 0.24\n",
      "\n",
      "Object name = ROXs 42 Bb\n",
      "Distance (pc) = 144.16 +/- 1.53\n",
      "Keck/NIRC2.J (mag) = 16.91 +/- 0.11\n",
      "Keck/NIRC2.H (mag) = 15.88 +/- 0.05\n",
      "Keck/NIRC2.Ks (mag) = 15.01 +/- 0.06\n",
      "Keck/NIRC2.Lp (mag) = 13.97 +/- 0.06\n",
      "Keck/NIRC2.Ms (mag) = 14.01 +/- 0.23\n",
      "\n",
      "Object name = GJ 504 b\n",
      "Distance (pc) = 17.54 +/- 0.08\n",
      "Paranal/SPHERE.IRDIS_D_Y23_2 (mag) = 20.98 +/- 0.2\n",
      "Paranal/SPHERE.IRDIS_D_Y23_3 (mag) = 20.14 +/- 0.09\n",
      "Paranal/SPHERE.IRDIS_D_J23_3 (mag) = 19.01 +/- 0.17\n",
      "Paranal/SPHERE.IRDIS_D_H23_2 (mag) = 18.95 +/- 0.3\n",
      "Paranal/SPHERE.IRDIS_D_H23_3 (mag) = 21.81 +/- 0.35\n",
      "Paranal/SPHERE.IRDIS_D_K12_1 (mag) = 18.77 +/- 0.2\n",
      "Subaru/CIAO.J (mag) = 19.78 +/- 0.1\n",
      "Subaru/CIAO.H (mag) = 20.01 +/- 0.14\n",
      "Subaru/CIAO.Ks (mag) = 19.38 +/- 0.11\n",
      "Subaru/CIAO.CH4s (mag) = 19.58 +/- 0.13\n",
      "Subaru/IRCS.Lp (mag) = 16.7 +/- 0.17\n",
      "\n",
      "Object name = GU Psc b\n",
      "Distance (pc) = 47.61 +/- 0.16\n",
      "Gemini/GMOS-S.z (mag) = 21.75 +/- 0.07\n",
      "CFHT/Wircam.Y (mag) = 19.4 +/- 0.05\n",
      "CFHT/Wircam.J (mag) = 18.12 +/- 0.03\n",
      "CFHT/Wircam.H (mag) = 17.7 +/- 0.03\n",
      "CFHT/Wircam.Ks (mag) = 17.4 +/- 0.03\n",
      "WISE/WISE.W1 (mag) = 17.17 +/- 0.33\n",
      "WISE/WISE.W2 (mag) = 15.41 +/- 0.22\n",
      "\n",
      "Object name = 2M0103 ABb\n",
      "Distance (pc) = 47.2 +/- 3.1\n",
      "Paranal/NACO.J (mag) = 15.47 +/- 0.3\n",
      "Paranal/NACO.H (mag) = 14.27 +/- 0.2\n",
      "Paranal/NACO.Ks (mag) = 13.67 +/- 0.2\n",
      "Paranal/NACO.Lp (mag) = 12.67 +/- 0.1\n",
      "\n",
      "Object name = 1RXS 1609 B\n",
      "Distance (pc) = 139.67 +/- 1.33\n",
      "Gemini/NIRI.J-G0202w (mag) = 17.9 +/- 0.12\n",
      "Gemini/NIRI.H-G0203w (mag) = 16.87 +/- 0.07\n",
      "Gemini/NIRI.K-G0204w (mag) = 16.17 +/- 0.18\n",
      "Gemini/NIRI.Lprime-G0207w (mag) = 14.8 +/- 0.3\n",
      "\n",
      "Object name = GSC 06214 B\n",
      "Distance (pc) = 108.84 +/- 0.51\n",
      "MKO/NSFCam.J (mag) = 16.24 +/- 0.04\n",
      "MKO/NSFCam.H (mag) = 15.55 +/- 0.04\n",
      "MKO/NSFCam.Kp (mag) = 14.95 +/- 0.05\n",
      "MKO/NSFCam.Lp (mag) = 13.75 +/- 0.07\n",
      "LBT/LMIRCam.M_77K (mag) = 13.75 +/- 0.3\n",
      "\n",
      "Object name = HD 72946 B\n",
      "Distance (pc) = 25.87 +/- 0.03\n",
      "Paranal/SPHERE.IRDIS_D_H23_2 (mag) = 14.56 +/- 0.07\n",
      "Paranal/SPHERE.IRDIS_D_H23_3 (mag) = 14.4 +/- 0.07\n",
      "\n",
      "Object name = HIP 64892 B\n",
      "Distance (pc) = 125.2 +/- 1.42\n",
      "Paranal/SPHERE.IRDIS_D_H23_2 (mag) = 14.21 +/- 0.17\n",
      "Paranal/SPHERE.IRDIS_D_H23_3 (mag) = 13.94 +/- 0.17\n",
      "Paranal/SPHERE.IRDIS_D_K12_1 (mag) = 13.77 +/- 0.17\n",
      "Paranal/SPHERE.IRDIS_D_K12_2 (mag) = 13.45 +/- 0.19\n",
      "Paranal/NACO.Lp (mag) = 13.09 +/- 0.17\n",
      "\n"
     ]
    }
   ],
   "source": [
    "database.list_companions()"
   ]
  },
  {
   "cell_type": "markdown",
   "metadata": {},
   "source": [
    "We select a few of these directly imaged planets and brown dwarfs for which SPHERE H2 and H3 photometry are available in the database. For each companion, a tuple needs to be provided with the name (as used in the database), the filter names for the color, and the filter name for the magnitude."
   ]
  },
  {
   "cell_type": "code",
   "execution_count": 19,
   "metadata": {},
   "outputs": [],
   "source": [
    "objects = [('HIP 65426 b', 'Paranal/SPHERE.IRDIS_D_H23_2', 'Paranal/SPHERE.IRDIS_D_H23_3', 'Paranal/SPHERE.IRDIS_D_H23_2'),\n",
    "           ('HR 8799 b', 'Paranal/SPHERE.IRDIS_D_H23_2', 'Paranal/SPHERE.IRDIS_D_H23_3', 'Paranal/SPHERE.IRDIS_D_H23_2'),\n",
    "           ('HR 8799 d', 'Paranal/SPHERE.IRDIS_D_H23_2', 'Paranal/SPHERE.IRDIS_D_H23_3', 'Paranal/SPHERE.IRDIS_D_H23_2'),\n",
    "           ('PZ Tel B', 'Paranal/SPHERE.IRDIS_D_H23_2', 'Paranal/SPHERE.IRDIS_D_H23_3', 'Paranal/SPHERE.IRDIS_D_H23_2')]"
   ]
  },
  {
   "cell_type": "markdown",
   "metadata": {},
   "source": [
    "## Plotting a color-magnitude diagram"
   ]
  },
  {
   "cell_type": "markdown",
   "metadata": {},
   "source": [
    "Finally, we will create the color-magnitude diagram by providing the `ColorMagBox` objects as list to the `boxes` parameter of `plot_color_magnitude`. Further details on the various parameters of this function can be found in the [API documentation](https://species.readthedocs.io/en/latest/species.plot.html?highlight=plot_color_mag#species.plot.plot_color.plot_color_magnitude)."
   ]
  },
  {
   "cell_type": "code",
   "execution_count": 20,
   "metadata": {},
   "outputs": [
    {
     "name": "stdout",
     "output_type": "stream",
     "text": [
      "Plotting color-magnitude diagram: color_mag.png... [DONE]\n"
     ]
    }
   ],
   "source": [
    "species.plot_color_magnitude(boxes=[colorbox, modelcolor1, modelcolor2],\n",
    "                             objects=objects,\n",
    "                             mass_labels=[(3., 'left'), (5., 'left'), (10., 'left'), (20., 'right'), (50., 'right'), (100., 'right')],\n",
    "                             companion_labels=True,\n",
    "                             field_range=('late M', 'late T'),\n",
    "                             label_x='H2 $-$ H3',\n",
    "                             label_y='M$_\\mathregular{H2}$',\n",
    "                             xlim=(-2.7, 1.8),\n",
    "                             ylim=(17.3, 7),\n",
    "                             offset=(-0.07, -0.1),\n",
    "                             legend=(0.08, 0.8),\n",
    "                             output='color_mag.png')"
   ]
  },
  {
   "cell_type": "markdown",
   "metadata": {},
   "source": [
    "Let's have a look at the plot! As expected, the colors become bluer towards lower masses/temperatures due to CH<sub>4</sub> absorption in the H3 filter."
   ]
  },
  {
   "cell_type": "code",
   "execution_count": 21,
   "metadata": {},
   "outputs": [
    {
     "data": {
      "image/png": "[encoded data removed]",
      "text/plain": [
       "<IPython.core.display.Image object>"
      ]
     },
     "execution_count": 21,
     "metadata": {},
     "output_type": "execute_result"
    }
   ],
   "source": [
    "from IPython.display import Image\n",
    "Image('color_mag.png') "
   ]
  }
 ],
 "metadata": {
  "kernelspec": {
   "display_name": "Python 3",
   "language": "python",
   "name": "python3"
  },
  "language_info": {
   "codemirror_mode": {
    "name": "ipython",
    "version": 3
   },
   "file_extension": ".py",
   "mimetype": "text/x-python",
   "name": "python",
   "nbconvert_exporter": "python",
   "pygments_lexer": "ipython3",
   "version": "3.6.10"
  }
 },
 "nbformat": 4,
 "nbformat_minor": 2
}
