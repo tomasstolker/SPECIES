{
 "cells": [
  {
   "cell_type": "markdown",
   "metadata": {},
   "source": [
    "# Color-magnitude diagram: narrowband filters"
   ]
  },
  {
   "cell_type": "markdown",
   "metadata": {},
   "source": [
    "In this tutorial, we will compute synthetic photometry for the narrowband H2 and H3 filters of VLT/SPHERE. We will use empirical data from the [SpeX Prism Spectral Library](http://pono.ucsd.edu/~adam/browndwarfs/spexprism/index_old.html) and theoretical isochrones and spectra from the AMES-Cond and AMES-Dusty models. The synthetic colors and magnitudes are compared with the photometric data of directly imaged companions in a color-magnitude diagram."
   ]
  },
  {
   "cell_type": "markdown",
   "metadata": {},
   "source": [
    "## Getting started"
   ]
  },
  {
   "cell_type": "markdown",
   "metadata": {},
   "source": [
    "We start by importing the required Python modules."
   ]
  },
  {
   "cell_type": "code",
   "execution_count": 1,
   "metadata": {},
   "outputs": [],
   "source": [
    "import numpy as np\n",
    "from species import SpeciesInit\n",
    "from species.data.database import Database\n",
    "from species.read.read_color import ReadColorMagnitude\n",
    "from species.read.read_isochrone import ReadIsochrone\n",
    "from species.plot.plot_spectrum import plot_spectrum"
   ]
  },
  {
   "cell_type": "markdown",
   "metadata": {},
   "source": [
    "Next, we initiate the *species* workflow with `SpeciesInit`. This will create the configuration file with default values and the HDF5 database."
   ]
  },
  {
   "cell_type": "code",
   "execution_count": 2,
   "metadata": {},
   "outputs": [
    {
     "name": "stdout",
     "output_type": "stream",
     "text": [
      "==============\n",
      "species v0.7.4\n",
      "==============\n",
      "\n",
      "Working folder: /Users/tomasstolker/applications/species/docs/tutorials\n",
      "Creating species_config.ini... [DONE]\n",
      "Configuration settings:\n",
      "   - Database: /Users/tomasstolker/applications/species/docs/tutorials/species_database.hdf5\n",
      "   - Data folder: /Users/tomasstolker/applications/species/docs/tutorials/data\n",
      "   - Interpolation method: linear\n",
      "   - Magnitude of Vega: 0.03\n",
      "Creating species_database.hdf5... [DONE]\n",
      "Creating data folder... [DONE]\n"
     ]
    },
    {
     "data": {
      "text/plain": [
       "<species.core.species_init.SpeciesInit at 0x1577f4a10>"
      ]
     },
     "execution_count": 2,
     "metadata": {},
     "output_type": "execute_result"
    }
   ],
   "source": [
    "SpeciesInit()"
   ]
  },
  {
   "cell_type": "markdown",
   "metadata": {},
   "source": [
    "Later on, we will interpolate the isochrone data at an age of 20 Myr for 100 logarithmically-spaced masses between 1 M<sub>Jup</sub> and 1000 M<sub>Jup</sub>."
   ]
  },
  {
   "cell_type": "code",
   "execution_count": 3,
   "metadata": {},
   "outputs": [],
   "source": [
    "age = 20.  # (Myr)\n",
    "masses = np.logspace(0., 3., 100)  # (Mjup)"
   ]
  },
  {
   "cell_type": "markdown",
   "metadata": {},
   "source": [
    "## Adding data and models"
   ]
  },
  {
   "cell_type": "markdown",
   "metadata": {},
   "source": [
    "We will now add the required data to the database by first creating an instance of `Database`."
   ]
  },
  {
   "cell_type": "code",
   "execution_count": 4,
   "metadata": {},
   "outputs": [],
   "source": [
    "database = Database()"
   ]
  },
  {
   "cell_type": "markdown",
   "metadata": {},
   "source": [
    "The [photometric data of directly imaged companions](https://github.com/tomasstolker/species/blob/master/species/data/companion_data/companion_data.json) that are available in *species* is added by using the `add_companion` method with `name=None`. Alternative, `add_object` can be used to manually add photometric and spectroscopic data of an individual object."
   ]
  },
  {
   "cell_type": "code",
   "execution_count": 5,
   "metadata": {},
   "outputs": [
    {
     "name": "stderr",
     "output_type": "stream",
     "text": [
      "Downloading data from 'https://archive.stsci.edu/hlsps/reference-atlases/cdbs/current_calspec/alpha_lyr_stis_011.fits' to file '/Users/tomasstolker/applications/species/docs/tutorials/data/alpha_lyr_stis_011.fits'.\n",
      "100%|████████████████████████████████████████| 288k/288k [00:00<00:00, 192MB/s]"
     ]
    },
    {
     "name": "stdout",
     "output_type": "stream",
     "text": [
      "Adding Vega spectrum... [DONE]\n",
      "Reference: Bohlin et al. 2014, PASP, 126\n",
      "URL: https://ui.adsabs.harvard.edu/abs/2014PASP..126..711B/abstract\n",
      "Adding object: beta Pic b"
     ]
    },
    {
     "name": "stderr",
     "output_type": "stream",
     "text": [
      "\n",
      "/Users/tomasstolker/applications/species/species/data/database.py:1296: UserWarning: Found 33 fluxes with NaN in the data of GPI_YJHK. Removing the spectral fluxes that contain a NaN.\n",
      "  warnings.warn(\n"
     ]
    },
    {
     "name": "stdout",
     "output_type": "stream",
     "text": [
      " [DONE]\n",
      "Adding object: beta Pic c [DONE]\n",
      "Adding object: HIP 65426 b [DONE]\n",
      "Adding object: 51 Eri b [DONE]\n"
     ]
    },
    {
     "name": "stderr",
     "output_type": "stream",
     "text": [
      "/Users/tomasstolker/applications/species/species/data/filter_data/filter_data.py:227: UserWarning: The minimum transmission value of Subaru/CIAO.z is smaller than zero (-1.80e-03). Wavelengths with negative transmission values will be removed.\n",
      "  warnings.warn(\n"
     ]
    },
    {
     "name": "stdout",
     "output_type": "stream",
     "text": [
      "Adding object: HR 8799 b [DONE]\n",
      "Adding object: HR 8799 c [DONE]\n",
      "Adding object: HR 8799 d [DONE]\n",
      "Adding object: HR 8799 e [DONE]\n",
      "Adding object: HD 95086 b [DONE]\n",
      "Adding object: PDS 70 b [DONE]\n",
      "Adding object: PDS 70 c [DONE]\n",
      "Adding object: 2M 1207 B [DONE]\n",
      "Adding object: AB Pic B [DONE]\n",
      "Adding object: HD 206893 B [DONE]\n",
      "Adding object: RZ Psc B [DONE]\n",
      "Adding object: GQ Lup B [DONE]\n",
      "Adding object: PZ Tel B [DONE]\n",
      "Adding object: kappa And b [DONE]\n",
      "Adding object: HD 1160 B [DONE]\n",
      "Adding object: ROXs 12 B [DONE]\n",
      "Adding object: ROXs 42 Bb [DONE]\n",
      "Adding object: GJ 504 b [DONE]\n",
      "Adding object: GJ 758 B [DONE]\n",
      "Adding object: GU Psc b [DONE]\n",
      "Adding object: 2M0103 ABb [DONE]\n",
      "Adding object: 1RXS 1609 B [DONE]\n",
      "Adding object: GSC 06214 B [DONE]\n",
      "Adding object: HD 72946 B [DONE]\n",
      "Adding object: HIP 64892 B [DONE]\n",
      "Adding object: HD 13724 B [DONE]\n",
      "Adding object: YSES 1 b [DONE]\n",
      "Adding object: YSES 1 c [DONE]\n",
      "Adding object: YSES 2 b [DONE]\n",
      "Adding object: HD 142527 B [DONE]\n",
      "Adding object: CS Cha B [DONE]\n",
      "Adding object: CT Cha B [DONE]\n",
      "Adding object: SR 12 C [DONE]\n",
      "Adding object: DH Tau B [DONE]\n",
      "Adding object: HD 4747 B [DONE]\n",
      "Adding object: HR 3549 B [DONE]\n",
      "Adding object: CHXR 73 B [DONE]\n",
      "Adding object: HD 19467 B [DONE]\n",
      "Adding object: b Cen (AB)b [DONE]\n",
      "Adding object: VHS 1256 B [DONE]\n"
     ]
    }
   ],
   "source": [
    "database.add_companion(name=None, verbose=False)"
   ]
  },
  {
   "cell_type": "markdown",
   "metadata": {},
   "source": [
    "The spectra from the SpeX Prism Spectral Library are also downloaded and added to the database. For each spectrum, the [SIMBAD Astronomical Database](http://simbad.u-strasbg.fr/simbad/) is queried for the SIMBAD identifier. The identifier is then used to extract the [distance](https://home.strw.leidenuniv.nl/~stolker/species/distance.dat) of the object (calculated from the parallax). A NaN value is stored for the distance if the object could not be identified in the SIMBAD database so these objects are not used in the color-magnitude diagram."
   ]
  },
  {
   "cell_type": "code",
   "execution_count": 6,
   "metadata": {},
   "outputs": [
    {
     "name": "stdout",
     "output_type": "stream",
     "text": [
      "Downloading SpeX Prism Spectral Library... [DONE]                      \n"
     ]
    },
    {
     "name": "stderr",
     "output_type": "stream",
     "text": [
      "/Users/tomasstolker/applications/species/species/phot/syn_phot.py:88: UserWarning: Please note that a manually provided zero-point flux is by default equalized to a magnitude of 0.03 for all filters. The magnitude of Vega can be adjusted in the configuration file (see https://species.readthedocs.io/en/latest/configuration.html) by setting the 'vega_mag' parameter. Currently the parameter is set to 0.03.\n",
      "  warnings.warn(\n"
     ]
    },
    {
     "name": "stdout",
     "output_type": "stream",
     "text": [
      "Adding spectra... 2MASS J18411320-4000124        "
     ]
    },
    {
     "name": "stderr",
     "output_type": "stream",
     "text": [
      "/Users/tomasstolker/.pyenv/versions/3.11.5/envs/species3.11/lib/python3.11/site-packages/astroquery/simbad/core.py:135: UserWarning: Warning: The script line number 3 raised an error (recorded in the `errors` attribute of the result table): Identifier not found in the database : 2MASS J21225635+3656002\n",
      "  warnings.warn(\"Warning: The script line number %i raised \"\n"
     ]
    },
    {
     "name": "stdout",
     "output_type": "stream",
     "text": [
      "Adding spectra... 2MASSW J1239272+551537   "
     ]
    },
    {
     "name": "stderr",
     "output_type": "stream",
     "text": [
      "/Users/tomasstolker/.pyenv/versions/3.11.5/envs/species3.11/lib/python3.11/site-packages/astroquery/simbad/core.py:135: UserWarning: Warning: The script line number 3 raised an error (recorded in the `errors` attribute of the result table): Identifier not found in the database : 2MASS J14044941-3159329\n",
      "  warnings.warn(\"Warning: The script line number %i raised \"\n"
     ]
    },
    {
     "name": "stdout",
     "output_type": "stream",
     "text": [
      "Adding spectra... SDSS J213240.36+102949.4"
     ]
    },
    {
     "name": "stderr",
     "output_type": "stream",
     "text": [
      "/Users/tomasstolker/.pyenv/versions/3.11.5/envs/species3.11/lib/python3.11/site-packages/astroquery/simbad/core.py:135: UserWarning: Warning: The script line number 3 raised an error (recorded in the `errors` attribute of the result table): Identifier not found in the database : 2MASS J05103520-4208140\n",
      "  warnings.warn(\"Warning: The script line number %i raised \"\n"
     ]
    },
    {
     "name": "stdout",
     "output_type": "stream",
     "text": [
      "Adding spectra... 2MASS J03382862+0001296     "
     ]
    },
    {
     "name": "stderr",
     "output_type": "stream",
     "text": [
      "/Users/tomasstolker/.pyenv/versions/3.11.5/envs/species3.11/lib/python3.11/site-packages/astroquery/simbad/core.py:135: UserWarning: Warning: The script line number 3 raised an error (recorded in the `errors` attribute of the result table): Identifier not found in the database : 2MASS J14162394+1348363\n",
      "  warnings.warn(\"Warning: The script line number %i raised \"\n"
     ]
    },
    {
     "name": "stdout",
     "output_type": "stream",
     "text": [
      "Adding spectra... [DONE]                   \n"
     ]
    }
   ],
   "source": [
    "database.add_spectra('spex')"
   ]
  },
  {
   "cell_type": "markdown",
   "metadata": {},
   "source": [
    "The AMES-Cond model spectra (i.e. for cloudless atmospheres) are also downloaded and imported into the database."
   ]
  },
  {
   "cell_type": "code",
   "execution_count": 7,
   "metadata": {},
   "outputs": [
    {
     "name": "stderr",
     "output_type": "stream",
     "text": [
      "Downloading data from 'https://home.strw.leidenuniv.nl/~stolker/species/ames-cond.tgz' to file '/Users/tomasstolker/applications/species/docs/tutorials/data/ames-cond.tgz'.\n",
      "100%|███████████████████████████████████████| 156M/156M [00:00<00:00, 53.8GB/s]\n",
      "SHA256 hash of downloaded file: 325f3ea3ed13c51e08daacbd08811fde04762c29994bfbcc17f42223bf3432ea\n",
      "Use this value as the 'known_hash' argument of 'pooch.retrieve' to ensure that the file hasn't changed if it is downloaded again in the future.\n"
     ]
    },
    {
     "name": "stdout",
     "output_type": "stream",
     "text": [
      "Unpacking 439/439 model spectra from AMES-Cond (150 MB)... [DONE]\n",
      "Wavelength range (um) = 0.5 - 40\n",
      "Spectral resolution = 4000\n",
      "Teff range (K) = 100 - 6600\n",
      "Adding AMES-Cond model spectra... [DONE]                               \n",
      "Grid points stored in the database:\n",
      "   - Teff = [ 100.  200.  300.  400.  500.  600.  700.  800.  900. 1000. 1100. 1200.\n",
      " 1300. 1400. 1500. 1600. 1700. 1800. 1900. 2000. 2100. 2200. 2300. 2400.\n",
      " 2500. 2600. 2700. 2800. 2900. 3000. 3100. 3200. 3300. 3400. 3500. 3600.\n",
      " 3700. 3800. 3900. 4000. 4100. 4200. 4300. 4400. 4500. 4600. 4700. 4800.\n",
      " 5000. 5100. 5200. 5300. 5400. 5500. 5600. 5700. 5800. 5900. 6000. 6100.\n",
      " 6200. 6300. 6400. 6500. 6600.]\n",
      "   - log(g) = [2.5 3.  3.5 4.  4.5 5.  5.5]\n",
      "Number of grid points per parameter:\n",
      "   - teff: 65\n",
      "   - logg: 7\n",
      "Fix missing grid points with a linear interpolation:\n",
      "   - teff = 200.0, logg = 5.5\n",
      "   - teff = 900.0, logg = 2.5\n",
      "   - teff = 4700.0, logg = 4.5\n",
      "   - teff = 4700.0, logg = 5.0\n",
      "   - teff = 4700.0, logg = 5.5\n",
      "   - teff = 4800.0, logg = 2.5\n",
      "   - teff = 4800.0, logg = 3.0\n",
      "   - teff = 4800.0, logg = 4.5\n",
      "   - teff = 6100.0, logg = 2.5\n",
      "   - teff = 6100.0, logg = 3.0\n",
      "   - teff = 6100.0, logg = 3.5\n",
      "   - teff = 6100.0, logg = 4.0\n",
      "   - teff = 6100.0, logg = 4.5\n",
      "   - teff = 6100.0, logg = 5.5\n",
      "   - teff = 6200.0, logg = 3.5\n",
      "   - teff = 6200.0, logg = 4.0\n",
      "Number of stored grid points: 455\n",
      "Number of interpolated grid points: 16\n",
      "Number of missing grid points: 0\n"
     ]
    },
    {
     "name": "stderr",
     "output_type": "stream",
     "text": [
      "/Users/tomasstolker/applications/species/species/util/data_util.py:389: RuntimeWarning: divide by zero encountered in log10\n",
      "  flux = np.log10(flux)\n"
     ]
    }
   ],
   "source": [
    "database.add_model('ames-cond')"
   ]
  },
  {
   "cell_type": "markdown",
   "metadata": {},
   "source": [
    "And also the AMES-Dusty model spectra (i.e. for dusty atmospheres) are downloaded and imported into the database."
   ]
  },
  {
   "cell_type": "code",
   "execution_count": 8,
   "metadata": {},
   "outputs": [
    {
     "name": "stderr",
     "output_type": "stream",
     "text": [
      "Downloading data from 'https://home.strw.leidenuniv.nl/~stolker/species/ames-dusty.tgz' to file '/Users/tomasstolker/applications/species/docs/tutorials/data/ames-dusty.tgz'.\n",
      "100%|█████████████████████████████████████| 60.4M/60.4M [00:00<00:00, 34.1GB/s]\n",
      "SHA256 hash of downloaded file: c389dd52b35bcba2d9850921c97eee043c2ff0654cc24efc47baa2345c05254e\n",
      "Use this value as the 'known_hash' argument of 'pooch.retrieve' to ensure that the file hasn't changed if it is downloaded again in the future.\n"
     ]
    },
    {
     "name": "stdout",
     "output_type": "stream",
     "text": [
      "Unpacking 195/195 model spectra from AMES-Dusty (58 MB)... [DONE]\n",
      "Wavelength range (um) = 0.5 - 40\n",
      "Spectral resolution = 4000\n",
      "Teff range (K) = 500 - 4000\n",
      "Adding AMES-Dusty model spectra... [DONE]                                \n",
      "Grid points stored in the database:\n",
      "   - Teff = [ 500.  600.  700.  800.  900. 1000. 1100. 1200. 1300. 1400. 1500. 1600.\n",
      " 1700. 1800. 1900. 2000. 2100. 2200. 2300. 2400. 2500. 2600. 2700. 2800.\n",
      " 2900. 3000. 3100. 3200. 3300. 3400. 3500. 3600. 3700. 3800. 3900. 4000.]\n",
      "   - log(g) = [3.5 4.  4.5 5.  5.5 6. ]\n",
      "Number of grid points per parameter:\n",
      "   - teff: 36\n",
      "   - logg: 6\n",
      "Fix missing grid points with a linear interpolation:\n",
      "   - teff = 900.0, logg = 6.0\n",
      "   - teff = 1200.0, logg = 5.5\n",
      "   - teff = 2100.0, logg = 3.5\n",
      "   - teff = 2100.0, logg = 4.5\n",
      "   - teff = 2200.0, logg = 3.5\n",
      "   - teff = 2400.0, logg = 5.0\n",
      "   - teff = 3100.0, logg = 3.5\n",
      "   - teff = 3200.0, logg = 3.5\n",
      "   - teff = 3300.0, logg = 3.5\n",
      "   - teff = 3400.0, logg = 3.5\n",
      "   - teff = 3500.0, logg = 3.5\n",
      "   - teff = 3600.0, logg = 3.5\n",
      "   - teff = 3700.0, logg = 3.5\n",
      "   - teff = 3800.0, logg = 3.5\n",
      "   - teff = 3900.0, logg = 3.5\n",
      "   - teff = 3900.0, logg = 6.0\n",
      "   - teff = 4000.0, logg = 3.5\n",
      "   - teff = 4000.0, logg = 4.0\n",
      "   - teff = 4000.0, logg = 4.5\n",
      "   - teff = 4000.0, logg = 5.5\n",
      "   - teff = 4000.0, logg = 6.0\n",
      "Could not interpolate 15 grid points so storing zeros instead. [WARNING]\n",
      "The grid points that are missing:\n",
      "   - teff = 3100.0, logg = 3.5\n",
      "   - teff = 3200.0, logg = 3.5\n",
      "   - teff = 3300.0, logg = 3.5\n",
      "   - teff = 3400.0, logg = 3.5\n",
      "   - teff = 3500.0, logg = 3.5\n",
      "   - teff = 3600.0, logg = 3.5\n",
      "   - teff = 3700.0, logg = 3.5\n",
      "   - teff = 3800.0, logg = 3.5\n",
      "   - teff = 3900.0, logg = 3.5\n",
      "   - teff = 3900.0, logg = 6.0\n",
      "   - teff = 4000.0, logg = 3.5\n",
      "   - teff = 4000.0, logg = 4.0\n",
      "   - teff = 4000.0, logg = 4.5\n",
      "   - teff = 4000.0, logg = 5.5\n",
      "   - teff = 4000.0, logg = 6.0\n",
      "Number of stored grid points: 216\n",
      "Number of interpolated grid points: 6\n",
      "Number of missing grid points: 15\n"
     ]
    }
   ],
   "source": [
    "database.add_model('ames-dusty')"
   ]
  },
  {
   "cell_type": "markdown",
   "metadata": {},
   "source": [
    "Next, we add the isochrones from AMES-Cond and AMES-Dusty, which have been retrieved from https://phoenix.ens-lyon.fr/Grids/."
   ]
  },
  {
   "cell_type": "code",
   "execution_count": 9,
   "metadata": {},
   "outputs": [
    {
     "name": "stdout",
     "output_type": "stream",
     "text": [
      "Downloading AMES-Cond isochrones (235 kB)... [DONE]\n",
      "Adding isochrones: ames-cond... [DONE]\n",
      "Database tag: ames-cond\n",
      "Downloading AMES-Dusty isochrones (182 kB)... [DONE]\n",
      "Adding isochrones: ames-dusty... [DONE]\n",
      "Database tag: ames-dusty\n"
     ]
    }
   ],
   "source": [
    "database.add_isochrones('ames')"
   ]
  },
  {
   "cell_type": "markdown",
   "metadata": {},
   "source": [
    "## Synthetic colors and magnitudes"
   ]
  },
  {
   "cell_type": "markdown",
   "metadata": {},
   "source": [
    "For the narrowband filters of SPHERE, the synthetic colors and magnitudes are computed from the SpeX spectra. We start by creating an instance of `ReadColorMagnitude`."
   ]
  },
  {
   "cell_type": "code",
   "execution_count": 10,
   "metadata": {},
   "outputs": [],
   "source": [
    "read_color = ReadColorMagnitude(library='spex',\n",
    "                                filters_color=('Paranal/SPHERE.IRDIS_D_H23_2', 'Paranal/SPHERE.IRDIS_D_H23_3'),\n",
    "                                filter_mag='Paranal/SPHERE.IRDIS_D_H23_2')"
   ]
  },
  {
   "cell_type": "markdown",
   "metadata": {},
   "source": [
    "All spectra are used and the colors and magnitudes are stored in a `ColorMagObject`."
   ]
  },
  {
   "cell_type": "code",
   "execution_count": 11,
   "metadata": {},
   "outputs": [
    {
     "name": "stderr",
     "output_type": "stream",
     "text": [
      "/Users/tomasstolker/applications/species/species/phot/syn_phot.py:341: UserWarning: Spectum contains NaN so can not calculate the error.\n",
      "  warnings.warn(\"Spectum contains NaN so can not calculate the error.\")\n",
      "/Users/tomasstolker/applications/species/species/phot/syn_phot.py:463: UserWarning: Spectum contains NaN so can not calculate the error.\n",
      "  warnings.warn(\"Spectum contains NaN so can not calculate the error.\")\n"
     ]
    }
   ],
   "source": [
    "colorbox = read_color.get_color_magnitude(object_type=None)"
   ]
  },
  {
   "cell_type": "markdown",
   "metadata": {},
   "source": [
    "Next, the isochrone data is extracted by first creating and instance of `ReadIsochrone`."
   ]
  },
  {
   "cell_type": "code",
   "execution_count": 12,
   "metadata": {},
   "outputs": [],
   "source": [
    "read_iso_cond = ReadIsochrone(tag='ames-cond')\n",
    "read_iso_dusty = ReadIsochrone(tag='ames-dusty')"
   ]
  },
  {
   "cell_type": "markdown",
   "metadata": {},
   "source": [
    "To interpolate the isochrones and compute synthetic photometry, we use the `get_color_magnitude` method and give the grid of model spectra (i.e. that was stored with `add_model`) as argument of `model`. The method will return a `ColorMagBox` object."
   ]
  },
  {
   "cell_type": "code",
   "execution_count": 13,
   "metadata": {},
   "outputs": [],
   "source": [
    "modelcolor1 = read_iso_cond.get_color_magnitude(age=age,\n",
    "                                                masses=masses,\n",
    "                                                filters_color=('Paranal/SPHERE.IRDIS_D_H23_2', 'Paranal/SPHERE.IRDIS_D_H23_3'),\n",
    "                                                filter_mag='Paranal/SPHERE.IRDIS_D_H23_2')"
   ]
  },
  {
   "cell_type": "code",
   "execution_count": 14,
   "metadata": {},
   "outputs": [
    {
     "name": "stderr",
     "output_type": "stream",
     "text": [
      "/Users/tomasstolker/applications/species/species/read/read_isochrone.py:1005: UserWarning: The value of logg is 2.9180307893338338, which is below the lower bound of the model grid (3.5). Setting the magnitudes to NaN for the following isochrone sample: {'teff': 501.3730414241427, 'logg': 2.9180307893338338, 'radius': 1.4638670830301985, 'distance': 10.0}.\n",
      "  warnings.warn(\n",
      "/Users/tomasstolker/applications/species/species/read/read_isochrone.py:1005: UserWarning: The value of logg is 2.9730768802029495, which is below the lower bound of the model grid (3.5). Setting the magnitudes to NaN for the following isochrone sample: {'teff': 502.5270292688421, 'logg': 2.9730768802029495, 'radius': 1.441670727659954, 'distance': 10.0}.\n",
      "  warnings.warn(\n",
      "/Users/tomasstolker/applications/species/species/read/read_isochrone.py:1005: UserWarning: The value of logg is 3.0355631548565696, which is below the lower bound of the model grid (3.5). Setting the magnitudes to NaN for the following isochrone sample: {'teff': 504.9233097703563, 'logg': 3.0355631548565696, 'radius': 1.4150903616033272, 'distance': 10.0}.\n",
      "  warnings.warn(\n",
      "/Users/tomasstolker/applications/species/species/read/read_isochrone.py:1005: UserWarning: The value of logg is 3.1025651389931803, which is below the lower bound of the model grid (3.5). Setting the magnitudes to NaN for the following isochrone sample: {'teff': 507.4927628068724, 'logg': 3.1025651389931803, 'radius': 1.3865891063317703, 'distance': 10.0}.\n",
      "  warnings.warn(\n",
      "/Users/tomasstolker/applications/species/species/read/read_isochrone.py:1005: UserWarning: The value of logg is 3.207337823869265, which is below the lower bound of the model grid (3.5). Setting the magnitudes to NaN for the following isochrone sample: {'teff': 520.0556848108937, 'logg': 3.207337823869265, 'radius': 1.328194511799377, 'distance': 10.0}.\n",
      "  warnings.warn(\n",
      "/Users/tomasstolker/applications/species/species/read/read_isochrone.py:1005: UserWarning: The value of logg is 3.3065271787010397, which is below the lower bound of the model grid (3.5). Setting the magnitudes to NaN for the following isochrone sample: {'teff': 534.0174915985033, 'logg': 3.3065271787010397, 'radius': 1.274758290992437, 'distance': 10.0}.\n",
      "  warnings.warn(\n",
      "/Users/tomasstolker/applications/species/species/read/read_isochrone.py:1005: UserWarning: The value of logg is 3.3387964574578715, which is below the lower bound of the model grid (3.5). Setting the magnitudes to NaN for the following isochrone sample: {'teff': 543.9916323051601, 'logg': 3.3387964574578715, 'radius': 1.2725698348137873, 'distance': 10.0}.\n",
      "  warnings.warn(\n",
      "/Users/tomasstolker/applications/species/species/read/read_isochrone.py:1005: UserWarning: The value of logg is 3.372282732356024, which is below the lower bound of the model grid (3.5). Setting the magnitudes to NaN for the following isochrone sample: {'teff': 556.2475974396231, 'logg': 3.372282732356024, 'radius': 1.2706911157956755, 'distance': 10.0}.\n",
      "  warnings.warn(\n",
      "/Users/tomasstolker/applications/species/species/read/read_isochrone.py:1005: UserWarning: The value of logg is 3.407135965646942, which is below the lower bound of the model grid (3.5). Setting the magnitudes to NaN for the following isochrone sample: {'teff': 570.8634694648467, 'logg': 3.407135965646942, 'radius': 1.269118495295348, 'distance': 10.0}.\n",
      "  warnings.warn(\n",
      "/Users/tomasstolker/applications/species/species/read/read_isochrone.py:1005: UserWarning: The value of logg is 3.444507945285873, which is below the lower bound of the model grid (3.5). Setting the magnitudes to NaN for the following isochrone sample: {'teff': 586.5355899585918, 'logg': 3.444507945285873, 'radius': 1.2674322258801856, 'distance': 10.0}.\n",
      "  warnings.warn(\n",
      "/Users/tomasstolker/applications/species/species/read/read_isochrone.py:1005: UserWarning: The value of logg is 3.484580694074335, which is below the lower bound of the model grid (3.5). Setting the magnitudes to NaN for the following isochrone sample: {'teff': 603.3402910634309, 'logg': 3.484580694074335, 'radius': 1.2656240944588282, 'distance': 10.0}.\n",
      "  warnings.warn(\n"
     ]
    }
   ],
   "source": [
    "modelcolor2 = read_iso_dusty.get_color_magnitude(age=age,\n",
    "                                                 masses=masses,\n",
    "                                                 filters_color=('Paranal/SPHERE.IRDIS_D_H23_2', 'Paranal/SPHERE.IRDIS_D_H23_3'),\n",
    "                                                 filter_mag='Paranal/SPHERE.IRDIS_D_H23_2')"
   ]
  },
  {
   "cell_type": "markdown",
   "metadata": {},
   "source": [
    "Some warnings are printed for temperatures (i.e. masses) that are outside the grid of isochrone data and also when the log(g) from the isochrone data is outside the log(g) range of the grid with model spectra. In those case, the magnitudes and colors are set to NaN and will be ignored in the color-magnitude diagram."
   ]
  },
  {
   "cell_type": "markdown",
   "metadata": {},
   "source": [
    "## Selecting directly imaged planets"
   ]
  },
  {
   "cell_type": "markdown",
   "metadata": {},
   "source": [
    "We will also create a list with names of directly imaged planets and the filters for the magnitudes and colors that we want to plot. To get and overview of the available data in the database, it is possible to use the `list_companions` method of the `Database` object.\n",
    "\n",
    "In this case, we select a few of these directly imaged planets and brown dwarfs for which SPHERE H2 and H3 photometry are available in the database. For each companion, a tuple needs to be provided with the name (as used in the database), the filter names for the color, and the filter name for the magnitude."
   ]
  },
  {
   "cell_type": "code",
   "execution_count": 15,
   "metadata": {},
   "outputs": [],
   "source": [
    "objects = [('HIP 65426 b', 'Paranal/SPHERE.IRDIS_D_H23_2', 'Paranal/SPHERE.IRDIS_D_H23_3', 'Paranal/SPHERE.IRDIS_D_H23_2'),\n",
    "           ('HR 8799 b', 'Paranal/SPHERE.IRDIS_D_H23_2', 'Paranal/SPHERE.IRDIS_D_H23_3', 'Paranal/SPHERE.IRDIS_D_H23_2'),\n",
    "           ('HR 8799 d', 'Paranal/SPHERE.IRDIS_D_H23_2', 'Paranal/SPHERE.IRDIS_D_H23_3', 'Paranal/SPHERE.IRDIS_D_H23_2'),\n",
    "           ('PZ Tel B', 'Paranal/SPHERE.IRDIS_D_H23_2', 'Paranal/SPHERE.IRDIS_D_H23_3', 'Paranal/SPHERE.IRDIS_D_H23_2')]"
   ]
  },
  {
   "cell_type": "markdown",
   "metadata": {},
   "source": [
    "## Plotting a color-magnitude diagram"
   ]
  },
  {
   "cell_type": "markdown",
   "metadata": {},
   "source": [
    "Finally, we will create the color-magnitude diagram by providing the `ColorMagBox` objects as list to the `boxes` parameter of `plot_color_magnitude`. Further details on the various parameters of this function can be found in the [API documentation](https://species.readthedocs.io/en/latest/species.plot.html#species.plot.plot_color.plot_color_magnitude)."
   ]
  },
  {
   "cell_type": "code",
   "execution_count": 16,
   "metadata": {},
   "outputs": [
    {
     "name": "stdout",
     "output_type": "stream",
     "text": [
      "Plotting color-magnitude diagram..."
     ]
    },
    {
     "data": {
      "image/png": "[encoded data removed]",
      "text/plain": [
       "<Figure size 400x480 with 2 Axes>"
      ]
     },
     "metadata": {},
     "output_type": "display_data"
    },
    {
     "name": "stdout",
     "output_type": "stream",
     "text": [
      " [DONE]\n"
     ]
    }
   ],
   "source": [
    "fig = plot_color_magnitude(boxes=[colorbox, modelcolor1, modelcolor2],\n",
    "                                   objects=objects,\n",
    "                                   mass_labels={'ames-cond': [(3., 'left'), (5., 'left'), (10., 'right'), (20., 'left'), (50., 'left'), (100., 'left')],\n",
    "                                                'ames-dusty': [(7., 'right'), (10., 'right'), (20., 'right'), (50., 'right'), (100., 'right')]},\n",
    "                                   companion_labels=True,\n",
    "                                   field_range=('late M', 'late T'),\n",
    "                                   label_x=r'H2 $-$ H3',\n",
    "                                   label_y=r'M$_\\mathregular{H2}$',\n",
    "                                   xlim=(-2.7, 1.8),\n",
    "                                   ylim=(17.3, 7),\n",
    "                                   offset=(-0.07, -0.1),\n",
    "                                   legend=(0.08, 0.8),\n",
    "                                   output=None)"
   ]
  },
  {
   "cell_type": "markdown",
   "metadata": {},
   "source": [
    "The [plot_color_magnitude](https://species.readthedocs.io/en/latest/species.plot.html#species.plot.plot_color.plot_color_magnitude) function returned the [Figure](https://matplotlib.org/stable/api/figure_api.html#matplotlib.figure.Figure) object of the plot. The functionalities of [Matplotlib](https://matplotlib.org/stable/index.html) can be used for further customization of the plot. For example, the axes of the plot are stored at the `axes` attribute of `Figure`."
   ]
  },
  {
   "cell_type": "code",
   "execution_count": 17,
   "metadata": {},
   "outputs": [
    {
     "data": {
      "text/plain": [
       "[<Axes: xlabel='H2 $-$ H3', ylabel='M$_\\\\mathregular{H2}$'>, <Axes: >]"
      ]
     },
     "execution_count": 17,
     "metadata": {},
     "output_type": "execute_result"
    }
   ],
   "source": [
    "fig.axes"
   ]
  }
 ],
 "metadata": {
  "kernelspec": {
   "display_name": "Python 3 (ipykernel)",
   "language": "python",
   "name": "python3"
  },
  "language_info": {
   "codemirror_mode": {
    "name": "ipython",
    "version": 3
   },
   "file_extension": ".py",
   "mimetype": "text/x-python",
   "name": "python",
   "nbconvert_exporter": "python",
   "pygments_lexer": "ipython3",
   "version": "3.11.5"
  }
 },
 "nbformat": 4,
 "nbformat_minor": 4
}
